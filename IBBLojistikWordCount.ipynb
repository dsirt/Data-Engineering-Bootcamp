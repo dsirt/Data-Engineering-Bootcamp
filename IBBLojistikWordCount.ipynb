{
  "nbformat": 4,
  "nbformat_minor": 0,
  "metadata": {
    "colab": {
      "provenance": [],
      "authorship_tag": "ABX9TyOHR4+l0bFxeRYwqRPmcehg",
      "include_colab_link": true
    },
    "kernelspec": {
      "name": "python3",
      "display_name": "Python 3"
    },
    "language_info": {
      "name": "python"
    }
  },
  "cells": [
    {
      "cell_type": "markdown",
      "metadata": {
        "id": "view-in-github",
        "colab_type": "text"
      },
      "source": [
        "<a href=\"https://colab.research.google.com/github/dsirt/Data-Engineering-Bootcamp/blob/main/IBBLojistikWordCount.ipynb\" target=\"_parent\"><img src=\"https://colab.research.google.com/assets/colab-badge.svg\" alt=\"Open In Colab\"/></a>"
      ]
    },
    {
      "cell_type": "code",
      "execution_count": 2,
      "metadata": {
        "colab": {
          "base_uri": "https://localhost:8080/"
        },
        "id": "xldbqsBeP6qM",
        "outputId": "8bcc146c-ea14-44f3-82eb-16fe559cd26f"
      },
      "outputs": [
        {
          "output_type": "stream",
          "name": "stdout",
          "text": [
            "Requirement already satisfied: findspark in /usr/local/lib/python3.11/dist-packages (2.0.1)\n"
          ]
        }
      ],
      "source": [
        "!pip install findspark"
      ]
    },
    {
      "cell_type": "code",
      "source": [
        "import findspark\n",
        "findspark.init()"
      ],
      "metadata": {
        "id": "-JmlMpBkQCzl"
      },
      "execution_count": 3,
      "outputs": []
    },
    {
      "cell_type": "code",
      "source": [
        "from pyspark.sql import SparkSession\n",
        "from pyspark.conf import SparkConf"
      ],
      "metadata": {
        "id": "iEhUEVSJQEM9"
      },
      "execution_count": 4,
      "outputs": []
    },
    {
      "cell_type": "code",
      "source": [
        "spark = SparkSession.builder \\\n",
        ".master(\"local[4]\") \\\n",
        ".appName(\"giveatry\") \\\n",
        ".getOrCreate()"
      ],
      "metadata": {
        "id": "l50Sk6ecQGhB"
      },
      "execution_count": 5,
      "outputs": []
    },
    {
      "cell_type": "code",
      "source": [
        "sc = spark.sparkContext"
      ],
      "metadata": {
        "id": "j8OOyvOJQU-c"
      },
      "execution_count": 6,
      "outputs": []
    },
    {
      "cell_type": "code",
      "source": [
        "veri_seti = \"/content/ibb_lojistik2.txt\""
      ],
      "metadata": {
        "id": "dahhlWG5QWBr"
      },
      "execution_count": 7,
      "outputs": []
    },
    {
      "cell_type": "code",
      "source": [
        "istac_rdd = sc.textFile(veri_seti)"
      ],
      "metadata": {
        "id": "okuhb24OQtPO"
      },
      "execution_count": 8,
      "outputs": []
    },
    {
      "cell_type": "code",
      "source": [
        "istac_rdd.count()"
      ],
      "metadata": {
        "colab": {
          "base_uri": "https://localhost:8080/"
        },
        "id": "iRBbC6uXQv0V",
        "outputId": "f384fb2b-1cc1-4301-8797-181f58d419a0"
      },
      "execution_count": 10,
      "outputs": [
        {
          "output_type": "execute_result",
          "data": {
            "text/plain": [
              "4"
            ]
          },
          "metadata": {},
          "execution_count": 10
        }
      ]
    },
    {
      "cell_type": "code",
      "source": [
        "istac_rdd.take(5)"
      ],
      "metadata": {
        "colab": {
          "base_uri": "https://localhost:8080/"
        },
        "id": "iZEvmgOaQ0TB",
        "outputId": "41fbcf06-9bd5-41ce-ef3c-4201da8d0aa9"
      },
      "execution_count": 11,
      "outputs": [
        {
          "output_type": "execute_result",
          "data": {
            "text/plain": [
              "[\"Günümüz yaşam koşullarının etkisiyle insan ve yük hareketliliği hızla artmaktadır. Kentsel yaşamdaki günlük ihtiyaçların karşılanması bakımından zorunlu hale gelen yük taşımacılığı, insan yaşamı üzerinde çeşitli sosyal ve çevresel etkilere neden olmaktadır. Özellikle büyük şehirlerde hızlı nüfus artışıyla ortaya çıkan ihtiyaçların, kısa sürelerde giderilmesi çabası ulaştırma hizmetlerini zorlaştırmaktadır. Karayolu yolcu ve yük taşımacılığında, son otuz yılda diğer türler ile yapılan taşımacılıklara kıyasla hızlı bir gelişme olmuş, bu dengesiz gelişmenin sonucu olarak karayolu taşımasının payı her iki taşıma için hızla artarak %90'ın üzerine çıkmıştır.  Özellikle İstanbul, sahip olduğu nüfus ve ekonomik potansiyel nedeniyle bu hızlı gelişimden en çok etkilenen illerden biridir. Bu gerekçeyle; şehirdeki yük hareketlerinin oluşturduğu trafik sıkışıklıkları, erişim kısıtlamaları, park sorunları, emisyonlar gibi ekonomik, sosyal ve çevresel etkiler göz önüne alınarak bir kentsel lojistik planlama yapılması ihtiyacı doğmuştur. \",\n",
              " 'Lojistik alanında yapılan yatırımlardan en fazla yararın elde edilmesi. Ancak hedef ve amaçların iyi belirlenmesi, Yapılan yatırımlar ile elde edilecek yararların maliyetlerle dengesinin sağlanması, Yatırımları yapacak olan kuruluşların yatırım güçlerinin göz önünde tutulması, Lojistik unsurlar içindeki entegrasyonun sağlanması,  Lojistik konusunda geleceğe yönelik taleplerin doğru kestirilebilmesine bağlıdır.  Diğer yanda limanlar, demiryolları, karayolları ve bunların tesisleri ile depolama alanları kent coğrafyası içinde yer bulmakta, kent içinde birçok kentsel kullanım ile birlikte yer almaktadır.  Diğer kentsel kullanımlarla birlikte kent içinde yer alan lojistik yatırımların diğer kentsel kullanımlara ve kentsel yaşama olumsuz etkilerinin bertaraf edilmesi kapsamlı bir mekânsal planlama ile sağlanabilir.  Bu amacın gerçekleşmesi ise ancak kapsamlı bir “Lojistik Ana Planı” ile mümkün görünmektedir. Böyle bir Planın gerektirdiği araştırma, analiz, eylem planı ve değerlendirme raporuyla bu çalışmanın altyapısının oluşturulması hedeflenmektedir. ',\n",
              " 'İstanbul Lojistik Ana Planı İşi Kapsamında Araç Sayımına Yönelik Saha Çalışması Yapılarak Veri Alımı Hizmeti İşinin amacı, İstanbul’un lojistik hareketliliğine dair elde edilecek verilerle İSTLAP’a bilimsel altlık oluşturmaktır. Çalışmada Teknik Şartname ile lokasyonları belirlenen lojistik odaklarda, perde-kordonlarda trafik sayımı ve anketler gerçekleştirilmiştir. ',\n",
              " 'İstanbul Lojistik Ana Planı İşi Kapsamında Araç Sayımına Yönelik Saha Çalışması Yapılarak Veri Alımı Hizmeti İşinin amacı, İstanbul’un lojistik hareketliliğine dair elde edilecek verilerle İSTLAP’a bilimsel altlık oluşturmaktır. Çalışmada Teknik Şartname ile lokasyonları belirlenen lojistik odaklarda, perde-kordonlarda trafik sayımı ve anketler gerçekleştirilmiştir. 1 Bu şekilde İstanbul’un lojistik altyapısının kente ve kentlilere olan sosyal, ekonomik, politik ve teknolojik etkileri belirlenerek tespit edilen sorunların çözümüne yönelik strateji ve öneriler geliştirilecektir. Kısa, orta ve uzun dönemli oluşturulacak eylem planlarıyla bir yandan sağlıklı mekânsal gelişim sağlanırken diğer yandan İstanbul Ulaşım Ana Planı’na entegre bir gelişim sağlanacaktır. Çalışmada hızlı ve doğru bir veri kümesine ulaşmak için hazırlık aşamasından başlayarak veri teslimine kadar olan süreçler önceden belirlenmiş metodoloji ve iş planına uygun şekilde gerçekleştirilmiştir. Çalışma kapsamında, İstanbul’da yük taşıyan araç trafiği düzeyinin belirlenerek lojistik atama modelinde kullanılmak üzere, İstanbul, Gebze ve Dilovası’nda yer alan belirli lojistik odak ve terminallerin yoğunlaştığı bölgelerin giriş- çıkışlarında, İstanbul trafiğini temsil eden perdekordon hatlarında gerçekleştirilmiştir THIS IS THE NEW CONTENT APPENDED IN THE FILE']"
            ]
          },
          "metadata": {},
          "execution_count": 11
        }
      ]
    },
    {
      "cell_type": "code",
      "source": [
        "istac_rdd_kelimeler = istac_rdd.flatMap(lambda satir : satir.split(\" \"))"
      ],
      "metadata": {
        "id": "baMJl3qoQ-3l"
      },
      "execution_count": 12,
      "outputs": []
    },
    {
      "cell_type": "code",
      "source": [
        "istac_rdd_kelimeler.take(20)"
      ],
      "metadata": {
        "colab": {
          "base_uri": "https://localhost:8080/"
        },
        "id": "za-RrUr2RBCI",
        "outputId": "4ccc0bab-b427-4e32-833b-b41a1dac4b4b"
      },
      "execution_count": 14,
      "outputs": [
        {
          "output_type": "execute_result",
          "data": {
            "text/plain": [
              "['Günümüz',\n",
              " 'yaşam',\n",
              " 'koşullarının',\n",
              " 'etkisiyle',\n",
              " 'insan',\n",
              " 've',\n",
              " 'yük',\n",
              " 'hareketliliği',\n",
              " 'hızla',\n",
              " 'artmaktadır.',\n",
              " 'Kentsel',\n",
              " 'yaşamdaki',\n",
              " 'günlük',\n",
              " 'ihtiyaçların',\n",
              " 'karşılanması',\n",
              " 'bakımından',\n",
              " 'zorunlu',\n",
              " 'hale',\n",
              " 'gelen',\n",
              " 'yük']"
            ]
          },
          "metadata": {},
          "execution_count": 14
        }
      ]
    },
    {
      "cell_type": "code",
      "source": [
        "istac_rdd_kelimeler_sayilari = istac_rdd_kelimeler.map(lambda kelime : (kelime, 1))"
      ],
      "metadata": {
        "id": "2sNxw8-xRCn0"
      },
      "execution_count": 15,
      "outputs": []
    },
    {
      "cell_type": "code",
      "source": [
        "istac_rdd_kelimeler_sayilari.take(20)"
      ],
      "metadata": {
        "colab": {
          "base_uri": "https://localhost:8080/"
        },
        "id": "iH3fR2FuRFIe",
        "outputId": "0dd3b278-5bfe-4c75-ddc6-d29bdd9081ad"
      },
      "execution_count": 16,
      "outputs": [
        {
          "output_type": "execute_result",
          "data": {
            "text/plain": [
              "[('Günümüz', 1),\n",
              " ('yaşam', 1),\n",
              " ('koşullarının', 1),\n",
              " ('etkisiyle', 1),\n",
              " ('insan', 1),\n",
              " ('ve', 1),\n",
              " ('yük', 1),\n",
              " ('hareketliliği', 1),\n",
              " ('hızla', 1),\n",
              " ('artmaktadır.', 1),\n",
              " ('Kentsel', 1),\n",
              " ('yaşamdaki', 1),\n",
              " ('günlük', 1),\n",
              " ('ihtiyaçların', 1),\n",
              " ('karşılanması', 1),\n",
              " ('bakımından', 1),\n",
              " ('zorunlu', 1),\n",
              " ('hale', 1),\n",
              " ('gelen', 1),\n",
              " ('yük', 1)]"
            ]
          },
          "metadata": {},
          "execution_count": 16
        }
      ]
    },
    {
      "cell_type": "code",
      "source": [
        "istac_rdd_kelimeler_sayilari_reduce = istac_rdd_kelimeler_sayilari.reduceByKey(lambda x, y : (x + y))"
      ],
      "metadata": {
        "id": "imB4GRsGRH5p"
      },
      "execution_count": 17,
      "outputs": []
    },
    {
      "cell_type": "code",
      "source": [
        "istac_rdd_kelimeler_sayilari_reduce.take(20)"
      ],
      "metadata": {
        "colab": {
          "base_uri": "https://localhost:8080/"
        },
        "id": "lP_Xc5AiRKee",
        "outputId": "227ffec0-16db-4f70-ca29-7602d1839c60"
      },
      "execution_count": 19,
      "outputs": [
        {
          "output_type": "execute_result",
          "data": {
            "text/plain": [
              "[('Günümüz', 1),\n",
              " ('yaşam', 1),\n",
              " ('koşullarının', 1),\n",
              " ('etkisiyle', 1),\n",
              " ('artmaktadır.', 1),\n",
              " ('yaşamdaki', 1),\n",
              " ('günlük', 1),\n",
              " ('ihtiyaçların', 1),\n",
              " ('zorunlu', 1),\n",
              " ('gelen', 1),\n",
              " ('yaşamı', 1),\n",
              " ('sosyal', 2),\n",
              " ('çevresel', 2),\n",
              " ('nüfus', 2),\n",
              " ('ortaya', 1),\n",
              " ('çıkan', 1),\n",
              " ('ihtiyaçların,', 1),\n",
              " ('sürelerde', 1),\n",
              " ('giderilmesi', 1),\n",
              " ('çabası', 1)]"
            ]
          },
          "metadata": {},
          "execution_count": 19
        }
      ]
    },
    {
      "cell_type": "code",
      "source": [
        "istac_rdd_kelimeler_sayilari_reduce_sort = istac_rdd_kelimeler_sayilari_reduce.map(lambda x: (x[1], x[0]))"
      ],
      "metadata": {
        "id": "uTlupiemRNtr"
      },
      "execution_count": 20,
      "outputs": []
    },
    {
      "cell_type": "code",
      "source": [
        "istac_rdd_kelimeler_sayilari_reduce_sort.take(20)"
      ],
      "metadata": {
        "colab": {
          "base_uri": "https://localhost:8080/"
        },
        "id": "5-vG9o5_RRNk",
        "outputId": "9597e334-22f7-4178-d53e-c0f7380b1a98"
      },
      "execution_count": 21,
      "outputs": [
        {
          "output_type": "execute_result",
          "data": {
            "text/plain": [
              "[(1, 'Günümüz'),\n",
              " (1, 'yaşam'),\n",
              " (1, 'koşullarının'),\n",
              " (1, 'etkisiyle'),\n",
              " (1, 'artmaktadır.'),\n",
              " (1, 'yaşamdaki'),\n",
              " (1, 'günlük'),\n",
              " (1, 'ihtiyaçların'),\n",
              " (1, 'zorunlu'),\n",
              " (1, 'gelen'),\n",
              " (1, 'yaşamı'),\n",
              " (2, 'sosyal'),\n",
              " (2, 'çevresel'),\n",
              " (2, 'nüfus'),\n",
              " (1, 'ortaya'),\n",
              " (1, 'çıkan'),\n",
              " (1, 'ihtiyaçların,'),\n",
              " (1, 'sürelerde'),\n",
              " (1, 'giderilmesi'),\n",
              " (1, 'çabası')]"
            ]
          },
          "metadata": {},
          "execution_count": 21
        }
      ]
    },
    {
      "cell_type": "code",
      "source": [
        "istac_rdd_kelimeler_sayilari_reduce_sort.sortByKey(False).take(20)"
      ],
      "metadata": {
        "colab": {
          "base_uri": "https://localhost:8080/"
        },
        "id": "Ixs3sovURVXO",
        "outputId": "def8d340-e79f-4774-b14f-c91ad79bd345"
      },
      "execution_count": 22,
      "outputs": [
        {
          "output_type": "execute_result",
          "data": {
            "text/plain": [
              "[(19, 've'),\n",
              " (9, 'lojistik'),\n",
              " (8, 'ile'),\n",
              " (8, ''),\n",
              " (8, 'bir'),\n",
              " (5, 'Lojistik'),\n",
              " (5, 'yük'),\n",
              " (5, 'kentsel'),\n",
              " (4, 'elde'),\n",
              " (4, 'İstanbul'),\n",
              " (4, 'hızlı'),\n",
              " (4, 'yer'),\n",
              " (4, 'Ana'),\n",
              " (3, 'diğer'),\n",
              " (3, 'içinde'),\n",
              " (3, 'İstanbul’un'),\n",
              " (3, 'gerçekleştirilmiştir.'),\n",
              " (3, 'bu'),\n",
              " (3, 'Bu'),\n",
              " (3, 'trafik')]"
            ]
          },
          "metadata": {},
          "execution_count": 22
        }
      ]
    }
  ]
}