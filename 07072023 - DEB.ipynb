{
 "cells": [
  {
   "cell_type": "code",
   "execution_count": 0,
   "metadata": {
    "application/vnd.databricks.v1+cell": {
     "cellMetadata": {
      "byteLimit": 2048000,
      "rowLimit": 10000
     },
     "inputWidgets": {},
     "nuid": "f3d15c17-ad36-413b-8002-b15e76f32ef6",
     "showTitle": false,
     "title": ""
    }
   },
   "outputs": [],
   "source": [
    "from pyspark.sql import SparkSession\n",
    "\n",
    "spark = SparkSession \\\n",
    "    .builder \\\n",
    "    .appName('DT Classification with Pyspark') \\\n",
    "    .getOrCreate()"
   ]
  },
  {
   "cell_type": "code",
   "execution_count": 0,
   "metadata": {
    "application/vnd.databricks.v1+cell": {
     "cellMetadata": {
      "byteLimit": 2048000,
      "rowLimit": 10000
     },
     "inputWidgets": {},
     "nuid": "58147706-3393-4575-b81d-7f1033d05fab",
     "showTitle": false,
     "title": ""
    }
   },
   "outputs": [
    {
     "output_type": "stream",
     "name": "stdout",
     "output_type": "stream",
     "text": [
      "+-------------+----------------+-----------+--------------+---------+-------------------+--------------------+-------+----+---------+-------+-------+\n|fixed acidity|volatile acidity|citric acid|residual sugar|chlorides|free sulfur dioxide|total sulfur dioxide|density|  pH|sulphates|alcohol|quality|\n+-------------+----------------+-----------+--------------+---------+-------------------+--------------------+-------+----+---------+-------+-------+\n|          7.4|             0.7|        0.0|           1.9|    0.076|               11.0|                34.0| 0.9978|3.51|     0.56|    9.4|      5|\n|          7.8|            0.88|        0.0|           2.6|    0.098|               25.0|                67.0| 0.9968| 3.2|     0.68|    9.8|      5|\n|          7.8|            0.76|       0.04|           2.3|    0.092|               15.0|                54.0|  0.997|3.26|     0.65|    9.8|      5|\n|         11.2|            0.28|       0.56|           1.9|    0.075|               17.0|                60.0|  0.998|3.16|     0.58|    9.8|      6|\n|          7.4|             0.7|        0.0|           1.9|    0.076|               11.0|                34.0| 0.9978|3.51|     0.56|    9.4|      5|\n+-------------+----------------+-----------+--------------+---------+-------------------+--------------------+-------+----+---------+-------+-------+\nonly showing top 5 rows\n\n"
     ]
    }
   ],
   "source": [
    "df = spark.read.format('delta').\\\n",
    "    options(header = 'true', inferschema = 'true')\\\n",
    "    .load(\"/user/hive/warehouse/wine_data\", header = 'True')\n",
    "\n",
    "df.show(5, True)"
   ]
  },
  {
   "cell_type": "code",
   "execution_count": 0,
   "metadata": {
    "application/vnd.databricks.v1+cell": {
     "cellMetadata": {
      "byteLimit": 2048000,
      "rowLimit": 10000
     },
     "inputWidgets": {},
     "nuid": "94e0079a-f8ca-4a44-bdaf-6c1a6f9d55b0",
     "showTitle": false,
     "title": ""
    }
   },
   "outputs": [],
   "source": [
    "def condition(r):\n",
    "\n",
    "    if (0 <= r <= 4):\n",
    "        label = 'low'\n",
    "    \n",
    "    elif (4 < r <= 6):\n",
    "        label = 'medium'\n",
    "\n",
    "    else:\n",
    "        label = 'high'\n",
    "    \n",
    "    return label\n",
    "\n",
    "def string_to_float(x):\n",
    "    return float(x)"
   ]
  },
  {
   "cell_type": "code",
   "execution_count": 0,
   "metadata": {
    "application/vnd.databricks.v1+cell": {
     "cellMetadata": {
      "byteLimit": 2048000,
      "rowLimit": 10000
     },
     "inputWidgets": {},
     "nuid": "7d5655dc-1e61-41cb-95a2-5dbb31bac004",
     "showTitle": false,
     "title": ""
    }
   },
   "outputs": [
    {
     "output_type": "stream",
     "name": "stdout",
     "output_type": "stream",
     "text": [
      "+-------------+----------------+-----------+--------------+---------+-------------------+--------------------+-------+----+---------+-------+-------+\n|fixed acidity|volatile acidity|citric acid|residual sugar|chlorides|free sulfur dioxide|total sulfur dioxide|density|  pH|sulphates|alcohol|quality|\n+-------------+----------------+-----------+--------------+---------+-------------------+--------------------+-------+----+---------+-------+-------+\n|          7.4|             0.7|        0.0|           1.9|    0.076|               11.0|                34.0| 0.9978|3.51|     0.56|    9.4| medium|\n|          7.8|            0.88|        0.0|           2.6|    0.098|               25.0|                67.0| 0.9968| 3.2|     0.68|    9.8| medium|\n|          7.8|            0.76|       0.04|           2.3|    0.092|               15.0|                54.0|  0.997|3.26|     0.65|    9.8| medium|\n|         11.2|            0.28|       0.56|           1.9|    0.075|               17.0|                60.0|  0.998|3.16|     0.58|    9.8| medium|\n|          7.4|             0.7|        0.0|           1.9|    0.076|               11.0|                34.0| 0.9978|3.51|     0.56|    9.4| medium|\n+-------------+----------------+-----------+--------------+---------+-------------------+--------------------+-------+----+---------+-------+-------+\nonly showing top 5 rows\n\nroot\n |-- fixed acidity: double (nullable = true)\n |-- volatile acidity: double (nullable = true)\n |-- citric acid: double (nullable = true)\n |-- residual sugar: double (nullable = true)\n |-- chlorides: double (nullable = true)\n |-- free sulfur dioxide: double (nullable = true)\n |-- total sulfur dioxide: double (nullable = true)\n |-- density: double (nullable = true)\n |-- pH: double (nullable = true)\n |-- sulphates: double (nullable = true)\n |-- alcohol: double (nullable = true)\n |-- quality: string (nullable = true)\n\n"
     ]
    }
   ],
   "source": [
    "from pyspark.sql.functions import udf\n",
    "from pyspark.sql.types import StringType, DoubleType\n",
    "string_to_float_udf = udf(string_to_float, DoubleType())\n",
    "quality_udf = udf(lambda x : condition(x), StringType())\n",
    "\n",
    "df = df.withColumn(\"quality\", quality_udf(\"quality\"))\n",
    "df.show(5, True)\n",
    "df.printSchema()"
   ]
  },
  {
   "cell_type": "code",
   "execution_count": 0,
   "metadata": {
    "application/vnd.databricks.v1+cell": {
     "cellMetadata": {
      "byteLimit": 2048000,
      "rowLimit": 10000
     },
     "inputWidgets": {},
     "nuid": "e901a1c2-5057-439a-9d64-705a6558d4a4",
     "showTitle": false,
     "title": ""
    }
   },
   "outputs": [],
   "source": [
    "from pyspark.ml.linalg import Vectors\n",
    "from pyspark.ml import Pipeline\n",
    "from pyspark.ml.feature import VectorIndexer, StringIndexer, IndexToString\n",
    "from pyspark.ml.tuning import CrossValidator, ParamGridBuilder\n",
    "from pyspark.ml.evaluation import MulticlassClassificationEvaluator"
   ]
  },
  {
   "cell_type": "code",
   "execution_count": 0,
   "metadata": {
    "application/vnd.databricks.v1+cell": {
     "cellMetadata": {
      "byteLimit": 2048000,
      "rowLimit": 10000
     },
     "inputWidgets": {},
     "nuid": "0ab7201a-2d0e-4c77-9470-7fa7e86414b1",
     "showTitle": false,
     "title": ""
    }
   },
   "outputs": [
    {
     "output_type": "stream",
     "name": "stdout",
     "output_type": "stream",
     "text": [
      "+--------------------+------+\n|            features| label|\n+--------------------+------+\n|[7.4,0.7,0.0,1.9,...|medium|\n|[7.8,0.88,0.0,2.6...|medium|\n|[7.8,0.76,0.04,2....|medium|\n|[11.2,0.28,0.56,1...|medium|\n|[7.4,0.7,0.0,1.9,...|medium|\n+--------------------+------+\nonly showing top 5 rows\n\n"
     ]
    }
   ],
   "source": [
    "def transData(data):\n",
    "    return data.rdd.map(lambda r : [Vectors.dense(r[:-1]), r[-1]]).toDF(['features', 'label'])\n",
    "\n",
    "transformed = transData(df)\n",
    "transformed.show(5, True)"
   ]
  },
  {
   "cell_type": "code",
   "execution_count": 0,
   "metadata": {
    "application/vnd.databricks.v1+cell": {
     "cellMetadata": {
      "byteLimit": 2048000,
      "rowLimit": 10000
     },
     "inputWidgets": {},
     "nuid": "868d5e28-b937-44ae-9806-8f5be2811d21",
     "showTitle": false,
     "title": ""
    }
   },
   "outputs": [
    {
     "output_type": "stream",
     "name": "stdout",
     "output_type": "stream",
     "text": [
      "+--------------------+------+------------+\n|            features| label|indexedLabel|\n+--------------------+------+------------+\n|[7.4,0.7,0.0,1.9,...|medium|         0.0|\n|[7.8,0.88,0.0,2.6...|medium|         0.0|\n|[7.8,0.76,0.04,2....|medium|         0.0|\n|[11.2,0.28,0.56,1...|medium|         0.0|\n|[7.4,0.7,0.0,1.9,...|medium|         0.0|\n+--------------------+------+------------+\nonly showing top 5 rows\n\n+--------------------+------+--------------------+\n|            features| label|     indexedFeatures|\n+--------------------+------+--------------------+\n|[7.4,0.7,0.0,1.9,...|medium|[7.4,0.7,0.0,1.9,...|\n|[7.8,0.88,0.0,2.6...|medium|[7.8,0.88,0.0,2.6...|\n|[7.8,0.76,0.04,2....|medium|[7.8,0.76,0.04,2....|\n|[11.2,0.28,0.56,1...|medium|[11.2,0.28,0.56,1...|\n|[7.4,0.7,0.0,1.9,...|medium|[7.4,0.7,0.0,1.9,...|\n+--------------------+------+--------------------+\nonly showing top 5 rows\n\n"
     ]
    }
   ],
   "source": [
    "from pyspark.ml.feature import VectorIndexer, StringIndexer, IndexToString\n",
    "labelIndexer = StringIndexer(inputCol = 'label', outputCol = 'indexedLabel').fit(transformed)\n",
    "labelIndexer.transform(transformed).show(5, True)\n",
    "\n",
    "featureIndexer = VectorIndexer(inputCol = 'features', outputCol = 'indexedFeatures', maxCategories = 4).fit(transformed)\n",
    "featureIndexer.transform(transformed).show(5)"
   ]
  },
  {
   "cell_type": "code",
   "execution_count": 0,
   "metadata": {
    "application/vnd.databricks.v1+cell": {
     "cellMetadata": {
      "byteLimit": 2048000,
      "rowLimit": 10000
     },
     "inputWidgets": {},
     "nuid": "deaaac02-911b-4b25-b911-85b64ccca90b",
     "showTitle": false,
     "title": ""
    }
   },
   "outputs": [
    {
     "output_type": "stream",
     "name": "stdout",
     "output_type": "stream",
     "text": [
      "+--------------------+------+\n|            features| label|\n+--------------------+------+\n|[4.7,0.6,0.17,2.3...|medium|\n|[5.0,0.4,0.5,4.3,...|medium|\n|[5.0,1.02,0.04,1....|   low|\n|[5.1,0.42,0.0,1.8...|  high|\n|[5.1,0.47,0.02,1....|medium|\n+--------------------+------+\nonly showing top 5 rows\n\n+--------------------+------+\n|            features| label|\n+--------------------+------+\n|[4.6,0.52,0.15,2....|   low|\n|[4.9,0.42,0.0,2.1...|  high|\n|[5.0,0.38,0.01,1....|medium|\n|[5.0,0.42,0.24,2....|  high|\n|[5.0,0.74,0.0,1.2...|medium|\n+--------------------+------+\nonly showing top 5 rows\n\n"
     ]
    }
   ],
   "source": [
    "(trainingData, testData) = transformed.randomSplit([0.6, 0.4])\n",
    "trainingData.show(5)\n",
    "testData.show(5)"
   ]
  },
  {
   "cell_type": "code",
   "execution_count": 0,
   "metadata": {
    "application/vnd.databricks.v1+cell": {
     "cellMetadata": {
      "byteLimit": 2048000,
      "rowLimit": 10000
     },
     "inputWidgets": {},
     "nuid": "9a662b20-9125-44da-b02f-578f38593ac7",
     "showTitle": false,
     "title": ""
    }
   },
   "outputs": [],
   "source": [
    "from pyspark.ml.classification import DecisionTreeClassifier\n",
    "\n",
    "dTree = DecisionTreeClassifier(labelCol = 'indexedLabel', featuresCol = 'indexedFeatures')\n"
   ]
  },
  {
   "cell_type": "code",
   "execution_count": 0,
   "metadata": {
    "application/vnd.databricks.v1+cell": {
     "cellMetadata": {
      "byteLimit": 2048000,
      "rowLimit": 10000
     },
     "inputWidgets": {},
     "nuid": "e77f4f4d-6d5d-498c-b199-bbc65a887b75",
     "showTitle": false,
     "title": ""
    }
   },
   "outputs": [
    {
     "output_type": "stream",
     "name": "stdout",
     "output_type": "stream",
     "text": [
      "+--------------------+------+--------------+\n|            features| label|predictedLabel|\n+--------------------+------+--------------+\n|[4.6,0.52,0.15,2....|   low|        medium|\n|[4.9,0.42,0.0,2.1...|  high|          high|\n|[5.0,0.38,0.01,1....|medium|        medium|\n|[5.0,0.42,0.24,2....|  high|        medium|\n|[5.0,0.74,0.0,1.2...|medium|        medium|\n+--------------------+------+--------------+\nonly showing top 5 rows\n\n"
     ]
    }
   ],
   "source": [
    "#Pipeline Architecture\n",
    "\n",
    "labelConverter = IndexToString(inputCol = \"prediction\", outputCol = 'predictedLabel', labels = labelIndexer.labels)\n",
    "\n",
    "pipeline = Pipeline(stages = [labelIndexer, featureIndexer, dTree, labelConverter])\n",
    "\n",
    "model = pipeline.fit(trainingData)\n",
    "\n",
    "predictions = model.transform(testData)\n",
    "\n",
    "predictions.select('features', 'label', \"predictedLabel\").show(5)"
   ]
  },
  {
   "cell_type": "code",
   "execution_count": 0,
   "metadata": {
    "application/vnd.databricks.v1+cell": {
     "cellMetadata": {
      "byteLimit": 2048000,
      "rowLimit": 10000
     },
     "inputWidgets": {},
     "nuid": "c3835922-34b3-422b-9eab-cc039a3eb10b",
     "showTitle": false,
     "title": ""
    }
   },
   "outputs": [
    {
     "output_type": "stream",
     "name": "stdout",
     "output_type": "stream",
     "text": [
      "Test Error = 0.176568\nDecisionTreeClassificationModel: uid=DecisionTreeClassifier_ffed2db639de, depth=5, numNodes=45, numClasses=3, numFeatures=11\n"
     ]
    }
   ],
   "source": [
    "#Evaluation\n",
    "\n",
    "from pyspark.ml.evaluation import MulticlassClassificationEvaluator\n",
    "\n",
    "evaluator = MulticlassClassificationEvaluator(labelCol = 'indexedLabel', predictionCol = 'prediction', metricName = 'accuracy')\n",
    "accuracy = evaluator.evaluate(predictions)\n",
    "print(\"Test Error = %g\" % (1.0 - accuracy))\n",
    "\n",
    "rfModel = model.stages[-2]\n",
    "print(rfModel)"
   ]
  },
  {
   "cell_type": "code",
   "execution_count": 0,
   "metadata": {
    "application/vnd.databricks.v1+cell": {
     "cellMetadata": {
      "byteLimit": 2048000,
      "rowLimit": 10000
     },
     "inputWidgets": {},
     "nuid": "6833e1ff-494c-4169-95d4-5b239c85105d",
     "showTitle": false,
     "title": ""
    }
   },
   "outputs": [
    {
     "output_type": "stream",
     "name": "stdout",
     "output_type": "stream",
     "text": [
      "Out[25]: array([[ 41,   0,  49],\n       [  2,   2,  21],\n       [ 24,  11, 456]])"
     ]
    }
   ],
   "source": [
    "from sklearn.metrics import confusion_matrix\n",
    "\n",
    "y_true = predictions.select(\"label\")\n",
    "y_true = y_true.toPandas()\n",
    "\n",
    "y_pred = predictions.select(\"predictedLabel\")\n",
    "y_pred = y_pred.toPandas()\n",
    "\n",
    "cnf_matrix = confusion_matrix(y_true, y_pred)\n",
    "cnf_matrix"
   ]
  },
  {
   "cell_type": "code",
   "execution_count": 0,
   "metadata": {
    "application/vnd.databricks.v1+cell": {
     "cellMetadata": {
      "byteLimit": 2048000,
      "rowLimit": 10000
     },
     "inputWidgets": {},
     "nuid": "8a680ba0-111a-49a2-b391-bb8120f35362",
     "showTitle": false,
     "title": ""
    }
   },
   "outputs": [],
   "source": [
    "#K-Means Clustering\n",
    "\n",
    "from pyspark.sql import SparkSession\n",
    "\n",
    "spark = SparkSession \\\n",
    "    .builder \\\n",
    "    .appName('K-Means Clustering with Pyspark') \\\n",
    "    .getOrCreate()"
   ]
  },
  {
   "cell_type": "code",
   "execution_count": 0,
   "metadata": {
    "application/vnd.databricks.v1+cell": {
     "cellMetadata": {
      "byteLimit": 2048000,
      "rowLimit": 10000
     },
     "inputWidgets": {},
     "nuid": "6e54fc03-623c-4718-a168-43dcf637dc5a",
     "showTitle": false,
     "title": ""
    }
   },
   "outputs": [
    {
     "output_type": "stream",
     "name": "stdout",
     "output_type": "stream",
     "text": [
      "+------------+-------------+-------------+------------+------+\n|sepal-length| sepal-length| petal-length| petal-width| Class|\n+------------+-------------+-------------+------------+------+\n|           1|          5.1|          3.5|         1.4|   0.2|\n|           2|          4.9|          3.0|         1.4|   0.2|\n|           3|          4.7|          3.2|         1.3|   0.2|\n|           4|          4.6|          3.1|         1.5|   0.2|\n|           5|          5.0|          3.6|         1.4|   0.2|\n+------------+-------------+-------------+------------+------+\nonly showing top 5 rows\n\nroot\n |-- sepal-length: long (nullable = true)\n |--  sepal-length: double (nullable = true)\n |--  petal-length: double (nullable = true)\n |--  petal-width: double (nullable = true)\n |--  Class: double (nullable = true)\n\n"
     ]
    }
   ],
   "source": [
    "df = spark.read.format('delta').\\\n",
    "    options(header = 'true', inferschema = 'true')\\\n",
    "    .load(\"/user/hive/warehouse/iris\", header = 'True')\n",
    "\n",
    "df.show(5)\n",
    "df.printSchema()"
   ]
  },
  {
   "cell_type": "code",
   "execution_count": 0,
   "metadata": {
    "application/vnd.databricks.v1+cell": {
     "cellMetadata": {
      "byteLimit": 2048000,
      "rowLimit": 10000
     },
     "inputWidgets": {},
     "nuid": "adf73705-4d14-409d-b218-e38ab63dfb9a",
     "showTitle": false,
     "title": ""
    }
   },
   "outputs": [
    {
     "output_type": "stream",
     "name": "stdout",
     "output_type": "stream",
     "text": [
      "+-------+------------------+------------------+-------------------+------------------+------------------+\n|summary|      sepal-length|      sepal-length|       petal-length|       petal-width|             Class|\n+-------+------------------+------------------+-------------------+------------------+------------------+\n|  count|               150|               150|                150|               150|               150|\n|   mean|              75.5| 5.843333333333335| 3.0540000000000007|3.7586666666666693|1.1986666666666672|\n| stddev|43.445367992456916|0.8280661279778637|0.43359431136217375| 1.764420419952262|0.7631607417008414|\n|    min|                 1|               4.3|                2.0|               1.0|               0.1|\n|    max|               150|               7.9|                4.4|               6.9|               2.5|\n+-------+------------------+------------------+-------------------+------------------+------------------+\n\n"
     ]
    }
   ],
   "source": [
    "df.describe().show()"
   ]
  },
  {
   "cell_type": "code",
   "execution_count": 0,
   "metadata": {
    "application/vnd.databricks.v1+cell": {
     "cellMetadata": {
      "byteLimit": 2048000,
      "rowLimit": 10000
     },
     "inputWidgets": {},
     "nuid": "d403a0ec-7af7-4905-82cd-70d539181064",
     "showTitle": false,
     "title": ""
    }
   },
   "outputs": [
    {
     "output_type": "stream",
     "name": "stdout",
     "output_type": "stream",
     "text": [
      "+-----------------+\n|         features|\n+-----------------+\n|[1.0,5.1,3.5,1.4]|\n|[2.0,4.9,3.0,1.4]|\n|[3.0,4.7,3.2,1.3]|\n|[4.0,4.6,3.1,1.5]|\n|[5.0,5.0,3.6,1.4]|\n+-----------------+\nonly showing top 5 rows\n\n"
     ]
    }
   ],
   "source": [
    "def transData(data):\n",
    "    return data.rdd.map(lambda r : [Vectors.dense(r[:-1])]).toDF(['features'])\n",
    "\n",
    "transformed = transData(df)\n",
    "transformed.show(5, True)"
   ]
  },
  {
   "cell_type": "code",
   "execution_count": 0,
   "metadata": {
    "application/vnd.databricks.v1+cell": {
     "cellMetadata": {
      "byteLimit": 2048000,
      "rowLimit": 10000
     },
     "inputWidgets": {},
     "nuid": "5374acbb-fbb9-4206-ac58-91732ea48e44",
     "showTitle": false,
     "title": ""
    }
   },
   "outputs": [
    {
     "output_type": "stream",
     "name": "stdout",
     "output_type": "stream",
     "text": [
      "+-----------------+-----------------+\n|         features|  indexedFeatures|\n+-----------------+-----------------+\n|[1.0,5.1,3.5,1.4]|[1.0,5.1,3.5,1.4]|\n|[2.0,4.9,3.0,1.4]|[2.0,4.9,3.0,1.4]|\n|[3.0,4.7,3.2,1.3]|[3.0,4.7,3.2,1.3]|\n|[4.0,4.6,3.1,1.5]|[4.0,4.6,3.1,1.5]|\n|[5.0,5.0,3.6,1.4]|[5.0,5.0,3.6,1.4]|\n+-----------------+-----------------+\nonly showing top 5 rows\n\n"
     ]
    }
   ],
   "source": [
    "from pyspark.ml import Pipeline\n",
    "from pyspark.ml.regression import LinearRegression\n",
    "from pyspark.ml.feature import VectorIndexer\n",
    "from pyspark.ml.evaluation import RegressionEvaluator\n",
    "\n",
    "featureIndexer = VectorIndexer(inputCol = \"features\", outputCol = 'indexedFeatures', maxCategories = 4).fit(transformed)\n",
    "\n",
    "data = featureIndexer.transform(transformed)\n",
    "\n",
    "data.show(5)"
   ]
  },
  {
   "cell_type": "code",
   "execution_count": 0,
   "metadata": {
    "application/vnd.databricks.v1+cell": {
     "cellMetadata": {
      "byteLimit": 2048000,
      "rowLimit": 10000
     },
     "inputWidgets": {},
     "nuid": "5881bc38-cbed-4d25-9344-e5f3c6f53d3c",
     "showTitle": false,
     "title": ""
    }
   },
   "outputs": [
    {
     "output_type": "display_data",
     "data": {
      "image/png": "[encoded data removed]"
     },
     "metadata": {
      "application/vnd.databricks.v1+output": {
       "addedWidgets": {},
       "arguments": {},
       "data": "data:image/png;base64,iVBORw0KGgoAAAANSUhEUgAAAf4AAAFzCAYAAADfQWsjAAAAOXRFWHRTb2Z0d2FyZQBNYXRwbG90bGliIHZlcnNpb24zLjUuMSwgaHR0cHM6Ly9tYXRwbG90bGliLm9yZy/YYfK9AAAACXBIWXMAAAsTAAALEwEAmpwYAAA1/0lEQVR4nO3deXxU9b3/8dcnK0vYSYAEZA2EHTSgslhAragYqLWKrXVt7XWvvbdV29v21mrb297+rGtbl4LWBamCoqLYuqNsQfYdAYGwJOxr9s/vjww2YoAEMjkzmffz8ciDzDlnJu+jhPec73zPOebuiIiISGyICzqAiIiI1B0Vv4iISAxR8YuIiMQQFb+IiEgMUfGLiIjEEBW/iIhIDEkIOkBdaN26tXfq1CnoGCIiInVi/vz5O9w9tap1MVH8nTp1Ijc3N+gYIiIidcLMPj/WOg31i4iIxBAVv4iISAxR8YuIiMQQFb+IiEgMUfGLiIjEEBW/iIhIDFHxi4iIxBAVv4iISAxR8YuIiMQQFb+IiEgMUfGLiIjEEBV/DW3efYiP1hQEHUNEROSkqPhr6DfTV3DniwspLSsPOoqIiEiNqfhrKKd/OjsOFDNr3c6go4iIiNSYir+GRvRIo0lyAq8u3BJ0FBERkRpT8ddQg8R4LujTlhlLt1FYUhZ0HBERkRpR8Z+EnP7p7C8q5f1VmuQnIiLRRcV/EoZ0bUXrlCSmLcoLOoqIiEiNqPhPQkJ8HBf3bcc7K/LZX1gSdBwREZFqU/GfpJwB6RSVlvP2su1BRxEREak2Ff9JOv20FmQ0b8i0RZrdLyIi0UPFf5LMjJwB6cxcu4OdB4qCjiMiIlItKv5TkNM/nbJyZ/qSrUFHERERqRYV/ynIatuEzLQUDfeLiEjUUPGfAjNj7IB05m3YTd6ew0HHEREROSEV/ym6pH86AK/pqF9ERKKAiv8UdWzVmP4dmjNN1+4XEZEooOKvBWP7p7N86z7W5u8POoqIiMhxqfhrwZh+7YgzdNQvIiIRT8VfC9KaNuCsLq2YtmgL7h50HBERkWMKa/Gb2WgzW2Vma83s7irWP2BmC0Nfq81sT2j5yErLF5pZoZmNC62baGbrK60bEM59qK6xA9LZsPMQS/L2Bh1FRETkmMJW/GYWDzwKXAj0Aq40s16Vt3H3O919gLsPAB4GpoSWv1dp+SjgEPB2paf++Mh6d18Yrn2oidG925EYb7yq4X4REYlg4TziHwysdfd17l4MTALGHmf7K4EXqlh+GfCmux8KQ8Za06xRIiN6pPH64i2UlWu4X0REIlM4iz8D2FTp8ebQsq8ws45AZ+DdKlaP56tvCO43s8WhjwqSayNsbcjpn872fUXMXb8r6CgiIiJVipTJfeOBl9y9rPJCM2sH9AVmVFp8D5AFDAJaAndV9YJmdqOZ5ZpZbkFBQXhSH+W8nm1olBTPtEV5dfLzREREaiqcxZ8HdKj0uH1oWVWqOqoHuByY6u4lRxa4+1avUARMoOIjha9w98fdPdvds1NTU09qB2qqYVI8X+/VhulLtlFcWl4nP1NERKQmwln884BMM+tsZklUlPu0ozcysyygBTCritf4yuf+oVEAzMyAccDS2o19anIGpLP3cAkframbUQYREZGaCFvxu3spcCsVw/QrgMnuvszM7jWznEqbjgcm+VEnwJtZJypGDD446qWfM7MlwBKgNXBfmHbhpAzrlkrzRoma3S8iIhEpIZwv7u7TgelHLfvFUY//5xjP3UAVkwHdfVTtJax9SQlxXNS3HVM/zeNQcSmNksL6n1hERKRGImVyX72S0z+dwyVl/GtFftBRREREvkTFHwaDO7WkbdMGTFuo2f0iIhJZVPxhEBdnXNK/HR+sLmDPoeKg44iIiHxBxR8mOf0zKClz3lq6LegoIiIiX1Dxh0mfjKZ0bt1Ys/tFRCSiqPjDxMzI6Z/O7PU72b6vMOg4IiIigIo/rHIGpOMOry/eGnQUERERQMUfVl1TU+id3lSz+0VEJGKo+MNs7IB0Fm3ey4YdB4OOIiIiouIPtzH90gF4bZEm+YmISPBU/GGW3rwhgzu15NVFWzjqdgQiIiJ1TsVfB3IGpLM2/wArtu4POoqIiMQ4FX8duKhvOxLijGka7hcRkYCp+OtAy8ZJDM9szWuLtlBeruF+EREJjoq/juQMSCdvz2E+3bg76CgiIhLDVPx15PxebUlOiNNwv4iIBErFX0dSkhM4r1cb3li8ldKy8qDjiIhIjFLx16Gc/unsPFjMx5/tDDqKiIjEKBV/HRrRI5UmDRKYpjv2iYhIQFT8dSg5IZ4L+7RlxrJtFJaUBR1HRERikIq/juX0z+BAUSnvrcwPOoqIiMQgFX8dO7trK1qnJGt2v4iIBELFX8fi44wx/drxzsp89hWWBB1HRERijIo/ADkD0ikuLeftZduDjiIiIjFGxR+AgR2a06FlQ15dmBd0FBERiTEq/gCYGTn90/nks53sOFAUdBwREYkhKv6A5PTPoKzcmb5ka9BRREQkhqj4A9KjbRN6tGnCq7qYj4iI1CEVf4ByBqQz//PdbN59KOgoIiISI1T8Acrpnw7Aa4s03C8iInVDxR+gDi0bcfppzTW7X0RE6oyKP2A5/dNZuW0/a7bvDzqKiIjEABV/wC7ul06coUv4iohInVDxByy1STJDu7Xm1YVbcPeg44iISD2n4o8Al/RPZ+OuQyzavDfoKCIiUs+FtfjNbLSZrTKztWZ2dxXrHzCzhaGv1Wa2p9K6skrrplVa3tnM5oRe80UzSwrnPtSFC3q3JSk+jmk6p19ERMIsbMVvZvHAo8CFQC/gSjPrVXkbd7/T3Qe4+wDgYWBKpdWHj6xz95xKy/8XeMDduwG7gRvCtQ91pVnDREZmpfLa4i2UlWu4X0REwiecR/yDgbXuvs7di4FJwNjjbH8l8MLxXtDMDBgFvBRa9DQw7tSjBi+nfwYF+4uYs25n0FFERKQeC2fxZwCbKj3eHFr2FWbWEegMvFtpcQMzyzWz2WY2LrSsFbDH3UtP9JrR5tyeaTROitfsfhERCatImdw3HnjJ3csqLevo7tnAt4E/mVnXmrygmd0YeuOQW1BQUJtZw6JBYjwX9G7L9CVbKSotO/ETRERETkI4iz8P6FDpcfvQsqqM56hhfnfPC/25DngfGAjsBJqbWcKJXtPdH3f3bHfPTk1NPdl9qFOXDEhnX2EpH67eEXQUERGpp8JZ/POAzNAs/CQqyn3a0RuZWRbQAphVaVkLM0sOfd8aGAos94oT3d8DLgtteg3wahj3oU4N69aaFo0SeWn+phNvLCIichLCVvyhz+FvBWYAK4DJ7r7MzO41s8qz9McDk/zLV6/pCeSa2SIqiv537r48tO4u4EdmtpaKz/yfCtc+1LXE+DiuOqsjM5ZtZ/7nu4OOIyIi9ZDFwtXisrOzPTc3N+gY1XKwqJSR//c+7Zo1YOrNQ4mLs6AjiYhIlDGz+aF5cl8RKZP7JKRxcgJ3jc5i0ea9TF2gu/aJiEjtUvFHoG8MzKB/h+b871srOVhUeuIniIiIVJOKPwLFxRm/vKQX+fuLeOz9tUHHERGRekTFH6FOP60F4wak88RH69m061DQcUREpJ5Q8Uewuy7MIt6M30xfEXQUERGpJ1T8Eaxds4bcNKIrby7dxmxdw19ERGqBij/C3XhOFzKaN+RXry3XnftEROSUqfgjXIPEeO65KIsVW/fx4jxd0U9ERE6Nij8KXNy3HYM7teSPb69iX2FJ0HFERCSKqfijgJnxi0t6setQMQ+/syboOCIiEsVU/FGiT0YzLj+jAxM+3sC6ggNBxxERkSil4o8i/3VBDxokxnP/Gzq9T0RETo6KP4qkNknmtlHdeGdlPh+sLgg6joiIRCEVf5S5dmgnOrZqxK9fX05JWXnQcUREJMqo+KNMckI8P7uoJ2vzD/Dc7M+DjiMiIlFGxR+Fzu/VhmHdWvPAv9aw+2Bx0HFERCSKqPijkJnx8zG92F9YwgP/Wh10HBERiSIq/ijVo20TvnNmR56bs5HV2/cHHUdERKKEij+K/ej87qQkJ/Dr15fjruv4i4jIian4o1iLxkn88LxMPlqzg3+tyA86joiIRAEVf5S76qyOdEtL4f43llNUWhZ0HBERiXAq/iiXGB/Hz8f0YsPOQzz9yYag44iISIRT8dcDX+ueyqisNB56Zy0F+4uCjiMiIhFMxV9P/OzinhSWlPHHt1cFHUVERCKYir+e6JqawrVDOvFi7iaW5u0NOo6IiEQoFX89ctu5mbRolMS9Or1PRESOQcVfjzRrmMh/fr07c9fvYvqSbUHHERGRCKTir2fGDzqNrLZN+M30FRSW6PQ+ERH5MhV/PRMfZ/zykt7k7TnMkx+tCzqOiIhEGBV/PXR211aM7t2WR9/7jG17C4OOIyIiEUTFX0/99KKelLnz+7dWBh1FREQiiIq/njqtVSO+N6wzUxbksWDj7qDjiIhIhFDx12M3j+xGWpNkfvXacsrLdXqfiIio+Ou1lOQEfjI6i4Wb9vDqoryg44iISARQ8ddzlw7MoH/7ZvzuzZUcLCoNOo6IiAQsrMVvZqPNbJWZrTWzu6tY/4CZLQx9rTazPaHlA8xslpktM7PFZnZFpedMNLP1lZ43IJz7EO3i4oxfXNKb7fuK+MsHnwUdR0REApYQrhc2s3jgUeB8YDMwz8ymufvyI9u4+52Vtr8NGBh6eAi42t3XmFk6MN/MZrj7ntD6H7v7S+HKXt+c0bEFYwek8/iH67hiUAfat2gUdCQREQlIOI/4BwNr3X2duxcDk4Cxx9n+SuAFAHdf7e5rQt9vAfKB1DBmrffuGp2FGfz2TZ3eJyISy8JZ/BnApkqPN4eWfYWZdQQ6A+9WsW4wkARUHqe+P/QRwANmlnyM17zRzHLNLLegoOBk96HeSG/ekJu+1o03Fm9lzrqdQccREZGARMrkvvHAS+7+pYvLm1k74O/Ade5eHlp8D5AFDAJaAndV9YLu/ri7Z7t7dmqqBgsAbjynCxnNG3LbCwv4fOfBoOOIiEgAwln8eUCHSo/bh5ZVZTyhYf4jzKwp8AbwM3effWS5u2/1CkXABCo+UpBqaJgUz4TrBlFSVs5VT83R5XxFRGJQOIt/HpBpZp3NLImKcp929EZmlgW0AGZVWpYETAWeOXoSX2gUADMzYBywNFw7UB91b9OEp68fzO6DJVz11Bx2HSwOOpKIiNShsBW/u5cCtwIzgBXAZHdfZmb3mllOpU3HA5PcvfKl5S4HzgGureK0vefMbAmwBGgN3Beufaiv+rVvzpPXZLNp1yGu+dtc9heWBB1JRETqiH25b+un7Oxsz83NDTpGxHl35XZufGY+p3dswTPXD6ZBYnzQkUREpBaY2Xx3z65qXaRM7pMAjMpqwx8v78+8Dbu46dn5FJeWn/hJIiIS1VT8MW7sgAzuH9eX91YV8KPJCynTzXxEROq1sF25T6LHt888jf2FJfz2zZU0aZDAb77Rl4q5kyIiUt+o+AWAH3ytK/sKS3j0vc9o0iCRey7MUvmLiNRDKn75wn99vQf7Dpfy+IfraNYwkVtGdgs6koiI1DIVv3zBzPhVTm8OFJXyhxmrSElO4JohnYKOJSIitUjFL18SF2f84bJ+HCgq5ZfTlpGSnMA3z2gfdCwREaklmtUvX5EQH8fDVw5kSNdW/OTlxcxYti3oSCIiUktU/FKlBonxPH51Nn0zmnHb8wv4eO2OoCOJiEgtUPHLMaUkJzDxukF0SW3M95/JZf7nu4OOJCIip0jFL8fVvFESz9wwmNQmyVw3YS4rtu4LOpKIiJwCFb+cUFqTBjx7w5k0Skrgu0/NZf2Og0FHEhGRk6Til2rp0LIRz35vMOXuXPXkHLbsORx0JBEROQkqfqm2bmlNeOb6wew7XMJVT81hx4GioCOJiEgNqfilRvpkNOOpawexZc9hrn5qLnsPlwQdSUREakDFLzU2uHNL/nLVGazJ388NE+dxuLgs6EgiIlJNKn45KSN6pPGnKwby6cbd/ODZ+RSXlgcdSUREqkHFLyft4n7t+O2lfflwdQE/fHEBpWUqfxGRSKdr9cspuWLQaewvLOW+N1bQOGkJ//vNfsTF6Xa+IiKRSsUvp+x7w7uwr7CUh95ZQ5MGifx8TE/MVP4iIpFIxS+14s7zMtl3uIS/fbyeotIyfj6mFw0S44OOJSIiR1HxS60wM34xphdJCXE8/uE6Fm7aw6PfPp1OrRsHHU1ERCrR5D6pNXFxxk8v6skTV2ezefdhxjw8k9cXbwk6loiIVKLil1p3fq82vHH7MLqlpXDr8wv471eWUFiic/1FRCKBil/Con2LRkz+wdl8f3hnnp29kUsf+0Q39xERiQAqfgmbpIQ4fnZxL568Opu8PYe55OGZvLZIQ/8iIkGqVvGb2beqs0ykKuf1asP0O4aT2SaF215YwM+mauhfRCQo1T3iv6eay0SqlNG8IZN/cDY/OKcLz83ZyDce+4R1BQeCjiUiEnOOezqfmV0IXARkmNlDlVY1BUrDGUzqn8T4OO65qCdndmnJjyYv4pKHZ/KbS/sydkBG0NFERGLGiY74twC5QCEwv9LXNOCC8EaT+mpUVhum3z6crHZNuWPSQu6ZoqF/EZG6Yu5+4o3MEt29JPR9C6CDuy8Od7jakp2d7bm5uUHHkKOUlJXzf2+v4q8frCOrbRMe/c7pdE1NCTqWiEjUM7P57p5d1brqfsb/TzNramYtgU+BJ8zsgVpLKDEpMT6Oey7syYRrB7F9XyE5D8/k1YV5QccSEanXqlv8zdx9H3Ap8Iy7nwmcG75YEktGZqUx/Y7h9Pxi6H+xhv5FRMKkusWfYGbtgMuB18OYR2JUu2YNmXTjWdw8oisvzN3EuEc/Zm2+Zv2LiNS26hb/vcAM4DN3n2dmXYA14YslsSghPo6fjM5i4nWDyN9fRM4jM3llgYb+RURqU7WK393/4e793P2m0ON17v7NEz3PzEab2SozW2tmd1ex/gEzWxj6Wm1meyqtu8bM1oS+rqm0/AwzWxJ6zYdMN36vd0b0SGP67cPpk96MH764kLteWszhYg39i4jUhupeua+9mU01s/zQ18tm1v4Ez4kHHgUuBHoBV5pZr8rbuPud7j7A3QcADwNTQs9tCfwSOBMYDPwydDYBwJ+B7wOZoa/R1dtViSZtmzXg+e+fyS0ju/Jirob+RURqS3WH+idQce5+eujrtdCy4xkMrA2NDhQDk4Cxx9n+SuCF0PcXAP90913uvhv4JzA6NM+gqbvP9orzEJ8BxlVzHyTKJMTH8eMLsnj6+sEUHKgY+p+6YHPQsUREolp1iz/V3Se4e2noayKQeoLnZACbKj3eHFr2FWbWEegMvHuC52aEvq/Oa95oZrlmlltQUHCCqBLJvtY9tWLoP6MZd764iOsmzGXN9v1BxxIRiUrVLf6dZnaVmcWHvq4CdtZijvHAS+5eax/kuvvj7p7t7tmpqSd6jyKRrm2zBjz/vTP56UVZ5H6+m9EPfsR/v7KEHQeKgo4mIhJVqlv811NxKt82YCtwGXDtCZ6TB3So9Lh9aFlVxvPvYf7jPTcv9H11XlPqmYT4OG48pysf/HgkV515Gi/M3cSIP7zPY++v1Xn/IiLVVJPT+a5x91R3T6PijcCvTvCceUCmmXU2syQqyn3a0RuZWRbQAphVafEM4Otm1iI0qe/rwAx33wrsM7OzQrP5rwZereY+SD3RsnESvxrbhxk/PIezurTk92+t4tw/fsCrC/OoziWoRURiWXWLv19okh0A7r4LGHi8J7h7KXArFSW+Apjs7svM7F4zy6m06Xhgklf6Fzv0+r+m4s3DPODe0DKAm4EngbXAZ8Cb1dwHqWe6paXw5DWDeP77Z9K8USJ3TFrIuMc+IXfDrhM/WUQkRlX3Jj2LgBFHyj90ut0H7t43zPlqhW7SU/+VlztTFuTxhxkr2b6viAv7tOXuC7Po2Kpx0NFEROrc8W7Sk1DN1/gjMMvM/hF6/C3g/toIJ1Ib4uKMy85oz0V92/LEh+v564ef8a8V27n67E7cPiqTZo0Sg44oIhIRqnXEDxC6+M6o0MN33X152FLVMh3xx578fYX88e3VTJ6/iaYNErnj3EyuOqsjSQnV/XRLRCR6He+Iv9rFH81U/LFrxdZ93P/GCmau3UGnVo24+8KeXNC7DbrSs4jUZ8crfh3+SL3Ws11T/n7DYCZcO4iE+Dj+49n5XPH4bBZv3hN0NBGRQKj4pd4zM0ZmpfHWHcO5b1wfPss/QM4jH3PniwvZsudw0PFEROqUhvol5uwvLOGx9z/jqZnrMeB7wztz04hupCRXd66riEhk01C/SCVNGiRy1+gs3v3PrzG6T1sefe8zRvzhPZ6b8zmlZeVBxxMRCSsVv8Ss9i0a8eD4gbxyy1A6t27Mz6Yu5aKHPmJp3t6go4mIhI2KX2LegA7NmfyDs/nzd05n3+FSLv3zJ0yau1GX/xWReknFL0LFBMAL+7bjjduHcWbnltw9ZQn/9Y/FHC7WzX9EpH5R8YtU0iolmYnXDeaOczOZsmAz33jsY9YVHAg6lohIrVHxixwlPs648/zuTLxuMNv3FZLzyMe8sXhr0LFERGqFil/kGL7WPZU3bh9OZpsUbnn+U3712jKKSzXrX0Sim4pf5DjSmzfkxRvP5rqhnZjw8QaueHwWebroj4hEMRW/yAkkJcTxy0t68+i3T2fN9gOMeegjPlhdEHQsEZGTouIXqaaL+7Vj2q1DadO0AddOmMv/++dqysp1yp+IRBcVv0gNdElNYerNQ7l0YHseemcN1/xtLjsOFAUdS0Sk2lT8IjXUMCme//tWP/73m32Zu2EXYx6aSe6GXUHHEhGpFhW/yEkwM64YdBpTbx5CcmIc4x+fzZMfrdPV/kQk4qn4RU5B7/RmvHbbMM7tmcZ9b6zgP56dz77CkqBjiYgck4pf5BQ1bZDIX646g/++uCf/WpHPJQ/PZNkW3ehHRCKTil+kFpgZ3xvehUk3nkVhSRmXPvYJk+dtCjqWiMhXqPhFatGgTi154/bhDOrUkp+8vJj/+sci3ehHRCKKil+klrVOSebp6wdz+7mZvPypbvQjIpFFxS8SBvFxxo/O786Eawd9caOf6Ut0ox8RCZ6KXySMRvRI++JGPzc/9ym/fHUpO3XBHxEJkIpfJMwq3+jn6VmfM+R373LPlCWszd8fdDQRiUEWCxccyc7O9tzc3KBjiLA2fz9PzdzAlE83U1RazogeqXxvWBeGdmuFmQUdT0TqCTOb7+7ZVa5T8YvUvZ0HinhuzkaembWBHQeKyWrbhOuHdWbsgHSSE+KDjiciUU7Fr+KXCFVYUsa0RVv428z1rNy2n9YpyVx9dke+c+ZptEpJDjqeiEQpFb+KXyKcu/Px2p08OXMd768qIDkhjktPb88NwzrRLa1J0PFEJMocr/gT6jqMiHyVmTEsszXDMlt/aR7AC3M3MqJHKjcM68ywbq01D0BETpmO+EUi1L/nAXzOjgNFmgcgItWmoX4Vv0SxotIypi3cwlOaByAi1XS84g/refxmNtrMVpnZWjO7+xjbXG5my81smZk9H1o20swWVvoqNLNxoXUTzWx9pXUDwrkPIkFLTojnW9kdePOO4Tx7w5n0zWjK//vn6tD1ABazZruuByAi1Re2I34ziwdWA+cDm4F5wJXuvrzSNpnAZGCUu+82szR3zz/qdVoCa4H27n7IzCYCr7v7S9XNoiN+qW+quh6A5gGIyBFBHfEPBta6+zp3LwYmAWOP2ub7wKPuvhvg6NIPuQx4090PhTGrSFTpltaE317al0/uHsWPzu/O0rx9fPepuYx99GM27dKviogcWziLPwOofEPyzaFllXUHupvZx2Y228xGV/E644EXjlp2v5ktNrMHzEwfckrMapWSzO3nZvLx3SP5/Tf7sX7HQcY9+jHzNuwKOpqIRKigr9WfAGQCI4ArgSfMrPmRlWbWDugLzKj0nHuALGAQ0BK4q6oXNrMbzSzXzHILCgrCEl4kUiQnxHP5oA68cstQmjZM5NtPzOYfuZtO/EQRiTnhLP48oEOlx+1DyyrbDExz9xJ3X0/FnIDMSusvB6a6e8mRBe6+1SsUAROo+EjhK9z9cXfPdvfs1NTUWtgdkcjXNTWFqTcPYXDnlvz4pcX8ZvoKysrr/5k7IlJ94Sz+eUCmmXU2syQqhuynHbXNK1Qc7WNmrakY+l9Xaf2VHDXMHxoFwCpmMI0DltZ+dJHo1bxREhOvG8x3z+rI4x+u48ZnctlfWHLiJ4pITAhb8bt7KXArFcP0K4DJ7r7MzO41s5zQZjOAnWa2HHgP+LG77wQws05UjBh8cNRLP2dmS4AlQGvgvnDtg0i0SoyP49fj+vDrsb15f3UBl/15lib9iQigC/iI1Hsz1+zg5ufmkxAfx1+uOoPBnVsGHUlEwiywC/iISPCGZbbmlVuG0rxhIt95cjaTNelPJKap+EViQJfUFKbePJQzO7fiJy8t5r7Xl2vSn0iMUvGLxIhmjRKZeN0grjm7I0/OXM/3np6nSX8iMUjFLxJDEuLj+NXYPvx6XB8+XLODb/75Ezbu1KQ/kVii4heJQd89qyN/v34w2/cVMfbRmcxetzPoSCJSR1T8IjFqSLeKSX8tGidx1ZNzeHHexqAjiUgdUPGLxLDOrRsz9eahnN21FXe9vIRfa9KfSL2n4heJcc0aJjLh2kFcO6QTT81czw1Pz2OfJv2J1FsqfhEhIT6O/8npzf3f6MPMNTu49LFP+HznwaBjiUgYqPhF5AvfObMjz9wwmIL9RYx99GNmfaZJfyL1jYpfRL5kSNfWvHrLUFo1TuK7T83hhbma9CdSn6j4ReQrOrVuzJSbhzKkW2vumbKEX722jNKy8qBjiUgtUPGLSJWaNUzkb9dkc93QTkz4eAPXP52rSX8i9UBC0AFEJHIlxMfxy0t6071NE37+ylKG/PZderVrSq/0pvROb0rv9GZktkkhMV7HECLRQsUvIid05eDT6N6mCa8syGPZlr28OG8Th0vKAEiKj6N72xR6t2tG74yKNwQ92zWlUZL+eRGJRPrNFJFqOaNjC87o2AKAsnJn/Y6DLNuyl+Vb9rFsyz7eXr6NF0O3/DWruDhQ7/RmoZGBitGBlo2TgtwFEUHFLyInIT7O6JaWQre0FMYOyADA3dm6t5CleXtZFnozMH/DLl5btOWL57Vr1oDe6U3pld6MPulN6Z3RjPRmDTCzoHZFJOao+EWkVpgZ6c0bkt68IV/v3faL5bsPFofeCOz94s93VubjoSsDN2+U+MWIwIV92jLwtBYB7YFIbDD3+n9d7uzsbM/NzQ06hoiEHCouZcXW/Szf8u/RgVXb9lNaXs7NI7pxx3mZmjAocgrMbL67Z1e1Tkf8IlLnGiUlfGnOAMCBolLufW0Zj7y3lo/WFPCn8QPp3LpxgClF6ie9pRaRiJCSnMDvL+vPY985nQ07D3HxQx/x4ryNxMKopEhdUvGLSES5qG873vrhcPq3b85dLy/hpmc/ZffB4qBjidQbKn4RiTjtmjXkue+dyT0XZvHOyu2MfvBDZq7ZEXQskXpBxS8iESkuzvjB17oy9eahpCQncNVTc7j/jeUUlZYFHU0kqqn4RSSi9cloxuu3Deeqs07jiY/WM+7RT1izfX/QsUSilopfRCJew6R47hvXlyevziZ/XyFjHp7J32dt0MQ/kZOg4heRqHFerza8+cPhnNWlFT9/dRk3PJ1Lwf6ioGOJRBUVv4hElbQmDZh43SD+55JezFy7gwsf/JD3VuYHHUskaqj4RSTqmBnXDu3Ma7cOo3VKMtdNnMcvXl1KYYkm/omciIpfRKJWj7ZNeOWWodwwrDPPzPqcSx6eyfIt+4KOJRLRVPwiEtUaJMbz8zG9eOb6wew9XMK4Rz/myY/WUV6uiX8iVVHxi0i9cE73VN764TmM6JHKfW+s4Oq/zWXb3sKgY4lEHBW/iNQbLRsn8dfvnsFvL+3L/M93M/rBD3lr6bY6+dkaYZBoobvziUi9YmZcOfg0zuzckjsmLeQ/np3P+EEd+PmYXjROPvY/ee7OweIy9h4uYd/hki/9ufdwCfsKS9lXeV3hkW1K2Xu4hMLSMi4d2J57x/Y+7s8RCZr+dopIvdQlNYWXbxrCn/61mj9/8Bmz1+3kgj5tQ+VdelR5VxR72XGO2s2gSXICTRsm0qxhIk0bJNKldUrF9w0TOFhcxqS5G1mwcTcPXTmQPhnN6nBvRarPwnnlKzMbDTwIxANPuvvvqtjmcuB/AAcWufu3Q8vLgCWhzTa6e05oeWdgEtAKmA98192Pe+uu7Oxsz83NrZV9EpHoM3vdTn7y0mK27yusVNwJodL+d5EfKfEjj79Y1zCRJskJxMXZcX/OrM928sMXF7D7YAk/vSiLa4Z0wuz4zxEJBzOb7+7ZVa4LV/GbWTywGjgf2AzMA6509+WVtskEJgOj3H23maW5e35o3QF3T6nidScDU9x9kpn9hYo3C38+XhYVv4i4e52U8K6DxfzXPxbx7sp8zu/Vhj9c1o/mjZLC/nNFKjte8Ydzct9gYK27rwsdkU8Cxh61zfeBR919N8CR0j8Wq/itHQW8FFr0NDCuNkOLSP1UV0feLRsn8dQ12fx8TC/eX5XPRQ9+xLwNu+rkZ4tURziLPwPYVOnx5tCyyroD3c3sYzObHfpo4IgGZpYbWj4utKwVsMfdS4/zmiIigTIzbhjWmZdvGkJiQhxX/HUWD7+z5rhzCETqStCn8yUAmcAI4ErgCTNrHlrXMTRM8W3gT2bWtSYvbGY3ht445BYUFNRiZBGR6unXvjmv3zaMMf3S+eM/V3PVk3PYvk/XFpBghbP484AOlR63Dy2rbDMwzd1L3H09FXMCMgHcPS/05zrgfWAgsBNobmYJx3lNQs973N2z3T07NTW1dvZIRKSGmjRI5MHxA/j9Zf1YuGkPFz34Ee+t0k2FJDjhLP55QKaZdTazJGA8MO2obV6h4mgfM2tNxdD/OjNrYWbJlZYPBZZ7xUzE94DLQs+/Bng1jPsgInLKzIzLszvw2m1DSW2SzHUT5vGb6SsoLi0POprEoLAVf+hz+FuBGcAKYLK7LzOze80sJ7TZDGCnmS2notB/7O47gZ5ArpktCi3/XaWzAe4CfmRma6n4zP+pcO2DiEht6pZWcVOhq846jcc/XMe3/vIJG3ceCjqWxJiwnscfKXQ6n4hEmjeXbOUnLy8Gh99c2pdL+qcHHUnqkaBO5xMRkWO4sG87pt8+nMw2Kdz2wgLumbKYw8VlQceSGKDiFxEJSIeWjXjxB2dz84iuTJq3iZxHZrJq2/6gY0k9p+IXEQlQYnwcPxmdxTPXD2b3oWJyHpnJ83M2Egsfw0owVPwiIhFgeGYq0+8YzuDOLfnp1CXc+vwC9h4uCTqW1EMqfhGRCJHWpAFPXzeYu0Zn8daybVz80Ecs2Lg76FhSz6j4RUQiSFyccdOIrkz+wdm4w7f+Mou/fvAZ5brcr9QSFb+ISAQ6o2MLpt8xnPN7teG3b67k2onzWLx5jz77l1Om8/hFRCKYu/PcnI3c98ZyCkvK6ZLamG8MyGDsgAxOa9Uo6HgSoY53Hr+KX0QkCuw9VML0pVt5ZUEec9ZX3Ob3jI4tGDcwgzF929GicVLACSWSqPhV/CJSj+TtOcyrC/N4ZUEeq7cfICHOGNEjlXEDMzivZxsaJMYHHVECpuJX8YtIPeTurNi6n1cW5vHqwjy27ysiJTmB0X3a8o2BGZzVpRXxcRZ0TAmAil/FLyL1XFm5M2fdTqYuyOOtpdvYX1RKm6bJ5PRPZ9zADHq1a4qZ3gTEChW/il9EYkhhSRnvrMhn6oI8PlidT0mZk5mWwriBGYwdkE77FpoUWN+p+FX8IhKjdh8s5o0lFZMCcz+vuBjQ4M4tGTcgg4v7tqNZo8SAE0o4qPhV/CIibNp1iFcX5jF1QR6fFRwkKT6OkVmpjBuQwcisNE0KrEdU/Cp+EZEvuDvLtuxj6oI8pi3aQsH+IhokxtGiURKNkuJJSU6g8ZGvpHgaJyeQkpxAo6QEGidXrG+UnEBKcjyNkyptG1rXMDFe8wkCdrziT6jrMCIiEiwzo09GM/pkNOOnF/Xkk8928MGqAvYeLuFgcSkHi8o4WFTKroOHOFhcyqGiMg4UlVJUWl7N1yf0hiA+9OYhgdQmyYzMSuOCXm1Ia9ogzHsox6MjfhERqZaSsnIOFVe8KThYVMqBolIOFVe8KTiy7GBo/YGjHm/YcZANOw9hBqef1oLRvdtyQe+2uvpgmGioX8UvIhIod2dN/gHeWrqNt5ZuY/nWfQD0ateU0X3aMrpPWzLTUvQRQS1R8av4RUQiysadh5ixbBtvLdvG/NDZBl1aN+aCPm0Z3bst/do305uAU6DiV/GLiESs7fsKeXv5dmYs3casdTspK3fSmzX44k1AdqeWugJhDan4VfwiIlFhz6Fi/rUin7eWbuPDNQUUl5bTqnESX+/dhgt6t2VI19YkJeiO8iei4lfxi4hEnQNFpXywqoC3lm3j3RXbOVhcRpMGCZyblcboPm05p3sqjZJ0clpVVPwqfhGRqFZYUsYnn+3graXb+Ofy7ew+VEKDxDi+1j2V0X3acm7PNjRtoKsQHqHz+EVEJKo1SIxnVFYbRmW1obSsnLnrd/HWsm3MWLaNGcu206xhIo98eyDDM1ODjhrxdMQvIiJRq7zcWbBpNz+dspQ1+fv56UU9uWFY55g/I+B4R/yaISEiIlErLs44o2NLptw8hPN7teG+N1bwn/9YRGFJWdDRIpaKX0REol7j5AT+/J0zuPO87kz5NI8rHp/Ntr2FQceKSCp+ERGpF+LijDvOy+Sv3z2Dtdv3c8kjM7+4OJD8m4pfRETqlQt6t2XKzUNpmBjPlY/PZvK8TUFHiigqfhERqXd6tG3CtFuHcmaXlvzk5cX8z7RllJRV7+6C9Z2KX0RE6qXmjZKYcO0gvjesMxM/2cDVT81l18HioGMFTsUvIiL1VkJ8HP89phd//FZ/5m/cTc4jM1kRujNgrFLxi4hIvffNM9rzjx+cTUlZOZc+9gnTl2wNOlJgVPwiIhIT+ndozmu3DqNnuybc/Nyn/PHtVZSX1/+L2B0trMVvZqPNbJWZrTWzu4+xzeVmttzMlpnZ86FlA8xsVmjZYjO7otL2E81svZktDH0NCOc+iIhI/ZHWtAEv3HgWV2R34OF313Lj33PZX1gSdKw6FbZL9ppZPLAaOB/YDMwDrnT35ZW2yQQmA6PcfbeZpbl7vpl1B9zd15hZOjAf6Onue8xsIvC6u79U3Sy6ZK+IiFTm7jwz63PufX05nVs35omrs+ncunHQsWpNUJfsHQysdfd17l4MTALGHrXN94FH3X03gLvnh/5c7e5rQt9vAfIB3XlBRERqhZlxzZBO/P2Gwew8UMTYR2byweqCoGPViXAWfwZQ+aoJm0PLKusOdDezj81stpmNPvpFzGwwkAR8Vmnx/aGPAB4ws+SqfriZ3WhmuWaWW1AQG/8zRUSkZoZ0bc20W4eR3rwh102Yy+MffkZ9v3ld0JP7EoBMYARwJfCEmTU/stLM2gF/B65z9yNXXrgHyAIGAS2Bu6p6YXd/3N2z3T07NVWDBSIiUrUOLRsx5eYhXNinHb+ZvpI7X1xYr2/yE87izwM6VHrcPrSsss3ANHcvcff1VMwJyAQws6bAG8DP3H32kSe4+1avUARMoOIjBRERkZPWKCmBR749kB9f0INXF23hW3+ZxZY9h4OOFRbhLP55QKaZdTazJGA8MO2obV6h4mgfM2tNxdD/utD2U4Fnjp7EFxoFwCputjwOWBq+XRARkVhhZtwyshtPfDeb9TsOkvPITHI37Ao6Vq0LW/G7eylwKzADWAFMdvdlZnavmeWENpsB7DSz5cB7wI/dfSdwOXAOcG0Vp+09Z2ZLgCVAa+C+cO2DiIjEnvN6teGVW4bQpEEiVz4xmxfmbgw6Uq0K2+l8kUSn84mISE3tPVTCbZMW8OHqAi7s05aL+7VjeGYqzRomBh3thI53Ol9CXYcRERGJBs0aJTLh2kH86V+reWbW57y5dBvxccYZHVswskcao7LS6N4mhYpPnqOHjvhFREROoLSsnIWb9vDeqnzeW1nA8tCNfjKaN2REj1RG9khjSLdWNEqKjOPp4x3xq/hFRERqaNveQt5flc+7K/OZuXYHh4rLSEqI4+wurRjZI5VRWW04rVWjwPKp+FX8IiISJkWlZcxbvzs0GpDPuh0HAeiS2viLjwQGdWpJUkLdXTpHxa/iFxGROrJhx8GKNwGrCpi9bifFpeU0TopnWGZrRvZIY2RWGm2aNghrBhW/il9ERAJwqLiUT9bu/GI0YMveQgB6tWvKqKw0RmalMqBDC+LjaneCoIpfxS8iIgFzd1ZvP8C7K/N5b1U+8z/fTVm507xRIuMHncbdF2bV2s/S6XwiIiIBMzN6tG1Cj7ZNuGlEV/YeKuGjtQW8t7KAhonxdZZDxS8iIhKAZo0SGdMvnTH90uv05wZ9dz4RERGpQyp+ERGRGKLiFxERiSEqfhERkRii4hcREYkhKn4REZEYouIXERGJISp+ERGRGKLiFxERiSEqfhERkRii4hcREYkhKn4REZEYouIXERGJIebuQWcIOzMrAD6vxZdsDeyoxdera8ofnGjODsoftGjOH83ZIfryd3T31KpWxETx1zYzy3X37KBznCzlD040ZwflD1o054/m7BD9+SvTUL+IiEgMUfGLiIjEEBX/yXk86ACnSPmDE83ZQfmDFs35ozk7RH/+L+gzfhERkRiiI34REZEYouKvATPrYGbvmdlyM1tmZncEnammzCzezBaY2etBZ6kpM2tuZi+Z2UozW2FmZwedqSbM7M7Q35ulZvaCmTUIOtPxmNnfzCzfzJZWWtbSzP5pZmtCf7YIMuPxHCP/H0J/fxab2VQzax5gxGOqKnuldf9pZm5mrYPIVh3Hym9mt4X++y8zs98Hle9EjvF3Z4CZzTazhWaWa2aDg8x4KlT8NVMK/Ke79wLOAm4xs14BZ6qpO4AVQYc4SQ8Cb7l7FtCfKNoPM8sAbgey3b0PEA+MDzbVCU0ERh+17G7gHXfPBN4JPY5UE/lq/n8Cfdy9H7AauKeuQ1XTRL6aHTPrAHwd2FjXgWpoIkflN7ORwFigv7v3Bv4vgFzVNZGv/vf/PfArdx8A/CL0OCqp+GvA3be6+6eh7/dTUTwZwaaqPjNrD1wMPBl0lpoys2bAOcBTAO5e7O57Ag1VcwlAQzNLABoBWwLOc1zu/iGw66jFY4GnQ98/DYyry0w1UVV+d3/b3UtDD2cD7es8WDUc4789wAPAT4CInpx1jPw3Ab9z96LQNvl1HqyajpHfgaah75sR4b+/x6PiP0lm1gkYCMwJOEpN/ImKfzTKA85xMjoDBcCE0EcVT5pZ46BDVZe751FxhLMR2Arsdfe3g011Utq4+9bQ99uANkGGOUXXA28GHaK6zGwskOfui4LOcpK6A8PNbI6ZfWBmg4IOVEM/BP5gZpuo+F2O1NGiE1LxnwQzSwFeBn7o7vuCzlMdZjYGyHf3+UFnOUkJwOnAn919IHCQyB5m/pLQZ+FjqXgDkw40NrOrgk11arzilKCIPvI8FjP7GRUf3T0XdJbqMLNGwE+pGGKOVglASyo+Jv0xMNnMLNhINXITcKe7dwDuJDT6GI1U/DVkZolUlP5z7j4l6Dw1MBTIMbMNwCRglJk9G2ykGtkMbHb3IyMsL1HxRiBanAesd/cCdy8BpgBDAs50MrabWTuA0J8RO1x7LGZ2LTAG+I5Hz/nMXal407go9DvcHvjUzNoGmqpmNgNTvMJcKkYeI3aCYhWuoeL3FuAfgCb3xYLQu9OngBXu/v+CzlMT7n6Pu7d3905UTCp7192j5ojT3bcBm8ysR2jRucDyACPV1EbgLDNrFPp7dC5RNDmxkmlU/ANI6M9XA8xSY2Y2moqPu3Lc/VDQearL3Ze4e5q7dwr9Dm8GTg/9XkSLV4CRAGbWHUgium56swX4Wuj7UcCaALOckoSgA0SZocB3gSVmtjC07KfuPj24SDHlNuA5M0sC1gHXBZyn2tx9jpm9BHxKxRDzAiL8SmBm9gIwAmhtZpuBXwK/o2KI9gYq7nh5eXAJj+8Y+e8BkoF/hkaZZ7v7fwQW8hiqyu7uUTO0fIz/9n8D/hY6Ra4YuCZSR1yOkf/7wIOhybmFwI3BJTw1unKfiIhIDNFQv4iISAxR8YuIiMQQFb+IiEgMUfGLiIjEEBW/iIhIDFHxi0itM7NOVd1ZTkSCp+IXERGJISp+EQkrM+sSurFStN2URaRe0pX7RCRsQpdYngRcG8V3lROpV1T8IhIuqVRcy/9Sd4+m+yqI1Gsa6heRcNlLxc2JhgUdRET+TUf8IhIuxcA3gBlmdsDdnw86kIio+EUkjNz9oJmNoeJueAfcfVrQmURine7OJyIiEkP0Gb+IiEgMUfGLiIjEEBW/iIhIDFHxi4iIxBAVv4iISAxR8YuIiMQQFb+IiEgMUfGLiIjEkP8PIUieU2ysL4kAAAAASUVORK5CYII=\n",
       "datasetInfos": [],
       "metadata": {},
       "removedWidgets": [],
       "type": "image"
      }
     },
     "output_type": "display_data"
    }
   ],
   "source": [
    "#Elbow Method\n",
    "\n",
    "import numpy as np\n",
    "from pyspark.ml.clustering import KMeans\n",
    "from pyspark.ml.evaluation import ClusteringEvaluator\n",
    "import matplotlib.pyplot as plt\n",
    "from matplotlib.ticker import MaxNLocator\n",
    "\n",
    "cost = np.zeros(20)\n",
    "\n",
    "for k in range(2, 20):\n",
    "    kmeans = KMeans().setK(k).setSeed(1).setFeaturesCol(\"indexedFeatures\").setPredictionCol(\"prediction\")\n",
    "    model = kmeans.fit(data)\n",
    "    predictions = model.transform(data)\n",
    "    \n",
    "    evaluator = ClusteringEvaluator()\n",
    "    cost[k] = evaluator.evaluate(predictions)\n",
    "\n",
    "fig, ax = plt.subplots(1, 1, figsize=(8, 6))\n",
    "ax.plot(range(2, 20), cost[2:20])\n",
    "ax.set_xlabel('k')\n",
    "ax.set_ylabel('cost')\n",
    "ax.xaxis.set_major_locator(MaxNLocator(integer=True))\n",
    "plt.show()"
   ]
  },
  {
   "cell_type": "code",
   "execution_count": 0,
   "metadata": {
    "application/vnd.databricks.v1+cell": {
     "cellMetadata": {
      "byteLimit": 2048000,
      "rowLimit": 10000
     },
     "inputWidgets": {},
     "nuid": "95e4efd3-2174-4f88-80c8-07cee7061641",
     "showTitle": false,
     "title": ""
    }
   },
   "outputs": [
    {
     "output_type": "stream",
     "name": "stdout",
     "output_type": "stream",
     "text": [
      "+-------------------+-------------------+-------+\n|           features|    indexedFeatures|cluster|\n+-------------------+-------------------+-------+\n|  [1.0,5.1,3.5,1.4]|  [1.0,5.1,3.5,1.4]|      1|\n|  [2.0,4.9,3.0,1.4]|  [2.0,4.9,3.0,1.4]|      1|\n|  [3.0,4.7,3.2,1.3]|  [3.0,4.7,3.2,1.3]|      1|\n|  [4.0,4.6,3.1,1.5]|  [4.0,4.6,3.1,1.5]|      1|\n|  [5.0,5.0,3.6,1.4]|  [5.0,5.0,3.6,1.4]|      1|\n|  [6.0,5.4,3.9,1.7]|  [6.0,5.4,3.9,1.7]|      1|\n|  [7.0,4.6,3.4,1.4]|  [7.0,4.6,3.4,1.4]|      1|\n|  [8.0,5.0,3.4,1.5]|  [8.0,5.0,3.4,1.5]|      1|\n|  [9.0,4.4,2.9,1.4]|  [9.0,4.4,2.9,1.4]|      1|\n| [10.0,4.9,3.1,1.5]| [10.0,4.9,3.1,1.5]|      1|\n| [11.0,5.4,3.7,1.5]| [11.0,5.4,3.7,1.5]|      1|\n| [12.0,4.8,3.4,1.6]| [12.0,4.8,3.4,1.6]|      1|\n| [13.0,4.8,3.0,1.4]| [13.0,4.8,3.0,1.4]|      1|\n| [14.0,4.3,3.0,1.1]| [14.0,4.3,3.0,1.1]|      1|\n| [15.0,5.8,4.0,1.2]| [15.0,5.8,4.0,1.2]|      1|\n| [16.0,5.7,4.4,1.5]| [16.0,5.7,4.4,1.5]|      1|\n| [17.0,5.4,3.9,1.3]| [17.0,5.4,3.9,1.3]|      1|\n| [18.0,5.1,3.5,1.4]| [18.0,5.1,3.5,1.4]|      1|\n| [19.0,5.7,3.8,1.7]| [19.0,5.7,3.8,1.7]|      1|\n| [20.0,5.1,3.8,1.5]| [20.0,5.1,3.8,1.5]|      1|\n| [21.0,5.4,3.4,1.7]| [21.0,5.4,3.4,1.7]|      1|\n| [22.0,5.1,3.7,1.5]| [22.0,5.1,3.7,1.5]|      1|\n| [23.0,4.6,3.6,1.0]| [23.0,4.6,3.6,1.0]|      1|\n| [24.0,5.1,3.3,1.7]| [24.0,5.1,3.3,1.7]|      1|\n| [25.0,4.8,3.4,1.9]| [25.0,4.8,3.4,1.9]|      1|\n| [26.0,5.0,3.0,1.6]| [26.0,5.0,3.0,1.6]|      1|\n| [27.0,5.0,3.4,1.6]| [27.0,5.0,3.4,1.6]|      1|\n| [28.0,5.2,3.5,1.5]| [28.0,5.2,3.5,1.5]|      1|\n| [29.0,5.2,3.4,1.4]| [29.0,5.2,3.4,1.4]|      1|\n| [30.0,4.7,3.2,1.6]| [30.0,4.7,3.2,1.6]|      1|\n| [31.0,4.8,3.1,1.6]| [31.0,4.8,3.1,1.6]|      1|\n| [32.0,5.4,3.4,1.5]| [32.0,5.4,3.4,1.5]|      1|\n| [33.0,5.2,4.1,1.5]| [33.0,5.2,4.1,1.5]|      1|\n| [34.0,5.5,4.2,1.4]| [34.0,5.5,4.2,1.4]|      1|\n| [35.0,4.9,3.1,1.5]| [35.0,4.9,3.1,1.5]|      1|\n| [36.0,5.0,3.2,1.2]| [36.0,5.0,3.2,1.2]|      1|\n| [37.0,5.5,3.5,1.3]| [37.0,5.5,3.5,1.3]|      1|\n| [38.0,4.9,3.1,1.5]| [38.0,4.9,3.1,1.5]|      1|\n| [39.0,4.4,3.0,1.3]| [39.0,4.4,3.0,1.3]|      1|\n| [40.0,5.1,3.4,1.5]| [40.0,5.1,3.4,1.5]|      1|\n| [41.0,5.0,3.5,1.3]| [41.0,5.0,3.5,1.3]|      1|\n| [42.0,4.5,2.3,1.3]| [42.0,4.5,2.3,1.3]|      1|\n| [43.0,4.4,3.2,1.3]| [43.0,4.4,3.2,1.3]|      1|\n| [44.0,5.0,3.5,1.6]| [44.0,5.0,3.5,1.6]|      1|\n| [45.0,5.1,3.8,1.9]| [45.0,5.1,3.8,1.9]|      1|\n| [46.0,4.8,3.0,1.4]| [46.0,4.8,3.0,1.4]|      1|\n| [47.0,5.1,3.8,1.6]| [47.0,5.1,3.8,1.6]|      1|\n| [48.0,4.6,3.2,1.4]| [48.0,4.6,3.2,1.4]|      1|\n| [49.0,5.3,3.7,1.5]| [49.0,5.3,3.7,1.5]|      1|\n| [50.0,5.0,3.3,1.4]| [50.0,5.0,3.3,1.4]|      0|\n| [51.0,7.0,3.2,4.7]| [51.0,7.0,3.2,4.7]|      0|\n| [52.0,6.4,3.2,4.5]| [52.0,6.4,3.2,4.5]|      0|\n| [53.0,6.9,3.1,4.9]| [53.0,6.9,3.1,4.9]|      0|\n| [54.0,5.5,2.3,4.0]| [54.0,5.5,2.3,4.0]|      0|\n| [55.0,6.5,2.8,4.6]| [55.0,6.5,2.8,4.6]|      0|\n| [56.0,5.7,2.8,4.5]| [56.0,5.7,2.8,4.5]|      0|\n| [57.0,6.3,3.3,4.7]| [57.0,6.3,3.3,4.7]|      0|\n| [58.0,4.9,2.4,3.3]| [58.0,4.9,2.4,3.3]|      0|\n| [59.0,6.6,2.9,4.6]| [59.0,6.6,2.9,4.6]|      0|\n| [60.0,5.2,2.7,3.9]| [60.0,5.2,2.7,3.9]|      0|\n| [61.0,5.0,2.0,3.5]| [61.0,5.0,2.0,3.5]|      0|\n| [62.0,5.9,3.0,4.2]| [62.0,5.9,3.0,4.2]|      0|\n| [63.0,6.0,2.2,4.0]| [63.0,6.0,2.2,4.0]|      0|\n| [64.0,6.1,2.9,4.7]| [64.0,6.1,2.9,4.7]|      0|\n| [65.0,5.6,2.9,3.6]| [65.0,5.6,2.9,3.6]|      0|\n| [66.0,6.7,3.1,4.4]| [66.0,6.7,3.1,4.4]|      0|\n| [67.0,5.6,3.0,4.5]| [67.0,5.6,3.0,4.5]|      0|\n| [68.0,5.8,2.7,4.1]| [68.0,5.8,2.7,4.1]|      0|\n| [69.0,6.2,2.2,4.5]| [69.0,6.2,2.2,4.5]|      0|\n| [70.0,5.6,2.5,3.9]| [70.0,5.6,2.5,3.9]|      0|\n| [71.0,5.9,3.2,4.8]| [71.0,5.9,3.2,4.8]|      0|\n| [72.0,6.1,2.8,4.0]| [72.0,6.1,2.8,4.0]|      0|\n| [73.0,6.3,2.5,4.9]| [73.0,6.3,2.5,4.9]|      0|\n| [74.0,6.1,2.8,4.7]| [74.0,6.1,2.8,4.7]|      0|\n| [75.0,6.4,2.9,4.3]| [75.0,6.4,2.9,4.3]|      0|\n| [76.0,6.6,3.0,4.4]| [76.0,6.6,3.0,4.4]|      0|\n| [77.0,6.8,2.8,4.8]| [77.0,6.8,2.8,4.8]|      0|\n| [78.0,6.7,3.0,5.0]| [78.0,6.7,3.0,5.0]|      0|\n| [79.0,6.0,2.9,4.5]| [79.0,6.0,2.9,4.5]|      0|\n| [80.0,5.7,2.6,3.5]| [80.0,5.7,2.6,3.5]|      0|\n| [81.0,5.5,2.4,3.8]| [81.0,5.5,2.4,3.8]|      0|\n| [82.0,5.5,2.4,3.7]| [82.0,5.5,2.4,3.7]|      0|\n| [83.0,5.8,2.7,3.9]| [83.0,5.8,2.7,3.9]|      0|\n| [84.0,6.0,2.7,5.1]| [84.0,6.0,2.7,5.1]|      0|\n| [85.0,5.4,3.0,4.5]| [85.0,5.4,3.0,4.5]|      0|\n| [86.0,6.0,3.4,4.5]| [86.0,6.0,3.4,4.5]|      0|\n| [87.0,6.7,3.1,4.7]| [87.0,6.7,3.1,4.7]|      0|\n| [88.0,6.3,2.3,4.4]| [88.0,6.3,2.3,4.4]|      0|\n| [89.0,5.6,3.0,4.1]| [89.0,5.6,3.0,4.1]|      0|\n| [90.0,5.5,2.5,4.0]| [90.0,5.5,2.5,4.0]|      0|\n| [91.0,5.5,2.6,4.4]| [91.0,5.5,2.6,4.4]|      0|\n| [92.0,6.1,3.0,4.6]| [92.0,6.1,3.0,4.6]|      0|\n| [93.0,5.8,2.6,4.0]| [93.0,5.8,2.6,4.0]|      0|\n| [94.0,5.0,2.3,3.3]| [94.0,5.0,2.3,3.3]|      0|\n| [95.0,5.6,2.7,4.2]| [95.0,5.6,2.7,4.2]|      0|\n| [96.0,5.7,3.0,4.2]| [96.0,5.7,3.0,4.2]|      0|\n| [97.0,5.7,2.9,4.2]| [97.0,5.7,2.9,4.2]|      0|\n| [98.0,6.2,2.9,4.3]| [98.0,6.2,2.9,4.3]|      0|\n| [99.0,5.1,2.5,3.0]| [99.0,5.1,2.5,3.0]|      0|\n|[100.0,5.7,2.8,4.1]|[100.0,5.7,2.8,4.1]|      2|\n+-------------------+-------------------+-------+\nonly showing top 100 rows\n\n"
     ]
    }
   ],
   "source": [
    "#Pipeline Architecture\n",
    "\n",
    "from pyspark.ml.clustering import KMeans, KMeansModel\n",
    "\n",
    "kmeans = KMeans().setK(3).setFeaturesCol(\"indexedFeatures\").setPredictionCol(\"cluster\")\n",
    "\n",
    "pipeline = Pipeline(stages = [featureIndexer, kmeans])\n",
    "\n",
    "model = pipeline.fit(transformed)\n",
    "\n",
    "cluster = model.transform(transformed)\n",
    "\n",
    "cluster.show(100)"
   ]
  },
  {
   "cell_type": "code",
   "execution_count": 0,
   "metadata": {
    "application/vnd.databricks.v1+cell": {
     "cellMetadata": {},
     "inputWidgets": {},
     "nuid": "6664faa0-f742-4987-b6b6-28a07428f0f3",
     "showTitle": false,
     "title": ""
    }
   },
   "outputs": [],
   "source": []
  }
 ],
 "metadata": {
  "application/vnd.databricks.v1+notebook": {
   "dashboards": [],
   "language": "python",
   "notebookMetadata": {
    "pythonIndentUnit": 4
   },
   "notebookName": "07072023 - DEB",
   "widgets": {}
  }
 },
 "nbformat": 4,
 "nbformat_minor": 0
}
