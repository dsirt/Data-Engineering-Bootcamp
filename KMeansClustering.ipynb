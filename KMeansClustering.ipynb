{
  "nbformat": 4,
  "nbformat_minor": 0,
  "metadata": {
    "colab": {
      "provenance": [],
      "authorship_tag": "ABX9TyPYOFtInWM0VXhCyv9d0+QQ",
      "include_colab_link": true
    },
    "kernelspec": {
      "name": "python3",
      "display_name": "Python 3"
    },
    "language_info": {
      "name": "python"
    }
  },
  "cells": [
    {
      "cell_type": "markdown",
      "metadata": {
        "id": "view-in-github",
        "colab_type": "text"
      },
      "source": [
        "<a href=\"https://colab.research.google.com/github/dsirt/Data-Engineering-Bootcamp/blob/main/KMeansClustering.ipynb\" target=\"_parent\"><img src=\"https://colab.research.google.com/assets/colab-badge.svg\" alt=\"Open In Colab\"/></a>"
      ]
    },
    {
      "cell_type": "code",
      "execution_count": 1,
      "metadata": {
        "id": "IMkTEdV4tqF_",
        "outputId": "0d661c2b-112f-47a9-c1f5-b956bb90b79a",
        "colab": {
          "base_uri": "https://localhost:8080/"
        }
      },
      "outputs": [
        {
          "output_type": "stream",
          "name": "stdout",
          "text": [
            "Collecting delta-spark==2.4.0\n",
            "  Downloading delta_spark-2.4.0-py3-none-any.whl.metadata (1.9 kB)\n",
            "Collecting pyspark<3.5.0,>=3.4.0 (from delta-spark==2.4.0)\n",
            "  Downloading pyspark-3.4.4.tar.gz (311.4 MB)\n",
            "\u001b[2K     \u001b[90m━━━━━━━━━━━━━━━━━━━━━━━━━━━━━━━━━━━━━━━━\u001b[0m \u001b[32m311.4/311.4 MB\u001b[0m \u001b[31m4.1 MB/s\u001b[0m eta \u001b[36m0:00:00\u001b[0m\n",
            "\u001b[?25h  Preparing metadata (setup.py) ... \u001b[?25l\u001b[?25hdone\n",
            "Requirement already satisfied: importlib-metadata>=1.0.0 in /usr/local/lib/python3.11/dist-packages (from delta-spark==2.4.0) (8.5.0)\n",
            "Requirement already satisfied: zipp>=3.20 in /usr/local/lib/python3.11/dist-packages (from importlib-metadata>=1.0.0->delta-spark==2.4.0) (3.21.0)\n",
            "Requirement already satisfied: py4j==0.10.9.7 in /usr/local/lib/python3.11/dist-packages (from pyspark<3.5.0,>=3.4.0->delta-spark==2.4.0) (0.10.9.7)\n",
            "Downloading delta_spark-2.4.0-py3-none-any.whl (20 kB)\n",
            "Building wheels for collected packages: pyspark\n",
            "  Building wheel for pyspark (setup.py) ... \u001b[?25l\u001b[?25hdone\n",
            "  Created wheel for pyspark: filename=pyspark-3.4.4-py2.py3-none-any.whl size=311905460 sha256=7cf5acbacb4359b3ed876ef10a2003573b2ed4be528a7130c93858af96d6a52a\n",
            "  Stored in directory: /root/.cache/pip/wheels/6b/0a/a1/2b8f5f192c7df9fdceb8e5a62873d64e46b101f980519bcf55\n",
            "Successfully built pyspark\n",
            "Installing collected packages: pyspark, delta-spark\n",
            "  Attempting uninstall: pyspark\n",
            "    Found existing installation: pyspark 3.5.4\n",
            "    Uninstalling pyspark-3.5.4:\n",
            "      Successfully uninstalled pyspark-3.5.4\n",
            "Successfully installed delta-spark-2.4.0 pyspark-3.4.4\n"
          ]
        }
      ],
      "source": [
        "!pip install delta-spark==2.4.0"
      ]
    },
    {
      "cell_type": "code",
      "source": [
        "from pyspark.sql import SparkSession\n",
        "\n",
        "spark = SparkSession \\\n",
        "    .builder \\\n",
        "    .appName('K-Means Clustering with Pyspark') \\\n",
        "    .getOrCreate()"
      ],
      "metadata": {
        "id": "OC1VV6L0tru4"
      },
      "execution_count": 2,
      "outputs": []
    },
    {
      "cell_type": "code",
      "source": [
        "df = spark.read.format('csv').\\\n",
        "    options(header = 'true', inferschema = 'true')\\\n",
        "    .load(\"/content/Iris.csv\", header = 'True')\n",
        "\n",
        "df.show(5)\n",
        "df.printSchema()"
      ],
      "metadata": {
        "colab": {
          "base_uri": "https://localhost:8080/"
        },
        "id": "TMFio_NRkHLI",
        "outputId": "66fc1540-15f2-48d7-e262-f8360f48c1f0"
      },
      "execution_count": 4,
      "outputs": [
        {
          "output_type": "stream",
          "name": "stdout",
          "text": [
            "+------------+-------------+-------------+------------+------+\n",
            "|sepal-length| sepal-length| petal-length| petal-width| Class|\n",
            "+------------+-------------+-------------+------------+------+\n",
            "|           1|          5.1|          3.5|         1.4|   0.2|\n",
            "|           2|          4.9|          3.0|         1.4|   0.2|\n",
            "|           3|          4.7|          3.2|         1.3|   0.2|\n",
            "|           4|          4.6|          3.1|         1.5|   0.2|\n",
            "|           5|          5.0|          3.6|         1.4|   0.2|\n",
            "+------------+-------------+-------------+------------+------+\n",
            "only showing top 5 rows\n",
            "\n",
            "root\n",
            " |-- sepal-length: integer (nullable = true)\n",
            " |--  sepal-length: double (nullable = true)\n",
            " |--  petal-length: double (nullable = true)\n",
            " |--  petal-width: double (nullable = true)\n",
            " |--  Class: double (nullable = true)\n",
            "\n"
          ]
        }
      ]
    },
    {
      "cell_type": "code",
      "source": [
        "df.describe().show()"
      ],
      "metadata": {
        "colab": {
          "base_uri": "https://localhost:8080/"
        },
        "id": "XgSEGnh1k0VD",
        "outputId": "562be34f-22d4-40a6-9164-8ee54ac37e5d"
      },
      "execution_count": 5,
      "outputs": [
        {
          "output_type": "stream",
          "name": "stdout",
          "text": [
            "+-------+------------------+------------------+-------------------+------------------+------------------+\n",
            "|summary|      sepal-length|      sepal-length|       petal-length|       petal-width|             Class|\n",
            "+-------+------------------+------------------+-------------------+------------------+------------------+\n",
            "|  count|               150|               150|                150|               150|               150|\n",
            "|   mean|              75.5| 5.843333333333335| 3.0540000000000007|3.7586666666666693|1.1986666666666672|\n",
            "| stddev|43.445367992456916|0.8280661279778637|0.43359431136217375| 1.764420419952262|0.7631607417008414|\n",
            "|    min|                 1|               4.3|                2.0|               1.0|               0.1|\n",
            "|    max|               150|               7.9|                4.4|               6.9|               2.5|\n",
            "+-------+------------------+------------------+-------------------+------------------+------------------+\n",
            "\n"
          ]
        }
      ]
    },
    {
      "cell_type": "code",
      "source": [
        "from pyspark.ml.linalg import Vectors\n",
        "from pyspark.sql import Row\n",
        "\n",
        "# Veri dönüşüm fonksiyonu (sadece features sütunu ile)\n",
        "def transData(data):\n",
        "    return data.rdd.map(\n",
        "        lambda r: Row(features=Vectors.dense(r))\n",
        "    ).toDF()\n",
        "\n",
        "# Dönüşüm işlemi\n",
        "transformed = transData(df)\n",
        "transformed.show(5, truncate=False)"
      ],
      "metadata": {
        "colab": {
          "base_uri": "https://localhost:8080/"
        },
        "id": "X3ZHXcF9k3dq",
        "outputId": "4ebb95a6-234f-4ce4-ca7e-f6d93258d611"
      },
      "execution_count": 9,
      "outputs": [
        {
          "output_type": "stream",
          "name": "stdout",
          "text": [
            "+---------------------+\n",
            "|features             |\n",
            "+---------------------+\n",
            "|[1.0,5.1,3.5,1.4,0.2]|\n",
            "|[2.0,4.9,3.0,1.4,0.2]|\n",
            "|[3.0,4.7,3.2,1.3,0.2]|\n",
            "|[4.0,4.6,3.1,1.5,0.2]|\n",
            "|[5.0,5.0,3.6,1.4,0.2]|\n",
            "+---------------------+\n",
            "only showing top 5 rows\n",
            "\n"
          ]
        }
      ]
    },
    {
      "cell_type": "code",
      "source": [
        "from pyspark.ml import Pipeline\n",
        "from pyspark.ml.regression import LinearRegression\n",
        "from pyspark.ml.feature import VectorIndexer\n",
        "from pyspark.ml.evaluation import RegressionEvaluator\n",
        "\n",
        "featureIndexer = VectorIndexer(inputCol = \"features\", outputCol = 'indexedFeatures', maxCategories = 4).fit(transformed)\n",
        "\n",
        "data = featureIndexer.transform(transformed)\n",
        "\n",
        "data.show(5)"
      ],
      "metadata": {
        "colab": {
          "base_uri": "https://localhost:8080/"
        },
        "id": "V_GIcLZzlRS6",
        "outputId": "8fd3b400-19ab-4639-c12b-777be06c0560"
      },
      "execution_count": 10,
      "outputs": [
        {
          "output_type": "stream",
          "name": "stdout",
          "text": [
            "+--------------------+--------------------+\n",
            "|            features|     indexedFeatures|\n",
            "+--------------------+--------------------+\n",
            "|[1.0,5.1,3.5,1.4,...|[1.0,5.1,3.5,1.4,...|\n",
            "|[2.0,4.9,3.0,1.4,...|[2.0,4.9,3.0,1.4,...|\n",
            "|[3.0,4.7,3.2,1.3,...|[3.0,4.7,3.2,1.3,...|\n",
            "|[4.0,4.6,3.1,1.5,...|[4.0,4.6,3.1,1.5,...|\n",
            "|[5.0,5.0,3.6,1.4,...|[5.0,5.0,3.6,1.4,...|\n",
            "+--------------------+--------------------+\n",
            "only showing top 5 rows\n",
            "\n"
          ]
        }
      ]
    },
    {
      "cell_type": "code",
      "source": [
        "from pyspark.ml.clustering import KMeans\n",
        "from pyspark.ml.evaluation import ClusteringEvaluator\n",
        "import matplotlib.pyplot as plt\n",
        "\n",
        "# Elbow Method için k değerlerini hesapla\n",
        "costs = []\n",
        "k_values = range(2, 20)\n",
        "\n",
        "for k in k_values:\n",
        "    kmeans = KMeans(k=k, seed=1, featuresCol=\"indexedFeatures\")\n",
        "    model = kmeans.fit(data)\n",
        "    predictions = model.transform(data)\n",
        "\n",
        "    evaluator = ClusteringEvaluator()\n",
        "    score = evaluator.evaluate(predictions)\n",
        "    costs.append(score)\n",
        "\n",
        "# Elbow Method grafiği\n",
        "plt.figure(figsize=(8, 6))\n",
        "plt.plot(k_values, costs, marker='o')\n",
        "plt.xlabel('k (Cluster Sayısı)')\n",
        "plt.ylabel('Cost (Evaluator Skoru)')\n",
        "plt.title('Elbow Method')\n",
        "plt.grid(True)\n",
        "plt.show()"
      ],
      "metadata": {
        "colab": {
          "base_uri": "https://localhost:8080/",
          "height": 564
        },
        "id": "Uzdk8oQellQK",
        "outputId": "fe3e5114-5b1d-47d3-a7d0-9a687a1e4fb2"
      },
      "execution_count": 12,
      "outputs": [
        {
          "output_type": "display_data",
          "data": {
            "text/plain": [
              "<Figure size 800x600 with 1 Axes>"
            ],
            "image/png": "[encoded data removed]"
          },
          "metadata": {}
        }
      ]
    },
    {
      "cell_type": "code",
      "source": [
        "#Pipeline Architecture\n",
        "\n",
        "from pyspark.ml.clustering import KMeans, KMeansModel\n",
        "\n",
        "kmeans = KMeans().setK(3).setFeaturesCol(\"indexedFeatures\").setPredictionCol(\"cluster\")\n",
        "\n",
        "pipeline = Pipeline(stages = [featureIndexer, kmeans])\n",
        "\n",
        "model = pipeline.fit(transformed)\n",
        "\n",
        "cluster = model.transform(transformed)\n",
        "\n",
        "cluster.show(100)"
      ],
      "metadata": {
        "colab": {
          "base_uri": "https://localhost:8080/"
        },
        "id": "n4gcSXE1nd8K",
        "outputId": "8befbdf8-98bb-4c1b-9aaf-7ba6d410223d"
      },
      "execution_count": 13,
      "outputs": [
        {
          "output_type": "stream",
          "name": "stdout",
          "text": [
            "+--------------------+--------------------+-------+\n",
            "|            features|     indexedFeatures|cluster|\n",
            "+--------------------+--------------------+-------+\n",
            "|[1.0,5.1,3.5,1.4,...|[1.0,5.1,3.5,1.4,...|      0|\n",
            "|[2.0,4.9,3.0,1.4,...|[2.0,4.9,3.0,1.4,...|      0|\n",
            "|[3.0,4.7,3.2,1.3,...|[3.0,4.7,3.2,1.3,...|      0|\n",
            "|[4.0,4.6,3.1,1.5,...|[4.0,4.6,3.1,1.5,...|      0|\n",
            "|[5.0,5.0,3.6,1.4,...|[5.0,5.0,3.6,1.4,...|      0|\n",
            "|[6.0,5.4,3.9,1.7,...|[6.0,5.4,3.9,1.7,...|      0|\n",
            "|[7.0,4.6,3.4,1.4,...|[7.0,4.6,3.4,1.4,...|      0|\n",
            "|[8.0,5.0,3.4,1.5,...|[8.0,5.0,3.4,1.5,...|      0|\n",
            "|[9.0,4.4,2.9,1.4,...|[9.0,4.4,2.9,1.4,...|      0|\n",
            "|[10.0,4.9,3.1,1.5...|[10.0,4.9,3.1,1.5...|      0|\n",
            "|[11.0,5.4,3.7,1.5...|[11.0,5.4,3.7,1.5...|      0|\n",
            "|[12.0,4.8,3.4,1.6...|[12.0,4.8,3.4,1.6...|      0|\n",
            "|[13.0,4.8,3.0,1.4...|[13.0,4.8,3.0,1.4...|      0|\n",
            "|[14.0,4.3,3.0,1.1...|[14.0,4.3,3.0,1.1...|      0|\n",
            "|[15.0,5.8,4.0,1.2...|[15.0,5.8,4.0,1.2...|      0|\n",
            "|[16.0,5.7,4.4,1.5...|[16.0,5.7,4.4,1.5...|      0|\n",
            "|[17.0,5.4,3.9,1.3...|[17.0,5.4,3.9,1.3...|      0|\n",
            "|[18.0,5.1,3.5,1.4...|[18.0,5.1,3.5,1.4...|      0|\n",
            "|[19.0,5.7,3.8,1.7...|[19.0,5.7,3.8,1.7...|      0|\n",
            "|[20.0,5.1,3.8,1.5...|[20.0,5.1,3.8,1.5...|      0|\n",
            "|[21.0,5.4,3.4,1.7...|[21.0,5.4,3.4,1.7...|      0|\n",
            "|[22.0,5.1,3.7,1.5...|[22.0,5.1,3.7,1.5...|      0|\n",
            "|[23.0,4.6,3.6,1.0...|[23.0,4.6,3.6,1.0...|      0|\n",
            "|[24.0,5.1,3.3,1.7...|[24.0,5.1,3.3,1.7...|      0|\n",
            "|[25.0,4.8,3.4,1.9...|[25.0,4.8,3.4,1.9...|      0|\n",
            "|[26.0,5.0,3.0,1.6...|[26.0,5.0,3.0,1.6...|      0|\n",
            "|[27.0,5.0,3.4,1.6...|[27.0,5.0,3.4,1.6...|      0|\n",
            "|[28.0,5.2,3.5,1.5...|[28.0,5.2,3.5,1.5...|      0|\n",
            "|[29.0,5.2,3.4,1.4...|[29.0,5.2,3.4,1.4...|      0|\n",
            "|[30.0,4.7,3.2,1.6...|[30.0,4.7,3.2,1.6...|      0|\n",
            "|[31.0,4.8,3.1,1.6...|[31.0,4.8,3.1,1.6...|      0|\n",
            "|[32.0,5.4,3.4,1.5...|[32.0,5.4,3.4,1.5...|      0|\n",
            "|[33.0,5.2,4.1,1.5...|[33.0,5.2,4.1,1.5...|      0|\n",
            "|[34.0,5.5,4.2,1.4...|[34.0,5.5,4.2,1.4...|      0|\n",
            "|[35.0,4.9,3.1,1.5...|[35.0,4.9,3.1,1.5...|      0|\n",
            "|[36.0,5.0,3.2,1.2...|[36.0,5.0,3.2,1.2...|      0|\n",
            "|[37.0,5.5,3.5,1.3...|[37.0,5.5,3.5,1.3...|      0|\n",
            "|[38.0,4.9,3.1,1.5...|[38.0,4.9,3.1,1.5...|      0|\n",
            "|[39.0,4.4,3.0,1.3...|[39.0,4.4,3.0,1.3...|      0|\n",
            "|[40.0,5.1,3.4,1.5...|[40.0,5.1,3.4,1.5...|      0|\n",
            "|[41.0,5.0,3.5,1.3...|[41.0,5.0,3.5,1.3...|      0|\n",
            "|[42.0,4.5,2.3,1.3...|[42.0,4.5,2.3,1.3...|      0|\n",
            "|[43.0,4.4,3.2,1.3...|[43.0,4.4,3.2,1.3...|      0|\n",
            "|[44.0,5.0,3.5,1.6...|[44.0,5.0,3.5,1.6...|      0|\n",
            "|[45.0,5.1,3.8,1.9...|[45.0,5.1,3.8,1.9...|      0|\n",
            "|[46.0,4.8,3.0,1.4...|[46.0,4.8,3.0,1.4...|      0|\n",
            "|[47.0,5.1,3.8,1.6...|[47.0,5.1,3.8,1.6...|      0|\n",
            "|[48.0,4.6,3.2,1.4...|[48.0,4.6,3.2,1.4...|      0|\n",
            "|[49.0,5.3,3.7,1.5...|[49.0,5.3,3.7,1.5...|      0|\n",
            "|[50.0,5.0,3.3,1.4...|[50.0,5.0,3.3,1.4...|      0|\n",
            "|[51.0,7.0,3.2,4.7...|[51.0,7.0,3.2,4.7...|      0|\n",
            "|[52.0,6.4,3.2,4.5...|[52.0,6.4,3.2,4.5...|      1|\n",
            "|[53.0,6.9,3.1,4.9...|[53.0,6.9,3.1,4.9...|      1|\n",
            "|[54.0,5.5,2.3,4.0...|[54.0,5.5,2.3,4.0...|      1|\n",
            "|[55.0,6.5,2.8,4.6...|[55.0,6.5,2.8,4.6...|      1|\n",
            "|[56.0,5.7,2.8,4.5...|[56.0,5.7,2.8,4.5...|      1|\n",
            "|[57.0,6.3,3.3,4.7...|[57.0,6.3,3.3,4.7...|      1|\n",
            "|[58.0,4.9,2.4,3.3...|[58.0,4.9,2.4,3.3...|      1|\n",
            "|[59.0,6.6,2.9,4.6...|[59.0,6.6,2.9,4.6...|      1|\n",
            "|[60.0,5.2,2.7,3.9...|[60.0,5.2,2.7,3.9...|      1|\n",
            "|[61.0,5.0,2.0,3.5...|[61.0,5.0,2.0,3.5...|      1|\n",
            "|[62.0,5.9,3.0,4.2...|[62.0,5.9,3.0,4.2...|      1|\n",
            "|[63.0,6.0,2.2,4.0...|[63.0,6.0,2.2,4.0...|      1|\n",
            "|[64.0,6.1,2.9,4.7...|[64.0,6.1,2.9,4.7...|      1|\n",
            "|[65.0,5.6,2.9,3.6...|[65.0,5.6,2.9,3.6...|      1|\n",
            "|[66.0,6.7,3.1,4.4...|[66.0,6.7,3.1,4.4...|      1|\n",
            "|[67.0,5.6,3.0,4.5...|[67.0,5.6,3.0,4.5...|      1|\n",
            "|[68.0,5.8,2.7,4.1...|[68.0,5.8,2.7,4.1...|      1|\n",
            "|[69.0,6.2,2.2,4.5...|[69.0,6.2,2.2,4.5...|      1|\n",
            "|[70.0,5.6,2.5,3.9...|[70.0,5.6,2.5,3.9...|      1|\n",
            "|[71.0,5.9,3.2,4.8...|[71.0,5.9,3.2,4.8...|      1|\n",
            "|[72.0,6.1,2.8,4.0...|[72.0,6.1,2.8,4.0...|      1|\n",
            "|[73.0,6.3,2.5,4.9...|[73.0,6.3,2.5,4.9...|      1|\n",
            "|[74.0,6.1,2.8,4.7...|[74.0,6.1,2.8,4.7...|      1|\n",
            "|[75.0,6.4,2.9,4.3...|[75.0,6.4,2.9,4.3...|      1|\n",
            "|[76.0,6.6,3.0,4.4...|[76.0,6.6,3.0,4.4...|      1|\n",
            "|[77.0,6.8,2.8,4.8...|[77.0,6.8,2.8,4.8...|      1|\n",
            "|[78.0,6.7,3.0,5.0...|[78.0,6.7,3.0,5.0...|      1|\n",
            "|[79.0,6.0,2.9,4.5...|[79.0,6.0,2.9,4.5...|      1|\n",
            "|[80.0,5.7,2.6,3.5...|[80.0,5.7,2.6,3.5...|      1|\n",
            "|[81.0,5.5,2.4,3.8...|[81.0,5.5,2.4,3.8...|      1|\n",
            "|[82.0,5.5,2.4,3.7...|[82.0,5.5,2.4,3.7...|      1|\n",
            "|[83.0,5.8,2.7,3.9...|[83.0,5.8,2.7,3.9...|      1|\n",
            "|[84.0,6.0,2.7,5.1...|[84.0,6.0,2.7,5.1...|      1|\n",
            "|[85.0,5.4,3.0,4.5...|[85.0,5.4,3.0,4.5...|      1|\n",
            "|[86.0,6.0,3.4,4.5...|[86.0,6.0,3.4,4.5...|      1|\n",
            "|[87.0,6.7,3.1,4.7...|[87.0,6.7,3.1,4.7...|      1|\n",
            "|[88.0,6.3,2.3,4.4...|[88.0,6.3,2.3,4.4...|      1|\n",
            "|[89.0,5.6,3.0,4.1...|[89.0,5.6,3.0,4.1...|      1|\n",
            "|[90.0,5.5,2.5,4.0...|[90.0,5.5,2.5,4.0...|      1|\n",
            "|[91.0,5.5,2.6,4.4...|[91.0,5.5,2.6,4.4...|      1|\n",
            "|[92.0,6.1,3.0,4.6...|[92.0,6.1,3.0,4.6...|      1|\n",
            "|[93.0,5.8,2.6,4.0...|[93.0,5.8,2.6,4.0...|      1|\n",
            "|[94.0,5.0,2.3,3.3...|[94.0,5.0,2.3,3.3...|      1|\n",
            "|[95.0,5.6,2.7,4.2...|[95.0,5.6,2.7,4.2...|      1|\n",
            "|[96.0,5.7,3.0,4.2...|[96.0,5.7,3.0,4.2...|      1|\n",
            "|[97.0,5.7,2.9,4.2...|[97.0,5.7,2.9,4.2...|      1|\n",
            "|[98.0,6.2,2.9,4.3...|[98.0,6.2,2.9,4.3...|      1|\n",
            "|[99.0,5.1,2.5,3.0...|[99.0,5.1,2.5,3.0...|      1|\n",
            "|[100.0,5.7,2.8,4....|[100.0,5.7,2.8,4....|      1|\n",
            "+--------------------+--------------------+-------+\n",
            "only showing top 100 rows\n",
            "\n"
          ]
        }
      ]
    }
  ]
}