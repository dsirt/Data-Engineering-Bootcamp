{
  "nbformat": 4,
  "nbformat_minor": 0,
  "metadata": {
    "colab": {
      "provenance": [],
      "authorship_tag": "ABX9TyOChKmwWhlBXmMVCTibEN0G",
      "include_colab_link": true
    },
    "kernelspec": {
      "name": "python3",
      "display_name": "Python 3"
    },
    "language_info": {
      "name": "python"
    }
  },
  "cells": [
    {
      "cell_type": "markdown",
      "metadata": {
        "id": "view-in-github",
        "colab_type": "text"
      },
      "source": [
        "<a href=\"https://colab.research.google.com/github/dsirt/Data-Engineering-Bootcamp/blob/main/LineerRegression_Albaraka.ipynb\" target=\"_parent\"><img src=\"https://colab.research.google.com/assets/colab-badge.svg\" alt=\"Open In Colab\"/></a>"
      ]
    },
    {
      "cell_type": "code",
      "source": [
        "!pip install delta-spark==2.4.0"
      ],
      "metadata": {
        "colab": {
          "base_uri": "https://localhost:8080/"
        },
        "id": "HRlfSk41T9bt",
        "outputId": "0525b9b1-fb6b-49db-d158-799f96a89e35"
      },
      "execution_count": 3,
      "outputs": [
        {
          "output_type": "stream",
          "name": "stdout",
          "text": [
            "Requirement already satisfied: delta-spark==2.4.0 in /usr/local/lib/python3.11/dist-packages (2.4.0)\n",
            "Requirement already satisfied: pyspark<3.5.0,>=3.4.0 in /usr/local/lib/python3.11/dist-packages (from delta-spark==2.4.0) (3.4.4)\n",
            "Requirement already satisfied: importlib-metadata>=1.0.0 in /usr/local/lib/python3.11/dist-packages (from delta-spark==2.4.0) (8.5.0)\n",
            "Requirement already satisfied: zipp>=3.20 in /usr/local/lib/python3.11/dist-packages (from importlib-metadata>=1.0.0->delta-spark==2.4.0) (3.21.0)\n",
            "Requirement already satisfied: py4j==0.10.9.7 in /usr/local/lib/python3.11/dist-packages (from pyspark<3.5.0,>=3.4.0->delta-spark==2.4.0) (0.10.9.7)\n"
          ]
        }
      ]
    },
    {
      "cell_type": "code",
      "source": [
        "from pyspark.sql import SparkSession\n",
        "\n",
        "# Add Delta Lake package dependency\n",
        "spark = SparkSession \\\n",
        "    .builder \\\n",
        "    .appName('Linear Regression with PySpark') \\\n",
        "    .config(\"spark.jars.packages\", \"io.delta:delta-core_2.12:2.4.0\") \\\n",
        "    .config(\"spark.sql.extensions\", \"io.delta.sql.DeltaSparkSessionExtension\") \\\n",
        "    .config(\"spark.sql.catalog.spark_catalog\", \"org.apache.spark.sql.delta.catalog.DeltaCatalog\") \\\n",
        "    .getOrCreate()\n",
        "\n",
        "# Read the CSV file using the correct format\n",
        "df = spark.read.format('csv').\\\n",
        "    options(header = 'true', inferschema = 'true').\\\n",
        "    load(\"/content/advertising.csv\")\n",
        "\n",
        "df.printSchema()\n",
        "df.show(5)"
      ],
      "metadata": {
        "colab": {
          "base_uri": "https://localhost:8080/"
        },
        "id": "KPzeyNrIUPFD",
        "outputId": "f14e2671-afa1-4122-a878-e920a3dfdb08"
      },
      "execution_count": 9,
      "outputs": [
        {
          "output_type": "stream",
          "name": "stdout",
          "text": [
            "root\n",
            " |-- TV: double (nullable = true)\n",
            " |-- Radio: double (nullable = true)\n",
            " |-- Newspaper: double (nullable = true)\n",
            " |-- Sales: double (nullable = true)\n",
            "\n",
            "+-----+-----+---------+-----+\n",
            "|   TV|Radio|Newspaper|Sales|\n",
            "+-----+-----+---------+-----+\n",
            "|230.1| 37.8|     69.2| 22.1|\n",
            "| 44.5| 39.3|     45.1| 10.4|\n",
            "| 17.2| 45.9|     69.3| 12.0|\n",
            "|151.5| 41.3|     58.5| 16.5|\n",
            "|180.8| 10.8|     58.4| 17.9|\n",
            "+-----+-----+---------+-----+\n",
            "only showing top 5 rows\n",
            "\n"
          ]
        }
      ]
    },
    {
      "cell_type": "code",
      "source": [
        "df.describe().show()"
      ],
      "metadata": {
        "colab": {
          "base_uri": "https://localhost:8080/"
        },
        "id": "Vt-h2CA6W1wl",
        "outputId": "adb74bd5-f525-4625-cea1-9d67d1fd3b4d"
      },
      "execution_count": 12,
      "outputs": [
        {
          "output_type": "stream",
          "name": "stdout",
          "text": [
            "+-------+-----------------+------------------+------------------+------------------+\n",
            "|summary|               TV|             Radio|         Newspaper|             Sales|\n",
            "+-------+-----------------+------------------+------------------+------------------+\n",
            "|  count|              200|               200|               200|               200|\n",
            "|   mean|         147.0425|23.264000000000024|30.553999999999995|15.130500000000005|\n",
            "| stddev|85.85423631490805|14.846809176168728| 21.77862083852283| 5.283892252561875|\n",
            "|    min|              0.7|               0.0|               0.3|               1.6|\n",
            "|    max|            296.4|              49.6|             114.0|              27.0|\n",
            "+-------+-----------------+------------------+------------------+------------------+\n",
            "\n"
          ]
        }
      ]
    },
    {
      "cell_type": "code",
      "source": [
        "from pyspark.sql import Row\n",
        "from pyspark.ml.linalg import Vectors\n",
        "\n",
        "def transData(data):\n",
        "    return data.rdd.map(lambda r : [Vectors.dense(r[:-1]), r[-1]]).toDF(['features', 'label'])\n",
        "\n",
        "transformed = transData(df)\n",
        "transformed.show(5)"
      ],
      "metadata": {
        "colab": {
          "base_uri": "https://localhost:8080/"
        },
        "id": "hZuS_-1EW9ok",
        "outputId": "1036d6ff-1983-4f51-aa9f-149a36a8f9bb"
      },
      "execution_count": 13,
      "outputs": [
        {
          "output_type": "stream",
          "name": "stdout",
          "text": [
            "+-----------------+-----+\n",
            "|         features|label|\n",
            "+-----------------+-----+\n",
            "|[230.1,37.8,69.2]| 22.1|\n",
            "| [44.5,39.3,45.1]| 10.4|\n",
            "| [17.2,45.9,69.3]| 12.0|\n",
            "|[151.5,41.3,58.5]| 16.5|\n",
            "|[180.8,10.8,58.4]| 17.9|\n",
            "+-----------------+-----+\n",
            "only showing top 5 rows\n",
            "\n"
          ]
        }
      ]
    },
    {
      "cell_type": "code",
      "source": [
        "from pyspark.ml import Pipeline\n",
        "from pyspark.ml.regression import LinearRegression\n",
        "from pyspark.ml.feature import VectorIndexer\n",
        "from pyspark.ml.evaluation import RegressionEvaluator\n",
        "\n",
        "featureIndexer = VectorIndexer(inputCol = \"features\", outputCol = \"indexedFeatures\", maxCategories = 4).fit(transformed)\n",
        "\n",
        "data = featureIndexer.transform(transformed)\n",
        "\n",
        "data.show(5)"
      ],
      "metadata": {
        "colab": {
          "base_uri": "https://localhost:8080/"
        },
        "id": "vtc0xX9GXB7M",
        "outputId": "729bc4c7-ce10-4401-9eaa-e50e4c0b8978"
      },
      "execution_count": 14,
      "outputs": [
        {
          "output_type": "stream",
          "name": "stdout",
          "text": [
            "+-----------------+-----+-----------------+\n",
            "|         features|label|  indexedFeatures|\n",
            "+-----------------+-----+-----------------+\n",
            "|[230.1,37.8,69.2]| 22.1|[230.1,37.8,69.2]|\n",
            "| [44.5,39.3,45.1]| 10.4| [44.5,39.3,45.1]|\n",
            "| [17.2,45.9,69.3]| 12.0| [17.2,45.9,69.3]|\n",
            "|[151.5,41.3,58.5]| 16.5|[151.5,41.3,58.5]|\n",
            "|[180.8,10.8,58.4]| 17.9|[180.8,10.8,58.4]|\n",
            "+-----------------+-----+-----------------+\n",
            "only showing top 5 rows\n",
            "\n"
          ]
        }
      ]
    },
    {
      "cell_type": "code",
      "source": [
        "(trainingData, testData) = data.randomSplit([0.6, 0.4])\n",
        "trainingData.show(5)\n",
        "testData.show(5)"
      ],
      "metadata": {
        "colab": {
          "base_uri": "https://localhost:8080/"
        },
        "id": "eXlsdLR_XJBD",
        "outputId": "5a1c8a88-6371-4a0d-b081-09fa80a90367"
      },
      "execution_count": 15,
      "outputs": [
        {
          "output_type": "stream",
          "name": "stdout",
          "text": [
            "+---------------+-----+---------------+\n",
            "|       features|label|indexedFeatures|\n",
            "+---------------+-----+---------------+\n",
            "| [4.1,11.6,5.7]|  3.2| [4.1,11.6,5.7]|\n",
            "|[7.8,38.9,50.6]|  6.6|[7.8,38.9,50.6]|\n",
            "| [8.4,27.2,2.1]|  5.7| [8.4,27.2,2.1]|\n",
            "|  [8.6,2.1,1.0]|  4.8|  [8.6,2.1,1.0]|\n",
            "|[8.7,48.9,75.0]|  7.2|[8.7,48.9,75.0]|\n",
            "+---------------+-----+---------------+\n",
            "only showing top 5 rows\n",
            "\n",
            "+----------------+-----+----------------+\n",
            "|        features|label| indexedFeatures|\n",
            "+----------------+-----+----------------+\n",
            "|  [0.7,39.6,8.7]|  1.6|  [0.7,39.6,8.7]|\n",
            "|  [5.4,29.9,9.4]|  5.3|  [5.4,29.9,9.4]|\n",
            "| [7.3,28.1,41.4]|  5.5| [7.3,28.1,41.4]|\n",
            "| [17.2,4.1,31.6]|  5.9| [17.2,4.1,31.6]|\n",
            "|[17.2,45.9,69.3]| 12.0|[17.2,45.9,69.3]|\n",
            "+----------------+-----+----------------+\n",
            "only showing top 5 rows\n",
            "\n"
          ]
        }
      ]
    },
    {
      "cell_type": "code",
      "source": [
        "lr = LinearRegression()\n",
        "\n",
        "pipeline = Pipeline(stages = [featureIndexer, lr])\n",
        "\n",
        "model = pipeline.fit(trainingData)"
      ],
      "metadata": {
        "id": "3Q7RvHkZXNNF"
      },
      "execution_count": 16,
      "outputs": []
    },
    {
      "cell_type": "code",
      "source": [
        "predictions = model.transform(testData)\n",
        "\n",
        "predictions.select(\"features\", \"label\", \"prediction\").show(5)"
      ],
      "metadata": {
        "colab": {
          "base_uri": "https://localhost:8080/"
        },
        "id": "kWUrgDy-XQ8O",
        "outputId": "60972c75-579e-4a45-c6de-b52385e3a920"
      },
      "execution_count": 17,
      "outputs": [
        {
          "output_type": "stream",
          "name": "stdout",
          "text": [
            "+----------------+-----+-----------------+\n",
            "|        features|label|       prediction|\n",
            "+----------------+-----+-----------------+\n",
            "|  [0.7,39.6,8.7]|  1.6|9.276410999724995|\n",
            "|  [5.4,29.9,9.4]|  5.3| 8.47681994558304|\n",
            "| [7.3,28.1,41.4]|  5.5|8.216939969724812|\n",
            "| [17.2,4.1,31.6]|  5.9|6.207165606980883|\n",
            "|[17.2,45.9,69.3]| 12.0| 10.5118812941027|\n",
            "+----------------+-----+-----------------+\n",
            "only showing top 5 rows\n",
            "\n"
          ]
        }
      ]
    },
    {
      "cell_type": "code",
      "source": [
        "from pyspark.ml.evaluation import RegressionEvaluator\n",
        "\n",
        "evaluator = RegressionEvaluator(labelCol = 'label', predictionCol = 'prediction', metricName = 'rmse')\n",
        "\n",
        "rmse = evaluator.evaluate(predictions)\n",
        "print('Root Mean Square Error (RMSE) on test data = %g' % rmse)"
      ],
      "metadata": {
        "colab": {
          "base_uri": "https://localhost:8080/"
        },
        "id": "KXr3wn9IXUTd",
        "outputId": "13e8e0f1-c320-4cd8-9e0b-fe5a9cb15016"
      },
      "execution_count": 18,
      "outputs": [
        {
          "output_type": "stream",
          "name": "stdout",
          "text": [
            "Root Mean Square Error (RMSE) on test data = 1.56406\n"
          ]
        }
      ]
    },
    {
      "cell_type": "code",
      "source": [
        "#r2-score hesabı\n",
        "\n",
        "y_true = predictions.select('label').toPandas()\n",
        "y_pred = predictions.select('prediction').toPandas()\n",
        "\n",
        "import sklearn.metrics\n",
        "\n",
        "r2_score = sklearn.metrics.r2_score(y_true, y_pred)\n",
        "print('r2_score: {0}'.format(r2_score))"
      ],
      "metadata": {
        "colab": {
          "base_uri": "https://localhost:8080/"
        },
        "id": "6bfGn_t1XZYY",
        "outputId": "e7a784fe-b1e1-44e8-8f55-3da1daf29b8c"
      },
      "execution_count": 19,
      "outputs": [
        {
          "output_type": "stream",
          "name": "stdout",
          "text": [
            "r2_score: 0.9155766734674027\n"
          ]
        }
      ]
    },
    {
      "cell_type": "code",
      "source": [
        "import matplotlib.pyplot as plt\n",
        "import numpy as np\n",
        "import pandas as pd"
      ],
      "metadata": {
        "id": "zyqH5Bc4XwMt"
      },
      "execution_count": 21,
      "outputs": []
    },
    {
      "cell_type": "code",
      "source": [
        "# 'label' ve 'prediction' sütunlarını seçin ve pandas DataFrame'ine dönüştürün\n",
        "pdf = predictions.select(\"label\", \"prediction\").toPandas()"
      ],
      "metadata": {
        "id": "uVQZ_gTfXznx"
      },
      "execution_count": 22,
      "outputs": []
    },
    {
      "cell_type": "code",
      "source": [
        "# Gerçek değerleri (etiketleri) x ekseninde ve tahmini değerleri y ekseninde çizdirin\n",
        "plt.scatter(pdf[\"label\"], pdf[\"prediction\"])\n",
        "\n",
        "# Regresyon çizgisini hesaplayın ve çizdirin\n",
        "# np.polyfit() fonksiyonu regresyon çizgisini hesaplamak için kullanılır\n",
        "# np.poly1d() fonksiyonu ise bir polinom fonksiyonu oluşturmak için kullanılır\n",
        "m, b = np.polyfit(pdf[\"label\"], pdf[\"prediction\"], 1)\n",
        "plt.plot(pdf[\"label\"], m * pdf[\"label\"] + b, color=\"red\")\n",
        "\n",
        "# Grafiğe başlık ve eksen etiketleri ekleyin\n",
        "plt.title(\"Doğrusal Regresyon Modeli\")\n",
        "plt.xlabel(\"Gerçek Değerler\")\n",
        "plt.ylabel(\"Tahmini Değerler\")\n",
        "\n",
        "# Grafiği görüntüleyin\n",
        "plt.show()"
      ],
      "metadata": {
        "colab": {
          "base_uri": "https://localhost:8080/",
          "height": 472
        },
        "id": "nY17rsnWXcMc",
        "outputId": "8564fd7e-b3f4-4f66-ecc9-c8dcec63718e"
      },
      "execution_count": 23,
      "outputs": [
        {
          "output_type": "display_data",
          "data": {
            "text/plain": [
              "<Figure size 640x480 with 1 Axes>"
            ],
            "image/png": "[encoded data removed]"
          },
          "metadata": {}
        }
      ]
    },
    {
      "cell_type": "code",
      "source": [],
      "metadata": {
        "id": "kph__e7XXxVA"
      },
      "execution_count": null,
      "outputs": []
    }
  ]
}