{
 "cells": [
  {
   "cell_type": "code",
   "execution_count": 0,
   "metadata": {
    "application/vnd.databricks.v1+cell": {
     "cellMetadata": {
      "byteLimit": 2048000,
      "rowLimit": 10000
     },
     "inputWidgets": {},
     "nuid": "40b070d9-8cee-4d5b-ae3d-ad44614f153c",
     "showTitle": false,
     "title": ""
    }
   },
   "outputs": [],
   "source": [
    "from pyspark.sql import SparkSession \n",
    "\n",
    "spark = SparkSession \\\n",
    "    .builder \\\n",
    "    .appName(\"RFM Customer Segmentation with PySpark\") \\\n",
    "    .getOrCreate()"
   ]
  },
  {
   "cell_type": "code",
   "execution_count": 0,
   "metadata": {
    "application/vnd.databricks.v1+cell": {
     "cellMetadata": {
      "byteLimit": 2048000,
      "rowLimit": 10000
     },
     "inputWidgets": {},
     "nuid": "09fbf487-e2cd-439e-a07a-19ccfdb2c159",
     "showTitle": false,
     "title": ""
    }
   },
   "outputs": [],
   "source": [
    "df_raw = spark.read.format('delta').\\\n",
    "    options(header = 'true', inferschema = 'true').\\\n",
    "    load(\"/user/hive/warehouse/online_retail2\", header = True)"
   ]
  },
  {
   "cell_type": "code",
   "execution_count": 0,
   "metadata": {
    "application/vnd.databricks.v1+cell": {
     "cellMetadata": {
      "byteLimit": 2048000,
      "rowLimit": 10000
     },
     "inputWidgets": {},
     "nuid": "9dde06e7-64c1-431c-88a7-39401b30a751",
     "showTitle": false,
     "title": ""
    }
   },
   "outputs": [
    {
     "output_type": "stream",
     "name": "stdout",
     "output_type": "stream",
     "text": [
      "+---------+---------+--------------------+--------+---------------+---------+----------+--------------+\n|InvoiceNo|StockCode|         Description|Quantity|    InvoiceDate|UnitPrice|CustomerID|       Country|\n+---------+---------+--------------------+--------+---------------+---------+----------+--------------+\n|   536365|   85123A|WHITE HANGING HEA...|       6|1.12.2010 08:26|     2,55|     17850|United Kingdom|\n|   536365|    71053| WHITE METAL LANTERN|       6|1.12.2010 08:26|     3,39|     17850|United Kingdom|\n|   536365|   84406B|CREAM CUPID HEART...|       8|1.12.2010 08:26|     2,75|     17850|United Kingdom|\n|   536365|   84029G|KNITTED UNION FLA...|       6|1.12.2010 08:26|     3,39|     17850|United Kingdom|\n|   536365|   84029E|RED WOOLLY HOTTIE...|       6|1.12.2010 08:26|     3,39|     17850|United Kingdom|\n+---------+---------+--------------------+--------+---------------+---------+----------+--------------+\nonly showing top 5 rows\n\nroot\n |-- InvoiceNo: string (nullable = true)\n |-- StockCode: string (nullable = true)\n |-- Description: string (nullable = true)\n |-- Quantity: long (nullable = true)\n |-- InvoiceDate: string (nullable = true)\n |-- UnitPrice: string (nullable = true)\n |-- CustomerID: long (nullable = true)\n |-- Country: string (nullable = true)\n\n"
     ]
    }
   ],
   "source": [
    "df_raw.show(5)\n",
    "df_raw.printSchema()"
   ]
  },
  {
   "cell_type": "code",
   "execution_count": 0,
   "metadata": {
    "application/vnd.databricks.v1+cell": {
     "cellMetadata": {
      "byteLimit": 2048000,
      "rowLimit": 10000
     },
     "inputWidgets": {},
     "nuid": "d987ba2c-dda9-4bb5-96e5-8081409408ce",
     "showTitle": false,
     "title": ""
    }
   },
   "outputs": [
    {
     "output_type": "stream",
     "name": "stdout",
     "output_type": "stream",
     "text": [
      "+---------+---------+-----------+--------+-----------+---------+----------+-------+\n|InvoiceNo|StockCode|Description|Quantity|InvoiceDate|UnitPrice|CustomerID|Country|\n+---------+---------+-----------+--------+-----------+---------+----------+-------+\n|   541909|   541909|     541909|  541909|     541909|   541909|    541909| 541909|\n+---------+---------+-----------+--------+-----------+---------+----------+-------+\n\n"
     ]
    }
   ],
   "source": [
    "from pyspark.sql.functions import count\n",
    "\n",
    "def my_count(df_in):\n",
    "    df_in.agg(*[count(c).alias(c) for c in df_in.columns]).show()\n",
    "\n",
    "my_count(df_raw)"
   ]
  },
  {
   "cell_type": "code",
   "execution_count": 0,
   "metadata": {
    "application/vnd.databricks.v1+cell": {
     "cellMetadata": {
      "byteLimit": 2048000,
      "rowLimit": 10000
     },
     "inputWidgets": {},
     "nuid": "f21365b1-3e8a-44be-a21e-75a90fb16efa",
     "showTitle": false,
     "title": ""
    }
   },
   "outputs": [
    {
     "output_type": "stream",
     "name": "stdout",
     "output_type": "stream",
     "text": [
      "+---------+---------+-----------+--------+-----------+---------+----------+-------+\n|InvoiceNo|StockCode|Description|Quantity|InvoiceDate|UnitPrice|CustomerID|Country|\n+---------+---------+-----------+--------+-----------+---------+----------+-------+\n|   541909|   541909|     541909|  541909|     541909|   541909|    541909| 541909|\n+---------+---------+-----------+--------+-----------+---------+----------+-------+\n\n"
     ]
    }
   ],
   "source": [
    "df = df_raw.dropna(how = \"any\")\n",
    "my_count(df)"
   ]
  },
  {
   "cell_type": "code",
   "execution_count": 0,
   "metadata": {
    "application/vnd.databricks.v1+cell": {
     "cellMetadata": {
      "byteLimit": 2048000,
      "rowLimit": 10000
     },
     "inputWidgets": {},
     "nuid": "76ca2c15-48f7-4541-b1df-0e0443b5eb3e",
     "showTitle": false,
     "title": ""
    }
   },
   "outputs": [
    {
     "output_type": "stream",
     "name": "stdout",
     "output_type": "stream",
     "text": [
      "+---------+---------+--------------------+--------+---------------+---------+----------+--------------+-------------------+\n|InvoiceNo|StockCode|         Description|Quantity|    InvoiceDate|UnitPrice|CustomerID|       Country|     NewInvoiceDate|\n+---------+---------+--------------------+--------+---------------+---------+----------+--------------+-------------------+\n|   536365|   85123A|WHITE HANGING HEA...|       6|1.12.2010 08:26|     2,55|     17850|United Kingdom|2010-12-01 08:26:00|\n|   536365|    71053| WHITE METAL LANTERN|       6|1.12.2010 08:26|     3,39|     17850|United Kingdom|2010-12-01 08:26:00|\n|   536365|   84406B|CREAM CUPID HEART...|       8|1.12.2010 08:26|     2,75|     17850|United Kingdom|2010-12-01 08:26:00|\n|   536365|   84029G|KNITTED UNION FLA...|       6|1.12.2010 08:26|     3,39|     17850|United Kingdom|2010-12-01 08:26:00|\n|   536365|   84029E|RED WOOLLY HOTTIE...|       6|1.12.2010 08:26|     3,39|     17850|United Kingdom|2010-12-01 08:26:00|\n+---------+---------+--------------------+--------+---------------+---------+----------+--------------+-------------------+\nonly showing top 5 rows\n\nOut[6]: '\\n\\nfrom pyspark.sql.functions import *\\ntimeFmt = \"MM/dd/yy HH:mm\"\\ndf = df.withColumn(\"NewInvoiceData2\",  from_unixtime(unix_timestamp(to_timestamp(\"InvoiceDate\",\"d.M.yyyy HH:mm\").cast(\"timestamp\"),timeFmt),timeFmt))\\ndf.show()\\n\\n'"
     ]
    }
   ],
   "source": [
    "from pyspark.sql.functions import to_utc_timestamp, unix_timestamp, lit, datediff, col, to_timestamp\n",
    "\n",
    "df = df.withColumn('NewInvoiceDate', to_timestamp(\"InvoiceDate\",\"d.M.yyyy HH:mm\"))\n",
    "\n",
    "df.show(5)\n"
   ]
  },
  {
   "cell_type": "code",
   "execution_count": 0,
   "metadata": {
    "application/vnd.databricks.v1+cell": {
     "cellMetadata": {
      "byteLimit": 2048000,
      "rowLimit": 10000
     },
     "inputWidgets": {},
     "nuid": "3cb5fa14-a12f-43f5-b02f-4a5852e626eb",
     "showTitle": false,
     "title": ""
    }
   },
   "outputs": [
    {
     "output_type": "stream",
     "name": "stdout",
     "output_type": "stream",
     "text": [
      "+---------+---------+--------------------+--------+---------------+---------+----------+--------------+-------------------+----------+--------+\n|InvoiceNo|StockCode|         Description|Quantity|    InvoiceDate|UnitPrice|CustomerID|       Country|     NewInvoiceDate|TotalPrice|Duration|\n+---------+---------+--------------------+--------+---------------+---------+----------+--------------+-------------------+----------+--------+\n|   536365|   85123A|WHITE HANGING HEA...|       6|1.12.2010 08:26|     2.55|     17850|United Kingdom|2010-12-01 08:26:00|      15.3|     373|\n|   536365|    71053| WHITE METAL LANTERN|       6|1.12.2010 08:26|     3.39|     17850|United Kingdom|2010-12-01 08:26:00|     20.34|     373|\n|   536365|   84406B|CREAM CUPID HEART...|       8|1.12.2010 08:26|     2.75|     17850|United Kingdom|2010-12-01 08:26:00|      22.0|     373|\n|   536365|   84029G|KNITTED UNION FLA...|       6|1.12.2010 08:26|     3.39|     17850|United Kingdom|2010-12-01 08:26:00|     20.34|     373|\n|   536365|   84029E|RED WOOLLY HOTTIE...|       6|1.12.2010 08:26|     3.39|     17850|United Kingdom|2010-12-01 08:26:00|     20.34|     373|\n|   536365|    22752|SET 7 BABUSHKA NE...|       2|1.12.2010 08:26|     7.65|     17850|United Kingdom|2010-12-01 08:26:00|      15.3|     373|\n|   536365|    21730|GLASS STAR FROSTE...|       6|1.12.2010 08:26|     4.25|     17850|United Kingdom|2010-12-01 08:26:00|      25.5|     373|\n|   536366|    22633|HAND WARMER UNION...|       6|1.12.2010 08:28|     1.85|     17850|United Kingdom|2010-12-01 08:28:00|      11.1|     373|\n|   536366|    22632|HAND WARMER RED P...|       6|1.12.2010 08:28|     1.85|     17850|United Kingdom|2010-12-01 08:28:00|      11.1|     373|\n|   536367|    84879|ASSORTED COLOUR B...|      32|1.12.2010 08:34|     1.69|     13047|United Kingdom|2010-12-01 08:34:00|     54.08|     373|\n|   536367|    22745|POPPY'S PLAYHOUSE...|       6|1.12.2010 08:34|      2.1|     13047|United Kingdom|2010-12-01 08:34:00|      12.6|     373|\n|   536367|    22748|POPPY'S PLAYHOUSE...|       6|1.12.2010 08:34|      2.1|     13047|United Kingdom|2010-12-01 08:34:00|      12.6|     373|\n|   536367|    22749|FELTCRAFT PRINCES...|       8|1.12.2010 08:34|     3.75|     13047|United Kingdom|2010-12-01 08:34:00|      30.0|     373|\n|   536367|    22310|IVORY KNITTED MUG...|       6|1.12.2010 08:34|     1.65|     13047|United Kingdom|2010-12-01 08:34:00|       9.9|     373|\n|   536367|    84969|BOX OF 6 ASSORTED...|       6|1.12.2010 08:34|     4.25|     13047|United Kingdom|2010-12-01 08:34:00|      25.5|     373|\n|   536367|    22623|BOX OF VINTAGE JI...|       3|1.12.2010 08:34|     4.95|     13047|United Kingdom|2010-12-01 08:34:00|     14.85|     373|\n|   536367|    22622|BOX OF VINTAGE AL...|       2|1.12.2010 08:34|     9.95|     13047|United Kingdom|2010-12-01 08:34:00|      19.9|     373|\n|   536367|    21754|HOME BUILDING BLO...|       3|1.12.2010 08:34|     5.95|     13047|United Kingdom|2010-12-01 08:34:00|     17.85|     373|\n|   536367|    21755|LOVE BUILDING BLO...|       3|1.12.2010 08:34|     5.95|     13047|United Kingdom|2010-12-01 08:34:00|     17.85|     373|\n|   536367|    21777|RECIPE BOX WITH M...|       4|1.12.2010 08:34|     7.95|     13047|United Kingdom|2010-12-01 08:34:00|      31.8|     373|\n+---------+---------+--------------------+--------+---------------+---------+----------+--------------+-------------------+----------+--------+\nonly showing top 20 rows\n\n"
     ]
    }
   ],
   "source": [
    "from pyspark.sql.functions import round\n",
    "\n",
    "from pyspark.sql import functions as F\n",
    "\n",
    "df = df.withColumn(\"UnitPrice\", F.regexp_replace(\"UnitPrice\", \",\", \".\").cast(\"double\"))\n",
    "\n",
    "df = df.withColumn('TotalPrice', round(df.Quantity * df.UnitPrice, 2) )\n",
    "\n",
    "df.show()"
   ]
  },
  {
   "cell_type": "code",
   "execution_count": 0,
   "metadata": {
    "application/vnd.databricks.v1+cell": {
     "cellMetadata": {
      "byteLimit": 2048000,
      "rowLimit": 10000
     },
     "inputWidgets": {},
     "nuid": "2d5f96fc-394f-44bd-87bd-4364c67d92c9",
     "showTitle": false,
     "title": ""
    }
   },
   "outputs": [
    {
     "output_type": "stream",
     "name": "stdout",
     "output_type": "stream",
     "text": [
      "+----------+-------+---------+--------+\n|CustomerID|Recency|Frequency|Monetary|\n+----------+-------+---------+--------+\n|     15194|      3|       22| 7521.17|\n|     17703|     35|        3|  798.74|\n|     13452|    259|        2|   590.0|\n|     13098|      1|       41|28658.88|\n|     17048|    115|        6|  864.32|\n|     13638|     15|        1|  122.64|\n|     15322|     64|        2|  602.97|\n|     13723|    217|        1|  199.85|\n|     16597|      4|        1|   90.04|\n|     15237|      1|        4| 1412.32|\n|     13248|    124|        2|  465.68|\n|     16742|     46|        2|     0.0|\n|     14719|      1|        6| 1592.18|\n|     17043|     32|        4| 1735.18|\n|     14117|    143|        1|    90.0|\n|     15057|    275|        2|  1489.5|\n|     17979|     35|        5|  737.81|\n|     13460|     29|        2|  183.44|\n|     13518|     85|        1|  659.44|\n|     15432|     23|        1|  171.19|\n|     18196|     95|        2|  689.13|\n|     15437|    262|        1|  200.16|\n|     18147|     45|        2|  179.34|\n|     17499|    289|        1|  622.88|\n|     15663|    106|        1|  138.14|\n|     13658|      9|        7| 2421.47|\n|     12936|     17|        5|  1012.9|\n|     14029|     63|        2|  467.66|\n|     15221|    366|        2|   114.1|\n|     17370|     72|        4|  446.18|\n|     12967|      3|        4| 1194.75|\n|     13240|     96|        4|  663.65|\n|     15758|     24|        1|  205.25|\n|     14805|     15|        4|  554.65|\n|     16781|    365|        2|  294.65|\n|     17595|     12|        2|  388.79|\n|     16441|     67|        2|   381.2|\n|     13299|    268|        1|   142.5|\n|     14259|    141|        1|   120.0|\n|     15921|    172|        1|  336.03|\n|     18117|     25|        1|  320.72|\n|     14543|      3|       21| 2916.17|\n|     17757|      1|       31| 5585.49|\n|     14178|      8|        7| 1620.93|\n|     14562|      3|       22| 4709.22|\n|     14215|     11|        7| 1777.92|\n|     15197|      8|        5|  656.44|\n|     13509|      8|        7|  979.72|\n|     15133|    127|        3|  982.42|\n|     14067|     63|        2|   374.7|\n|     17061|     73|       12| 5116.13|\n|     17135|     16|        7| 1139.73|\n|     17647|     65|        1|  133.06|\n|     15894|    253|        2|  263.55|\n|     14064|     29|        7| 1188.32|\n|     13659|    197|        3| 1550.85|\n|     16499|    360|        5|   319.1|\n|     13068|     10|        2|   344.0|\n|     14242|    234|        2|  280.55|\n|     17111|     47|        1|  248.61|\n|     17201|     53|        1|  342.63|\n|     15689|    119|        2|   254.1|\n|     13832|     17|        2|   40.95|\n|     16145|      8|       18| 3741.98|\n|     14779|    280|        3|  386.15|\n|     13527|     33|        8| 2263.76|\n|     13035|     57|        3|  886.63|\n|     17205|     53|        1|  384.08|\n|     17454|    192|        4|  517.53|\n|     14329|      8|       14| 4928.74|\n|     14267|    150|        7| 1279.09|\n|     12422|     95|        3|  803.56|\n|     15569|    103|        5| 1375.71|\n|     14626|      8|        7| 2757.07|\n|     12402|    323|        1|   225.6|\n|     12472|     30|       13| 6229.48|\n|     13764|     70|        3| 1521.76|\n|     15198|     92|        2|  193.64|\n|     15709|    283|        1|  133.25|\n|     16754|    372|        1|  2002.4|\n|     14496|    311|        2|  538.81|\n|     17334|    301|        3|   306.6|\n|     14639|     52|        8| 2952.34|\n|     13656|    164|        2|  379.65|\n|     13447|     23|        4| 1104.23|\n|     15312|     75|        5|   921.1|\n|     16007|     47|        4| 1701.94|\n|     15374|    128|        1|   168.0|\n|     18233|    325|        1|   440.0|\n|     14352|    157|        4| 1078.96|\n|     15799|     75|        3|  884.14|\n|     14438|    306|        1|   131.9|\n|     15274|      4|        2|  716.57|\n|     15992|      3|        1|   41.99|\n|     17022|     31|        1|    71.0|\n|     12873|    282|        1|   374.0|\n|     16828|     93|        2|   128.5|\n|     15652|     91|        1|  337.74|\n|     12390|     79|        1|  549.84|\n|     16276|    176|        1|   810.6|\n+----------+-------+---------+--------+\nonly showing top 100 rows\n\n+---------+---------+--------------------+--------+---------------+---------+----------+--------------+-------------------+----------+--------+\n|InvoiceNo|StockCode|         Description|Quantity|    InvoiceDate|UnitPrice|CustomerID|       Country|     NewInvoiceDate|TotalPrice|Duration|\n+---------+---------+--------------------+--------+---------------+---------+----------+--------------+-------------------+----------+--------+\n|   536365|   85123A|WHITE HANGING HEA...|       6|1.12.2010 08:26|     2.55|     17850|United Kingdom|2010-12-01 08:26:00|      15.3|     373|\n|   536365|    71053| WHITE METAL LANTERN|       6|1.12.2010 08:26|     3.39|     17850|United Kingdom|2010-12-01 08:26:00|     20.34|     373|\n|   536365|   84406B|CREAM CUPID HEART...|       8|1.12.2010 08:26|     2.75|     17850|United Kingdom|2010-12-01 08:26:00|      22.0|     373|\n|   536365|   84029G|KNITTED UNION FLA...|       6|1.12.2010 08:26|     3.39|     17850|United Kingdom|2010-12-01 08:26:00|     20.34|     373|\n|   536365|   84029E|RED WOOLLY HOTTIE...|       6|1.12.2010 08:26|     3.39|     17850|United Kingdom|2010-12-01 08:26:00|     20.34|     373|\n|   536365|    22752|SET 7 BABUSHKA NE...|       2|1.12.2010 08:26|     7.65|     17850|United Kingdom|2010-12-01 08:26:00|      15.3|     373|\n|   536365|    21730|GLASS STAR FROSTE...|       6|1.12.2010 08:26|     4.25|     17850|United Kingdom|2010-12-01 08:26:00|      25.5|     373|\n|   536366|    22633|HAND WARMER UNION...|       6|1.12.2010 08:28|     1.85|     17850|United Kingdom|2010-12-01 08:28:00|      11.1|     373|\n|   536366|    22632|HAND WARMER RED P...|       6|1.12.2010 08:28|     1.85|     17850|United Kingdom|2010-12-01 08:28:00|      11.1|     373|\n|   536367|    84879|ASSORTED COLOUR B...|      32|1.12.2010 08:34|     1.69|     13047|United Kingdom|2010-12-01 08:34:00|     54.08|     373|\n|   536367|    22745|POPPY'S PLAYHOUSE...|       6|1.12.2010 08:34|      2.1|     13047|United Kingdom|2010-12-01 08:34:00|      12.6|     373|\n|   536367|    22748|POPPY'S PLAYHOUSE...|       6|1.12.2010 08:34|      2.1|     13047|United Kingdom|2010-12-01 08:34:00|      12.6|     373|\n|   536367|    22749|FELTCRAFT PRINCES...|       8|1.12.2010 08:34|     3.75|     13047|United Kingdom|2010-12-01 08:34:00|      30.0|     373|\n|   536367|    22310|IVORY KNITTED MUG...|       6|1.12.2010 08:34|     1.65|     13047|United Kingdom|2010-12-01 08:34:00|       9.9|     373|\n|   536367|    84969|BOX OF 6 ASSORTED...|       6|1.12.2010 08:34|     4.25|     13047|United Kingdom|2010-12-01 08:34:00|      25.5|     373|\n|   536367|    22623|BOX OF VINTAGE JI...|       3|1.12.2010 08:34|     4.95|     13047|United Kingdom|2010-12-01 08:34:00|     14.85|     373|\n|   536367|    22622|BOX OF VINTAGE AL...|       2|1.12.2010 08:34|     9.95|     13047|United Kingdom|2010-12-01 08:34:00|      19.9|     373|\n|   536367|    21754|HOME BUILDING BLO...|       3|1.12.2010 08:34|     5.95|     13047|United Kingdom|2010-12-01 08:34:00|     17.85|     373|\n|   536367|    21755|LOVE BUILDING BLO...|       3|1.12.2010 08:34|     5.95|     13047|United Kingdom|2010-12-01 08:34:00|     17.85|     373|\n|   536367|    21777|RECIPE BOX WITH M...|       4|1.12.2010 08:34|     7.95|     13047|United Kingdom|2010-12-01 08:34:00|      31.8|     373|\n+---------+---------+--------------------+--------+---------------+---------+----------+--------------+-------------------+----------+--------+\nonly showing top 20 rows\n\n"
     ]
    }
   ],
   "source": [
    "spark.sql(\"set spark.sql.legacy.timeParserPolicy=LEGACY\")\n",
    "\n",
    "from pyspark.sql.functions import mean, min, max, sum, datediff, to_date\n",
    "\n",
    "date_max = df.select(max('NewInvoiceDate')).toPandas()\n",
    "\n",
    "current = to_utc_timestamp(unix_timestamp(lit(str(date_max.iloc[0][0])), 'yy-MM-dd HH:mm').cast('timestamp'), 'UTC')\n",
    "\n",
    "df = df.withColumn('Duration', datediff(lit(current), 'NewInvoiceDate'))\n",
    "\n",
    "#Recency, Frequency, Monetary\n",
    "\n",
    "recency = df.groupBy('CustomerID').agg(min('Duration').alias('Recency'))\n",
    "\n",
    "frequency = df.groupBy('CustomerID', 'InvoiceNo').count()\\\n",
    "    .groupBy('CustomerID')\\\n",
    "    .agg(count('*').alias(\"Frequency\"))\n",
    "\n",
    "monetary = df.groupBy('CustomerID').agg(round(sum('TotalPrice'), 2).alias('Monetary'))\n",
    "\n",
    "rfm = recency.join(frequency, 'CustomerID', how = 'inner')\\\n",
    "    .join(monetary, 'CustomerID', how = 'inner')\n",
    "\n",
    "rfm.show(100)\n",
    "df.show()"
   ]
  },
  {
   "cell_type": "code",
   "execution_count": 0,
   "metadata": {
    "application/vnd.databricks.v1+cell": {
     "cellMetadata": {
      "byteLimit": 2048000,
      "rowLimit": 10000
     },
     "inputWidgets": {},
     "nuid": "23464001-02f0-4989-a185-5d7dccae6ba7",
     "showTitle": false,
     "title": ""
    }
   },
   "outputs": [],
   "source": [
    "import numpy as np\n",
    "import pandas as pd\n",
    "\n",
    "def describe_pd(df_input, columns, deciles = False):\n",
    "    if deciles:\n",
    "        percentiles = [25, 50, 75]\n",
    "\n",
    "    pcs = np.transpose([np.percentile(df_input.select(x).collect(),percentiles) for x in columns])\n",
    "    pcs = pd.DataFrame(pcs, columns = columns)\n",
    "    pcs['summary'] = [str(p) + \"%\" for p in percentiles]\n",
    "    mydescribe = df_input.describe().toPandas()\n",
    "    new_df = pd.concat([mydescribe, pcs], ignore_index = True)\n",
    "    new_df = new_df.round(2)\n",
    "    return new_df[['summary'] + columns]"
   ]
  },
  {
   "cell_type": "code",
   "execution_count": 0,
   "metadata": {
    "application/vnd.databricks.v1+cell": {
     "cellMetadata": {
      "byteLimit": 2048000,
      "rowLimit": 10000
     },
     "inputWidgets": {},
     "nuid": "0444e164-dab4-4f60-98be-a8f1344dc4fe",
     "showTitle": false,
     "title": ""
    }
   },
   "outputs": [
    {
     "output_type": "display_data",
     "data": {
      "text/html": [
       "<div>\n",
       "<style scoped>\n",
       "    .dataframe tbody tr th:only-of-type {\n",
       "        vertical-align: middle;\n",
       "    }\n",
       "\n",
       "    .dataframe tbody tr th {\n",
       "        vertical-align: top;\n",
       "    }\n",
       "\n",
       "    .dataframe thead th {\n",
       "        text-align: right;\n",
       "    }\n",
       "</style>\n",
       "<table border=\"1\" class=\"dataframe\">\n",
       "  <thead>\n",
       "    <tr style=\"text-align: right;\">\n",
       "      <th></th>\n",
       "      <th>summary</th>\n",
       "      <th>Recency</th>\n",
       "      <th>Frequency</th>\n",
       "      <th>Monetary</th>\n",
       "    </tr>\n",
       "  </thead>\n",
       "  <tbody>\n",
       "    <tr>\n",
       "      <th>0</th>\n",
       "      <td>count</td>\n",
       "      <td>4373</td>\n",
       "      <td>4373</td>\n",
       "      <td>4373</td>\n",
       "    </tr>\n",
       "    <tr>\n",
       "      <th>1</th>\n",
       "      <td>mean</td>\n",
       "      <td>91.56025611708209</td>\n",
       "      <td>5.9227075234392865</td>\n",
       "      <td>2229.0756757374743</td>\n",
       "    </tr>\n",
       "    <tr>\n",
       "      <th>2</th>\n",
       "      <td>stddev</td>\n",
       "      <td>100.7701307562583</td>\n",
       "      <td>56.79881324857276</td>\n",
       "      <td>23356.82678007453</td>\n",
       "    </tr>\n",
       "    <tr>\n",
       "      <th>3</th>\n",
       "      <td>min</td>\n",
       "      <td>0</td>\n",
       "      <td>1</td>\n",
       "      <td>-4287.63</td>\n",
       "    </tr>\n",
       "    <tr>\n",
       "      <th>4</th>\n",
       "      <td>max</td>\n",
       "      <td>373</td>\n",
       "      <td>3710</td>\n",
       "      <td>1447682.12</td>\n",
       "    </tr>\n",
       "    <tr>\n",
       "      <th>5</th>\n",
       "      <td>25%</td>\n",
       "      <td>16.0</td>\n",
       "      <td>1.0</td>\n",
       "      <td>293.45</td>\n",
       "    </tr>\n",
       "    <tr>\n",
       "      <th>6</th>\n",
       "      <td>50%</td>\n",
       "      <td>50.0</td>\n",
       "      <td>3.0</td>\n",
       "      <td>648.41</td>\n",
       "    </tr>\n",
       "    <tr>\n",
       "      <th>7</th>\n",
       "      <td>75%</td>\n",
       "      <td>143.0</td>\n",
       "      <td>5.0</td>\n",
       "      <td>1612.13</td>\n",
       "    </tr>\n",
       "  </tbody>\n",
       "</table>\n",
       "</div>"
      ]
     },
     "metadata": {
      "application/vnd.databricks.v1+output": {
       "addedWidgets": {},
       "arguments": {},
       "data": "<div>\n<style scoped>\n    .dataframe tbody tr th:only-of-type {\n        vertical-align: middle;\n    }\n\n    .dataframe tbody tr th {\n        vertical-align: top;\n    }\n\n    .dataframe thead th {\n        text-align: right;\n    }\n</style>\n<table border=\"1\" class=\"dataframe\">\n  <thead>\n    <tr style=\"text-align: right;\">\n      <th></th>\n      <th>summary</th>\n      <th>Recency</th>\n      <th>Frequency</th>\n      <th>Monetary</th>\n    </tr>\n  </thead>\n  <tbody>\n    <tr>\n      <th>0</th>\n      <td>count</td>\n      <td>4373</td>\n      <td>4373</td>\n      <td>4373</td>\n    </tr>\n    <tr>\n      <th>1</th>\n      <td>mean</td>\n      <td>91.56025611708209</td>\n      <td>5.9227075234392865</td>\n      <td>2229.0756757374743</td>\n    </tr>\n    <tr>\n      <th>2</th>\n      <td>stddev</td>\n      <td>100.7701307562583</td>\n      <td>56.79881324857276</td>\n      <td>23356.82678007453</td>\n    </tr>\n    <tr>\n      <th>3</th>\n      <td>min</td>\n      <td>0</td>\n      <td>1</td>\n      <td>-4287.63</td>\n    </tr>\n    <tr>\n      <th>4</th>\n      <td>max</td>\n      <td>373</td>\n      <td>3710</td>\n      <td>1447682.12</td>\n    </tr>\n    <tr>\n      <th>5</th>\n      <td>25%</td>\n      <td>16.0</td>\n      <td>1.0</td>\n      <td>293.45</td>\n    </tr>\n    <tr>\n      <th>6</th>\n      <td>50%</td>\n      <td>50.0</td>\n      <td>3.0</td>\n      <td>648.41</td>\n    </tr>\n    <tr>\n      <th>7</th>\n      <td>75%</td>\n      <td>143.0</td>\n      <td>5.0</td>\n      <td>1612.13</td>\n    </tr>\n  </tbody>\n</table>\n</div>",
       "datasetInfos": [],
       "metadata": {},
       "removedWidgets": [],
       "textData": null,
       "type": "htmlSandbox"
      }
     },
     "output_type": "display_data"
    }
   ],
   "source": [
    "cols = ['Recency', 'Frequency', 'Monetary']\n",
    "describe_pd(rfm, cols, 1)"
   ]
  },
  {
   "cell_type": "code",
   "execution_count": 0,
   "metadata": {
    "application/vnd.databricks.v1+cell": {
     "cellMetadata": {
      "byteLimit": 2048000,
      "rowLimit": 10000
     },
     "inputWidgets": {},
     "nuid": "0e8498c0-a7a3-47d5-8d87-2fba3a40458c",
     "showTitle": false,
     "title": ""
    }
   },
   "outputs": [],
   "source": [
    "def RScore(x):\n",
    "    if x <= 16:\n",
    "        return 1\n",
    "    elif x<= 50:\n",
    "        return 2\n",
    "    elif x <= 143:\n",
    "        return 3\n",
    "    else:\n",
    "        return 4\n",
    "\n",
    "def FScore(x):\n",
    "    if x <= 1:\n",
    "        return 4\n",
    "    elif x <= 3:\n",
    "        return 3\n",
    "    elif x <= 5:\n",
    "        return 2\n",
    "    else:\n",
    "        return 1\n",
    "    \n",
    "def MScore(x):\n",
    "    if x <= 293:\n",
    "        return 4\n",
    "    elif x <= 648:\n",
    "        return 3\n",
    "    elif x <= 1612:\n",
    "        return 2\n",
    "    else:\n",
    "        return 1\n",
    "    \n",
    "from pyspark.sql.functions import udf\n",
    "from pyspark.sql.types import StringType, DoubleType\n",
    "\n",
    "R_udf = udf(lambda x : RScore(x), StringType())\n",
    "F_udf = udf(lambda x : FScore(x), StringType())\n",
    "M_udf = udf(lambda x : MScore(x), StringType())"
   ]
  },
  {
   "cell_type": "code",
   "execution_count": 0,
   "metadata": {
    "application/vnd.databricks.v1+cell": {
     "cellMetadata": {
      "byteLimit": 2048000,
      "rowLimit": 10000
     },
     "inputWidgets": {},
     "nuid": "d0df6142-7497-402b-a259-9b1cb5a389a4",
     "showTitle": false,
     "title": ""
    }
   },
   "outputs": [
    {
     "output_type": "stream",
     "name": "stdout",
     "output_type": "stream",
     "text": [
      "+----------+-------+---------+----------+-----+-----+-----+--------+\n|CustomerID|Recency|Frequency|  Monetary|r_seg|f_seg|m_seg|RFMScore|\n+----------+-------+---------+----------+-----+-----+-----+--------+\n|         0|      0|     3710|1447682.12|    1|    1|    1|     111|\n|     13004|     11|       22|   5613.43|    1|    1|    1|     111|\n|     17602|      2|        8|   5050.77|    1|    1|    1|     111|\n|     13098|      1|       41|  28658.88|    1|    1|    1|     111|\n|     13924|      1|       11|   1682.08|    1|    1|    1|     111|\n|     13658|      9|        7|   2421.47|    1|    1|    1|     111|\n|     15061|      3|       55|  54228.74|    1|    1|    1|     111|\n|     15838|     11|       21|  33350.76|    1|    1|    1|     111|\n|     15194|      3|       22|   7521.17|    1|    1|    1|     111|\n|     14415|      1|       18|   5811.56|    1|    1|    1|     111|\n|     13798|      1|       63|  36351.42|    1|    1|    1|     111|\n|     15993|      8|       10|   2756.82|    1|    1|    1|     111|\n|     14178|      8|        7|   1620.93|    1|    1|    1|     111|\n|     17949|      1|       52|  52750.84|    1|    1|    1|     111|\n|     14329|      8|       14|   4928.74|    1|    1|    1|     111|\n|     14825|      3|       12|   2226.91|    1|    1|    1|     111|\n|     14215|     11|        7|   1777.92|    1|    1|    1|     111|\n|     12683|      4|       20|   8221.09|    1|    1|    1|     111|\n|     14543|      3|       21|   2916.17|    1|    1|    1|     111|\n|     13230|      4|       15|   2763.41|    1|    1|    1|     111|\n+----------+-------+---------+----------+-----+-----+-----+--------+\nonly showing top 20 rows\n\n"
     ]
    }
   ],
   "source": [
    "rfm_seg = rfm.withColumn(\"r_seg\", R_udf(\"Recency\"))\n",
    "rfm_seg = rfm_seg.withColumn(\"f_seg\", F_udf(\"Frequency\"))\n",
    "rfm_seg = rfm_seg.withColumn(\"m_seg\", M_udf(\"Monetary\"))\n",
    "rfm_seg = rfm_seg.withColumn(\"RFMScore\", F.concat(F.col('r_seg'), F.col('f_seg'), F.col('m_seg')))\n",
    "\n",
    "rfm_seg.sort(F.col('RFMScore')).show(20)"
   ]
  },
  {
   "cell_type": "code",
   "execution_count": 0,
   "metadata": {
    "application/vnd.databricks.v1+cell": {
     "cellMetadata": {
      "byteLimit": 2048000,
      "rowLimit": 10000
     },
     "inputWidgets": {},
     "nuid": "69d49f7d-a504-4b3b-b0fd-b44de363d046",
     "showTitle": false,
     "title": ""
    }
   },
   "outputs": [
    {
     "output_type": "stream",
     "name": "stdout",
     "output_type": "stream",
     "text": [
      "+--------+-----------------+------------------+------------------+\n|RFMScore|     avg(Recency)|     avg(Monetary)|    avg(Frequency)|\n+--------+-----------------+------------------+------------------+\n|     111|6.022680412371134|11795.596288659783|26.492783505154637|\n|     112|7.237113402061856|1223.3604123711343| 7.752577319587629|\n|     113|              8.0|505.97749999999996|               7.5|\n|     114|             11.0|            191.17|               8.0|\n|     121|6.472727272727273|2569.0619999999994| 4.636363636363637|\n+--------+-----------------+------------------+------------------+\nonly showing top 5 rows\n\n"
     ]
    }
   ],
   "source": [
    "rfm_seg.groupBy('RFMScore').agg({'Recency': 'mean', 'Frequency' : 'mean', 'Monetary' : 'mean'}).sort(F.col('RFMScore')).show(5)"
   ]
  },
  {
   "cell_type": "code",
   "execution_count": 0,
   "metadata": {
    "application/vnd.databricks.v1+cell": {
     "cellMetadata": {
      "byteLimit": 2048000,
      "rowLimit": 10000
     },
     "inputWidgets": {},
     "nuid": "34da44d3-d725-48d5-87dc-2989e0302c94",
     "showTitle": false,
     "title": ""
    }
   },
   "outputs": [
    {
     "output_type": "display_data",
     "data": {
      "text/plain": [
       "\u001B[0;31m---------------------------------------------------------------------------\u001B[0m\n",
       "\u001B[0;31mNameError\u001B[0m                                 Traceback (most recent call last)\n",
       "File \u001B[0;32m<command-1781779312752536>:5\u001B[0m\n",
       "\u001B[1;32m      3\u001B[0m grp \u001B[38;5;241m=\u001B[39m \u001B[38;5;124m'\u001B[39m\u001B[38;5;124mRFMScore\u001B[39m\u001B[38;5;124m'\u001B[39m\n",
       "\u001B[1;32m      4\u001B[0m num_cols \u001B[38;5;241m=\u001B[39m [\u001B[38;5;124m'\u001B[39m\u001B[38;5;124mRecency\u001B[39m\u001B[38;5;124m'\u001B[39m, \u001B[38;5;124m'\u001B[39m\u001B[38;5;124mFrequency\u001B[39m\u001B[38;5;124m'\u001B[39m, \u001B[38;5;124m'\u001B[39m\u001B[38;5;124mMonetary\u001B[39m\u001B[38;5;124m'\u001B[39m]\n",
       "\u001B[0;32m----> 5\u001B[0m rfm_seg\u001B[38;5;241m.\u001B[39mtoPandas()\u001B[38;5;241m.\u001B[39mto_csv(output_dir \u001B[38;5;241m+\u001B[39m \u001B[38;5;124m'\u001B[39m\u001B[38;5;124mquantile_grouped.csv\u001B[39m\u001B[38;5;124m'\u001B[39m)\n",
       "\n",
       "\u001B[0;31mNameError\u001B[0m: name 'output_dir' is not defined"
      ]
     },
     "metadata": {
      "application/vnd.databricks.v1+output": {
       "arguments": {},
       "data": "\u001B[0;31m---------------------------------------------------------------------------\u001B[0m\n\u001B[0;31mNameError\u001B[0m                                 Traceback (most recent call last)\nFile \u001B[0;32m<command-1781779312752536>:5\u001B[0m\n\u001B[1;32m      3\u001B[0m grp \u001B[38;5;241m=\u001B[39m \u001B[38;5;124m'\u001B[39m\u001B[38;5;124mRFMScore\u001B[39m\u001B[38;5;124m'\u001B[39m\n\u001B[1;32m      4\u001B[0m num_cols \u001B[38;5;241m=\u001B[39m [\u001B[38;5;124m'\u001B[39m\u001B[38;5;124mRecency\u001B[39m\u001B[38;5;124m'\u001B[39m, \u001B[38;5;124m'\u001B[39m\u001B[38;5;124mFrequency\u001B[39m\u001B[38;5;124m'\u001B[39m, \u001B[38;5;124m'\u001B[39m\u001B[38;5;124mMonetary\u001B[39m\u001B[38;5;124m'\u001B[39m]\n\u001B[0;32m----> 5\u001B[0m rfm_seg\u001B[38;5;241m.\u001B[39mtoPandas()\u001B[38;5;241m.\u001B[39mto_csv(output_dir \u001B[38;5;241m+\u001B[39m \u001B[38;5;124m'\u001B[39m\u001B[38;5;124mquantile_grouped.csv\u001B[39m\u001B[38;5;124m'\u001B[39m)\n\n\u001B[0;31mNameError\u001B[0m: name 'output_dir' is not defined",
       "errorSummary": "<span class='ansi-red-fg'>NameError</span>: name 'output_dir' is not defined",
       "errorTraceType": "ansi",
       "metadata": {},
       "type": "ipynbError"
      }
     },
     "output_type": "display_data"
    }
   ],
   "source": [
    "#Detailed summary\n",
    "\n",
    "grp = 'RFMScore'\n",
    "num_cols = ['Recency', 'Frequency', 'Monetary']\n",
    "df_myinput = rfm_seg\n",
    "\n",
    "quantile_grouped = quantile_agg(df_myinput, grp, num_cols)\n",
    "quantile_grouped.toPandas().to_csv(output_dir + 'quantile_grouped.csv')"
   ]
  },
  {
   "cell_type": "code",
   "execution_count": 0,
   "metadata": {
    "application/vnd.databricks.v1+cell": {
     "cellMetadata": {},
     "inputWidgets": {},
     "nuid": "1151a35d-85ff-4fc4-80dc-e9bd051df73d",
     "showTitle": false,
     "title": ""
    }
   },
   "outputs": [],
   "source": []
  }
 ],
 "metadata": {
  "application/vnd.databricks.v1+notebook": {
   "dashboards": [],
   "language": "python",
   "notebookMetadata": {
    "pythonIndentUnit": 4
   },
   "notebookName": "11072023 DEB v2",
   "widgets": {}
  }
 },
 "nbformat": 4,
 "nbformat_minor": 0
}
