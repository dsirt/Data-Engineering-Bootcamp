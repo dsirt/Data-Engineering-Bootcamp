{
  "nbformat": 4,
  "nbformat_minor": 0,
  "metadata": {
    "colab": {
      "provenance": [],
      "authorship_tag": "ABX9TyNmlTARULSS42Up02f/RGGx",
      "include_colab_link": true
    },
    "kernelspec": {
      "name": "python3",
      "display_name": "Python 3"
    },
    "language_info": {
      "name": "python"
    }
  },
  "cells": [
    {
      "cell_type": "markdown",
      "metadata": {
        "id": "view-in-github",
        "colab_type": "text"
      },
      "source": [
        "<a href=\"https://colab.research.google.com/github/dsirt/Data-Engineering-Bootcamp/blob/main/DecisionTreeClassification.ipynb\" target=\"_parent\"><img src=\"https://colab.research.google.com/assets/colab-badge.svg\" alt=\"Open In Colab\"/></a>"
      ]
    },
    {
      "cell_type": "code",
      "execution_count": 21,
      "metadata": {
        "colab": {
          "base_uri": "https://localhost:8080/",
          "height": 547
        },
        "id": "GpoywBK8fUaG",
        "outputId": "1e47a80a-a9ee-414a-9327-f694697492ba"
      },
      "outputs": [
        {
          "output_type": "stream",
          "name": "stdout",
          "text": [
            "Collecting delta-spark==2.4.0\n",
            "  Downloading delta_spark-2.4.0-py3-none-any.whl.metadata (1.9 kB)\n",
            "Collecting pyspark<3.5.0,>=3.4.0 (from delta-spark==2.4.0)\n",
            "  Downloading pyspark-3.4.4.tar.gz (311.4 MB)\n",
            "\u001b[2K     \u001b[90m━━━━━━━━━━━━━━━━━━━━━━━━━━━━━━━━━━━━━━━━\u001b[0m \u001b[32m311.4/311.4 MB\u001b[0m \u001b[31m3.9 MB/s\u001b[0m eta \u001b[36m0:00:00\u001b[0m\n",
            "\u001b[?25h  Preparing metadata (setup.py) ... \u001b[?25l\u001b[?25hdone\n",
            "Requirement already satisfied: importlib-metadata>=1.0.0 in /usr/local/lib/python3.11/dist-packages (from delta-spark==2.4.0) (8.5.0)\n",
            "Requirement already satisfied: zipp>=3.20 in /usr/local/lib/python3.11/dist-packages (from importlib-metadata>=1.0.0->delta-spark==2.4.0) (3.21.0)\n",
            "Requirement already satisfied: py4j==0.10.9.7 in /usr/local/lib/python3.11/dist-packages (from pyspark<3.5.0,>=3.4.0->delta-spark==2.4.0) (0.10.9.7)\n",
            "Downloading delta_spark-2.4.0-py3-none-any.whl (20 kB)\n",
            "Building wheels for collected packages: pyspark\n",
            "  Building wheel for pyspark (setup.py) ... \u001b[?25l\u001b[?25hdone\n",
            "  Created wheel for pyspark: filename=pyspark-3.4.4-py2.py3-none-any.whl size=311905460 sha256=49df0176ba3e140cb0fbacc113713ea216769259423fc3b261a3c15a8a5eac5d\n",
            "  Stored in directory: /root/.cache/pip/wheels/6b/0a/a1/2b8f5f192c7df9fdceb8e5a62873d64e46b101f980519bcf55\n",
            "Successfully built pyspark\n",
            "Installing collected packages: pyspark, delta-spark\n",
            "  Attempting uninstall: pyspark\n",
            "    Found existing installation: pyspark 3.5.4\n",
            "    Uninstalling pyspark-3.5.4:\n",
            "      Successfully uninstalled pyspark-3.5.4\n",
            "  Attempting uninstall: delta-spark\n",
            "    Found existing installation: delta-spark 3.3.0\n",
            "    Uninstalling delta-spark-3.3.0:\n",
            "      Successfully uninstalled delta-spark-3.3.0\n",
            "Successfully installed delta-spark-2.4.0 pyspark-3.4.4\n"
          ]
        },
        {
          "output_type": "display_data",
          "data": {
            "application/vnd.colab-display-data+json": {
              "pip_warning": {
                "packages": [
                  "delta",
                  "pyspark"
                ]
              },
              "id": "28824af9be4a403d8555baebe58b07da"
            }
          },
          "metadata": {}
        }
      ],
      "source": [
        "#Decision Tree Classification\n",
        "!pip install delta-spark==2.4.0\n"
      ]
    },
    {
      "cell_type": "code",
      "source": [
        "from delta import *"
      ],
      "metadata": {
        "id": "VIPtM0dQgNpZ"
      },
      "execution_count": 19,
      "outputs": []
    },
    {
      "cell_type": "code",
      "source": [
        "from pyspark.sql import SparkSession\n",
        "\n",
        "# Add Delta Lake package dependency\n",
        "spark = SparkSession \\\n",
        "    .builder \\\n",
        "    .appName('DT Classification with Pyspark') \\\n",
        "    .config(\"spark.jars.packages\", \"io.delta:delta-core_2.12:2.4.0\") \\\n",
        "    .config(\"spark.sql.extensions\", \"io.delta.sql.DeltaSparkSessionExtension\") \\\n",
        "    .config(\"spark.sql.catalog.spark_catalog\", \"org.apache.spark.sql.delta.catalog.DeltaCatalog\") \\\n",
        "    .getOrCreate()\n",
        "\n",
        "# Read the CSV file using the correct format\n",
        "df = spark.read.format('csv').\\\n",
        "    options(header = 'true', inferschema = 'true').\\\n",
        "    load(\"/content/WineData.csv\")\n",
        "\n",
        "df.printSchema()\n",
        "df.show(5)"
      ],
      "metadata": {
        "colab": {
          "base_uri": "https://localhost:8080/"
        },
        "id": "2drqxnp7fdpf",
        "outputId": "18b6aa25-3446-422b-d62c-ae5f13fb50fa"
      },
      "execution_count": 1,
      "outputs": [
        {
          "output_type": "stream",
          "name": "stdout",
          "text": [
            "root\n",
            " |-- fixed acidity: double (nullable = true)\n",
            " |-- volatile acidity: double (nullable = true)\n",
            " |-- citric acid: double (nullable = true)\n",
            " |-- residual sugar: double (nullable = true)\n",
            " |-- chlorides: double (nullable = true)\n",
            " |-- free sulfur dioxide: double (nullable = true)\n",
            " |-- total sulfur dioxide: double (nullable = true)\n",
            " |-- density: double (nullable = true)\n",
            " |-- pH: double (nullable = true)\n",
            " |-- sulphates: double (nullable = true)\n",
            " |-- alcohol: double (nullable = true)\n",
            " |-- quality: integer (nullable = true)\n",
            "\n",
            "+-------------+----------------+-----------+--------------+---------+-------------------+--------------------+-------+----+---------+-------+-------+\n",
            "|fixed acidity|volatile acidity|citric acid|residual sugar|chlorides|free sulfur dioxide|total sulfur dioxide|density|  pH|sulphates|alcohol|quality|\n",
            "+-------------+----------------+-----------+--------------+---------+-------------------+--------------------+-------+----+---------+-------+-------+\n",
            "|          7.4|             0.7|        0.0|           1.9|    0.076|               11.0|                34.0| 0.9978|3.51|     0.56|    9.4|      5|\n",
            "|          7.8|            0.88|        0.0|           2.6|    0.098|               25.0|                67.0| 0.9968| 3.2|     0.68|    9.8|      5|\n",
            "|          7.8|            0.76|       0.04|           2.3|    0.092|               15.0|                54.0|  0.997|3.26|     0.65|    9.8|      5|\n",
            "|         11.2|            0.28|       0.56|           1.9|    0.075|               17.0|                60.0|  0.998|3.16|     0.58|    9.8|      6|\n",
            "|          7.4|             0.7|        0.0|           1.9|    0.076|               11.0|                34.0| 0.9978|3.51|     0.56|    9.4|      5|\n",
            "+-------------+----------------+-----------+--------------+---------+-------------------+--------------------+-------+----+---------+-------+-------+\n",
            "only showing top 5 rows\n",
            "\n"
          ]
        }
      ]
    },
    {
      "cell_type": "code",
      "source": [
        "def condition(r):\n",
        "\n",
        "    if (0 <= r <= 4):\n",
        "        label = 'low'\n",
        "\n",
        "    elif (4 < r <= 6):\n",
        "        label = 'medium'\n",
        "\n",
        "    else:\n",
        "        label = 'high'\n",
        "\n",
        "    return label\n",
        "\n",
        "def string_to_float(x):\n",
        "    return float(x)"
      ],
      "metadata": {
        "id": "lrxWEoqAik9U"
      },
      "execution_count": 2,
      "outputs": []
    },
    {
      "cell_type": "code",
      "source": [
        "from pyspark.sql.functions import udf\n",
        "from pyspark.sql.types import StringType, DoubleType\n",
        "string_to_float_udf = udf(string_to_float, DoubleType())\n",
        "quality_udf = udf(lambda x : condition(x), StringType())\n",
        "\n",
        "df = df.withColumn(\"quality\", quality_udf(\"quality\"))\n",
        "df.show(5)\n",
        "df.printSchema()"
      ],
      "metadata": {
        "colab": {
          "base_uri": "https://localhost:8080/"
        },
        "id": "GBMr3ZBripCP",
        "outputId": "3a6fbc8b-20ca-40a3-d3fa-7f263af8ff8e"
      },
      "execution_count": 3,
      "outputs": [
        {
          "output_type": "stream",
          "name": "stdout",
          "text": [
            "+-------------+----------------+-----------+--------------+---------+-------------------+--------------------+-------+----+---------+-------+-------+\n",
            "|fixed acidity|volatile acidity|citric acid|residual sugar|chlorides|free sulfur dioxide|total sulfur dioxide|density|  pH|sulphates|alcohol|quality|\n",
            "+-------------+----------------+-----------+--------------+---------+-------------------+--------------------+-------+----+---------+-------+-------+\n",
            "|          7.4|             0.7|        0.0|           1.9|    0.076|               11.0|                34.0| 0.9978|3.51|     0.56|    9.4| medium|\n",
            "|          7.8|            0.88|        0.0|           2.6|    0.098|               25.0|                67.0| 0.9968| 3.2|     0.68|    9.8| medium|\n",
            "|          7.8|            0.76|       0.04|           2.3|    0.092|               15.0|                54.0|  0.997|3.26|     0.65|    9.8| medium|\n",
            "|         11.2|            0.28|       0.56|           1.9|    0.075|               17.0|                60.0|  0.998|3.16|     0.58|    9.8| medium|\n",
            "|          7.4|             0.7|        0.0|           1.9|    0.076|               11.0|                34.0| 0.9978|3.51|     0.56|    9.4| medium|\n",
            "+-------------+----------------+-----------+--------------+---------+-------------------+--------------------+-------+----+---------+-------+-------+\n",
            "only showing top 5 rows\n",
            "\n",
            "root\n",
            " |-- fixed acidity: double (nullable = true)\n",
            " |-- volatile acidity: double (nullable = true)\n",
            " |-- citric acid: double (nullable = true)\n",
            " |-- residual sugar: double (nullable = true)\n",
            " |-- chlorides: double (nullable = true)\n",
            " |-- free sulfur dioxide: double (nullable = true)\n",
            " |-- total sulfur dioxide: double (nullable = true)\n",
            " |-- density: double (nullable = true)\n",
            " |-- pH: double (nullable = true)\n",
            " |-- sulphates: double (nullable = true)\n",
            " |-- alcohol: double (nullable = true)\n",
            " |-- quality: string (nullable = true)\n",
            "\n"
          ]
        }
      ]
    },
    {
      "cell_type": "code",
      "source": [
        "from pyspark.ml.linalg import Vectors\n",
        "from pyspark.ml import Pipeline\n",
        "from pyspark.ml.feature import VectorIndexer, StringIndexer, IndexToString\n",
        "from pyspark.ml.tuning import CrossValidator, ParamGridBuilder\n",
        "from pyspark.ml.evaluation import MulticlassClassificationEvaluator"
      ],
      "metadata": {
        "id": "pAOSSQCRivCa"
      },
      "execution_count": 4,
      "outputs": []
    },
    {
      "cell_type": "code",
      "source": [
        "def transData(data):\n",
        "    return data.rdd.map(lambda r : [Vectors.dense(r[:-1]), r[-1]]).toDF(['features', 'label'])\n",
        "\n",
        "transformed = transData(df)\n",
        "transformed.show(5)"
      ],
      "metadata": {
        "colab": {
          "base_uri": "https://localhost:8080/"
        },
        "id": "qv8tliDciyWn",
        "outputId": "77bc7def-09ce-479b-e50d-07861d5c87b3"
      },
      "execution_count": 5,
      "outputs": [
        {
          "output_type": "stream",
          "name": "stdout",
          "text": [
            "+--------------------+------+\n",
            "|            features| label|\n",
            "+--------------------+------+\n",
            "|[7.4,0.7,0.0,1.9,...|medium|\n",
            "|[7.8,0.88,0.0,2.6...|medium|\n",
            "|[7.8,0.76,0.04,2....|medium|\n",
            "|[11.2,0.28,0.56,1...|medium|\n",
            "|[7.4,0.7,0.0,1.9,...|medium|\n",
            "+--------------------+------+\n",
            "only showing top 5 rows\n",
            "\n"
          ]
        }
      ]
    },
    {
      "cell_type": "code",
      "source": [
        "from pyspark.ml.feature import VectorIndexer, StringIndexer, IndexToString\n",
        "labelIndexer = StringIndexer(inputCol = 'label', outputCol = 'indexedLabel').fit(transformed)\n",
        "labelIndexer.transform(transformed).show(5, True)\n",
        "\n",
        "featureIndexer = VectorIndexer(inputCol = 'features', outputCol = 'indexedFeatures', maxCategories = 4).fit(transformed)\n",
        "featureIndexer.transform(transformed).show(5)"
      ],
      "metadata": {
        "colab": {
          "base_uri": "https://localhost:8080/"
        },
        "id": "nB6Kjtawi16g",
        "outputId": "492b6d4c-3a53-4eff-b493-bf5341cbdb5b"
      },
      "execution_count": 6,
      "outputs": [
        {
          "output_type": "stream",
          "name": "stdout",
          "text": [
            "+--------------------+------+------------+\n",
            "|            features| label|indexedLabel|\n",
            "+--------------------+------+------------+\n",
            "|[7.4,0.7,0.0,1.9,...|medium|         0.0|\n",
            "|[7.8,0.88,0.0,2.6...|medium|         0.0|\n",
            "|[7.8,0.76,0.04,2....|medium|         0.0|\n",
            "|[11.2,0.28,0.56,1...|medium|         0.0|\n",
            "|[7.4,0.7,0.0,1.9,...|medium|         0.0|\n",
            "+--------------------+------+------------+\n",
            "only showing top 5 rows\n",
            "\n",
            "+--------------------+------+--------------------+\n",
            "|            features| label|     indexedFeatures|\n",
            "+--------------------+------+--------------------+\n",
            "|[7.4,0.7,0.0,1.9,...|medium|[7.4,0.7,0.0,1.9,...|\n",
            "|[7.8,0.88,0.0,2.6...|medium|[7.8,0.88,0.0,2.6...|\n",
            "|[7.8,0.76,0.04,2....|medium|[7.8,0.76,0.04,2....|\n",
            "|[11.2,0.28,0.56,1...|medium|[11.2,0.28,0.56,1...|\n",
            "|[7.4,0.7,0.0,1.9,...|medium|[7.4,0.7,0.0,1.9,...|\n",
            "+--------------------+------+--------------------+\n",
            "only showing top 5 rows\n",
            "\n"
          ]
        }
      ]
    },
    {
      "cell_type": "code",
      "source": [
        "(trainingData, testData) = transformed.randomSplit([0.6, 0.4])\n",
        "trainingData.show(5)\n",
        "testData.show(5)"
      ],
      "metadata": {
        "colab": {
          "base_uri": "https://localhost:8080/"
        },
        "id": "goV-vM1Ci_l3",
        "outputId": "4687e794-cf73-472d-8126-4ef3b769b203"
      },
      "execution_count": 7,
      "outputs": [
        {
          "output_type": "stream",
          "name": "stdout",
          "text": [
            "+--------------------+------+\n",
            "|            features| label|\n",
            "+--------------------+------+\n",
            "|[4.6,0.52,0.15,2....|   low|\n",
            "|[4.7,0.6,0.17,2.3...|medium|\n",
            "|[4.9,0.42,0.0,2.1...|  high|\n",
            "|[5.0,0.38,0.01,1....|medium|\n",
            "|[5.0,0.4,0.5,4.3,...|medium|\n",
            "+--------------------+------+\n",
            "only showing top 5 rows\n",
            "\n",
            "+--------------------+------+\n",
            "|            features| label|\n",
            "+--------------------+------+\n",
            "|[5.0,0.42,0.24,2....|  high|\n",
            "|[5.0,1.04,0.24,1....|medium|\n",
            "|[5.1,0.42,0.0,1.8...|  high|\n",
            "|[5.1,0.47,0.02,1....|medium|\n",
            "|[5.1,0.51,0.18,2....|  high|\n",
            "+--------------------+------+\n",
            "only showing top 5 rows\n",
            "\n"
          ]
        }
      ]
    },
    {
      "cell_type": "code",
      "source": [
        "from pyspark.ml.classification import DecisionTreeClassifier\n",
        "\n",
        "dTree = DecisionTreeClassifier(labelCol = 'indexedLabel', featuresCol = 'indexedFeatures')"
      ],
      "metadata": {
        "id": "U6haQ1LAjEko"
      },
      "execution_count": 8,
      "outputs": []
    },
    {
      "cell_type": "code",
      "source": [
        "#Pipeline Architecture\n",
        "\n",
        "labelConverter = IndexToString(inputCol = \"prediction\", outputCol = 'predictedLabel', labels = labelIndexer.labels)\n",
        "\n",
        "pipeline = Pipeline(stages = [labelIndexer, featureIndexer, dTree, labelConverter])\n",
        "\n",
        "model = pipeline.fit(trainingData)\n",
        "\n",
        "predictions = model.transform(testData)\n",
        "\n",
        "predictions.select('features', 'label', \"predictedLabel\").show(5)"
      ],
      "metadata": {
        "colab": {
          "base_uri": "https://localhost:8080/"
        },
        "id": "eObhaarujHf1",
        "outputId": "95a07ba5-7c0f-44ac-cfc5-964829e995f6"
      },
      "execution_count": 9,
      "outputs": [
        {
          "output_type": "stream",
          "name": "stdout",
          "text": [
            "+--------------------+------+--------------+\n",
            "|            features| label|predictedLabel|\n",
            "+--------------------+------+--------------+\n",
            "|[5.0,0.42,0.24,2....|  high|        medium|\n",
            "|[5.0,1.04,0.24,1....|medium|        medium|\n",
            "|[5.1,0.42,0.0,1.8...|  high|          high|\n",
            "|[5.1,0.47,0.02,1....|medium|        medium|\n",
            "|[5.1,0.51,0.18,2....|  high|          high|\n",
            "+--------------------+------+--------------+\n",
            "only showing top 5 rows\n",
            "\n"
          ]
        }
      ]
    },
    {
      "cell_type": "code",
      "source": [
        "#Evaluation\n",
        "\n",
        "from pyspark.ml.evaluation import MulticlassClassificationEvaluator\n",
        "\n",
        "evaluator = MulticlassClassificationEvaluator(labelCol = 'indexedLabel', predictionCol = 'prediction', metricName = 'accuracy')\n",
        "accuracy = evaluator.evaluate(predictions)\n",
        "print(\"Test Error = %g\" % (1.0 - accuracy))\n",
        "\n",
        "rfModel = model.stages[-2]\n",
        "print(rfModel)"
      ],
      "metadata": {
        "colab": {
          "base_uri": "https://localhost:8080/"
        },
        "id": "BYLCy5FtjN9-",
        "outputId": "0181a515-4268-4531-805a-926afe0ddb92"
      },
      "execution_count": 10,
      "outputs": [
        {
          "output_type": "stream",
          "name": "stdout",
          "text": [
            "Test Error = 0.143345\n",
            "DecisionTreeClassificationModel: uid=DecisionTreeClassifier_5939946d6e55, depth=5, numNodes=49, numClasses=3, numFeatures=11\n"
          ]
        }
      ]
    },
    {
      "cell_type": "code",
      "source": [
        "from sklearn.metrics import confusion_matrix\n",
        "\n",
        "y_true = predictions.select(\"label\")\n",
        "y_true = y_true.toPandas()\n",
        "\n",
        "y_pred = predictions.select(\"predictedLabel\")\n",
        "y_pred = y_pred.toPandas()\n",
        "\n",
        "cnf_matrix = confusion_matrix(y_true, y_pred)\n",
        "cnf_matrix"
      ],
      "metadata": {
        "colab": {
          "base_uri": "https://localhost:8080/"
        },
        "id": "yEc5idwAjSu_",
        "outputId": "2ce298f0-0994-4515-9733-17365362ef8e"
      },
      "execution_count": 11,
      "outputs": [
        {
          "output_type": "execute_result",
          "data": {
            "text/plain": [
              "array([[ 34,   0,  35],\n",
              "       [  1,   0,  22],\n",
              "       [ 26,   0, 468]])"
            ]
          },
          "metadata": {},
          "execution_count": 11
        }
      ]
    }
  ]
}