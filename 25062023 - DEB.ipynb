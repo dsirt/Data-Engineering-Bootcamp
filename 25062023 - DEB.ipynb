{
 "cells": [
  {
   "cell_type": "code",
   "execution_count": 1,
   "id": "9005df46",
   "metadata": {},
   "outputs": [
    {
     "name": "stdout",
     "output_type": "stream",
     "text": [
      "Requirement already satisfied: findspark in c:\\users\\itu\\anaconda3\\lib\\site-packages (2.0.1)\n"
     ]
    }
   ],
   "source": [
    "!pip install findspark"
   ]
  },
  {
   "cell_type": "code",
   "execution_count": 2,
   "id": "8dfeefaa",
   "metadata": {},
   "outputs": [],
   "source": [
    "import findspark\n",
    "findspark.init()"
   ]
  },
  {
   "cell_type": "code",
   "execution_count": 3,
   "id": "6b6dce5d",
   "metadata": {},
   "outputs": [],
   "source": [
    "from pyspark.sql import SparkSession\n",
    "from pyspark.conf import SparkConf"
   ]
  },
  {
   "cell_type": "code",
   "execution_count": 5,
   "id": "fdfdb2fe",
   "metadata": {},
   "outputs": [],
   "source": [
    "spark = SparkSession.builder \\\n",
    ".master(\"local[4]\") \\\n",
    ".appName(\"giveatry\") \\\n",
    ".getOrCreate()"
   ]
  },
  {
   "cell_type": "code",
   "execution_count": 7,
   "id": "400c0c9e",
   "metadata": {},
   "outputs": [],
   "source": [
    "sc = spark.sparkContext"
   ]
  },
  {
   "cell_type": "code",
   "execution_count": 9,
   "id": "2c88fde8",
   "metadata": {},
   "outputs": [],
   "source": [
    "veri_seti = \"C:\\\\Users\\\\ITU\\\\mydata\\\\ibb_lojistik.txt\""
   ]
  },
  {
   "cell_type": "code",
   "execution_count": 10,
   "id": "4b999354",
   "metadata": {},
   "outputs": [],
   "source": [
    "istac_rdd = sc.textFile(veri_seti)"
   ]
  },
  {
   "cell_type": "code",
   "execution_count": 11,
   "id": "1eb7a9e2",
   "metadata": {},
   "outputs": [
    {
     "data": {
      "text/plain": [
       "97"
      ]
     },
     "execution_count": 11,
     "metadata": {},
     "output_type": "execute_result"
    }
   ],
   "source": [
    "istac_rdd.count()"
   ]
  },
  {
   "cell_type": "code",
   "execution_count": 13,
   "id": "16290c98",
   "metadata": {},
   "outputs": [
    {
     "data": {
      "text/plain": [
       "['İlçeler  bazında  firmaların  kullandıkları  ortalama  alanlara  bakıldığında  ',\n",
       " 'en  fazla  alan kullanımının Ümraniye, Çatalca, Silivri, Şile, Arnavutköy gibi',\n",
       " 'İstanbul’un alan bakımından daha büyük ve yerleşim alanlarının daha kısıtlı olduğu',\n",
       " 'ilçeleri ön plana çıkmaktadır. Bunda arazi fiyatlarının daha düşük olması, karayolu, ',\n",
       " 'demiryolu ve kısmen de olsa denizyolu ana bağlantı noktalarına yakınlık, kullanılabilir ']"
      ]
     },
     "execution_count": 13,
     "metadata": {},
     "output_type": "execute_result"
    }
   ],
   "source": [
    "istac_rdd.take(5)"
   ]
  },
  {
   "cell_type": "code",
   "execution_count": 18,
   "id": "55fca24e",
   "metadata": {},
   "outputs": [],
   "source": [
    "istac_rdd_kelimeler = istac_rdd.flatMap(lambda satir : satir.split(\" \"))"
   ]
  },
  {
   "cell_type": "code",
   "execution_count": 20,
   "id": "1ca8904e",
   "metadata": {},
   "outputs": [
    {
     "data": {
      "text/plain": [
       "['İlçeler',\n",
       " '',\n",
       " 'bazında',\n",
       " '',\n",
       " 'firmaların',\n",
       " '',\n",
       " 'kullandıkları',\n",
       " '',\n",
       " 'ortalama',\n",
       " '',\n",
       " 'alanlara',\n",
       " '',\n",
       " 'bakıldığında',\n",
       " '',\n",
       " '',\n",
       " 'en',\n",
       " '',\n",
       " 'fazla',\n",
       " '',\n",
       " 'alan']"
      ]
     },
     "execution_count": 20,
     "metadata": {},
     "output_type": "execute_result"
    }
   ],
   "source": [
    "istac_rdd_kelimeler.take(20)"
   ]
  },
  {
   "cell_type": "code",
   "execution_count": 22,
   "id": "f3c69479",
   "metadata": {},
   "outputs": [],
   "source": [
    "istac_rdd_kelimeler_sayilari = istac_rdd_kelimeler.map(lambda kelime : (kelime, 1))"
   ]
  },
  {
   "cell_type": "code",
   "execution_count": 25,
   "id": "62840d06",
   "metadata": {},
   "outputs": [
    {
     "data": {
      "text/plain": [
       "[('İlçeler', 1),\n",
       " ('', 1),\n",
       " ('bazında', 1),\n",
       " ('', 1),\n",
       " ('firmaların', 1),\n",
       " ('', 1),\n",
       " ('kullandıkları', 1),\n",
       " ('', 1),\n",
       " ('ortalama', 1),\n",
       " ('', 1),\n",
       " ('alanlara', 1),\n",
       " ('', 1),\n",
       " ('bakıldığında', 1),\n",
       " ('', 1),\n",
       " ('', 1),\n",
       " ('en', 1),\n",
       " ('', 1),\n",
       " ('fazla', 1),\n",
       " ('', 1),\n",
       " ('alan', 1)]"
      ]
     },
     "execution_count": 25,
     "metadata": {},
     "output_type": "execute_result"
    }
   ],
   "source": [
    "istac_rdd_kelimeler_sayilari.take(20)"
   ]
  },
  {
   "cell_type": "code",
   "execution_count": 26,
   "id": "f45015bd",
   "metadata": {},
   "outputs": [],
   "source": [
    "istac_rdd_kelimeler_sayilari_reduce = istac_rdd_kelimeler_sayilari.reduceByKey(lambda x, y : (x + y))"
   ]
  },
  {
   "cell_type": "code",
   "execution_count": 27,
   "id": "3cf53d29",
   "metadata": {},
   "outputs": [
    {
     "data": {
      "text/plain": [
       "[('', 112),\n",
       " ('bazında', 3),\n",
       " ('kullandıkları', 1),\n",
       " ('ortalama', 3),\n",
       " ('en', 4),\n",
       " ('fazla', 3),\n",
       " ('alan', 6),\n",
       " ('Çatalca,', 4),\n",
       " ('Arnavutköy', 3),\n",
       " ('İstanbul’un', 5),\n",
       " ('daha', 6),\n",
       " ('ve', 42),\n",
       " ('alanlarının', 4),\n",
       " ('ilçeleri', 3),\n",
       " ('plana', 3),\n",
       " ('Bunda', 1),\n",
       " ('fiyatlarının', 1),\n",
       " ('düşük', 1),\n",
       " ('karayolu,', 1),\n",
       " ('demiryolu', 1)]"
      ]
     },
     "execution_count": 27,
     "metadata": {},
     "output_type": "execute_result"
    }
   ],
   "source": [
    "istac_rdd_kelimeler_sayilari_reduce.take(20)"
   ]
  },
  {
   "cell_type": "code",
   "execution_count": 28,
   "id": "73df3ede",
   "metadata": {},
   "outputs": [],
   "source": [
    "istac_rdd_kelimeler_sayilari_reduce_sort = istac_rdd_kelimeler_sayilari_reduce.map(lambda x: (x[1], x[0]))"
   ]
  },
  {
   "cell_type": "code",
   "execution_count": 29,
   "id": "0a20e465",
   "metadata": {},
   "outputs": [
    {
     "data": {
      "text/plain": [
       "[(112, ''),\n",
       " (3, 'bazında'),\n",
       " (1, 'kullandıkları'),\n",
       " (3, 'ortalama'),\n",
       " (4, 'en'),\n",
       " (3, 'fazla'),\n",
       " (6, 'alan'),\n",
       " (4, 'Çatalca,'),\n",
       " (3, 'Arnavutköy'),\n",
       " (5, 'İstanbul’un'),\n",
       " (6, 'daha'),\n",
       " (42, 've'),\n",
       " (4, 'alanlarının'),\n",
       " (3, 'ilçeleri'),\n",
       " (3, 'plana'),\n",
       " (1, 'Bunda'),\n",
       " (1, 'fiyatlarının'),\n",
       " (1, 'düşük'),\n",
       " (1, 'karayolu,'),\n",
       " (1, 'demiryolu')]"
      ]
     },
     "execution_count": 29,
     "metadata": {},
     "output_type": "execute_result"
    }
   ],
   "source": [
    "istac_rdd_kelimeler_sayilari_reduce_sort.take(20)"
   ]
  },
  {
   "cell_type": "code",
   "execution_count": 30,
   "id": "1066fed8",
   "metadata": {},
   "outputs": [
    {
     "data": {
      "text/plain": [
       "[(112, ''),\n",
       " (42, 've'),\n",
       " (12, 'lojistik'),\n",
       " (11, 'olarak'),\n",
       " (10, 'bir'),\n",
       " (9, 'yük'),\n",
       " (9, 'gibi'),\n",
       " (8, 'ile'),\n",
       " (6, 'alan'),\n",
       " (6, 'daha'),\n",
       " (6, 'Lojistik'),\n",
       " (6, 'ilçeler'),\n",
       " (6, 'alanları'),\n",
       " (6, 'bu'),\n",
       " (5, 'İstanbul’un'),\n",
       " (5, 'depolama'),\n",
       " (5, 'kentsel'),\n",
       " (5, 'Şile,'),\n",
       " (5, 'Ana'),\n",
       " (5, 'İstanbul')]"
      ]
     },
     "execution_count": 30,
     "metadata": {},
     "output_type": "execute_result"
    }
   ],
   "source": [
    "istac_rdd_kelimeler_sayilari_reduce_sort.sortByKey(False).take(20)"
   ]
  },
  {
   "cell_type": "code",
   "execution_count": null,
   "id": "f9c53d29",
   "metadata": {},
   "outputs": [],
   "source": []
  }
 ],
 "metadata": {
  "kernelspec": {
   "display_name": "Python 3",
   "language": "python",
   "name": "python3"
  },
  "language_info": {
   "codemirror_mode": {
    "name": "ipython",
    "version": 3
   },
   "file_extension": ".py",
   "mimetype": "text/x-python",
   "name": "python",
   "nbconvert_exporter": "python",
   "pygments_lexer": "ipython3",
   "version": "3.8.8"
  }
 },
 "nbformat": 4,
 "nbformat_minor": 5
}
